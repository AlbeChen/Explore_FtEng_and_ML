{
 "cells": [
  {
   "cell_type": "markdown",
   "metadata": {},
   "source": [
    "## 1. Introduction\n",
    "### 1.1. Background and Objective\n",
    "This report overviews the process of creating a model from the \"Titanic: Machine Learning from Disaster\" on Kaggle ( https://www.kaggle.com/c/titanic ). This Kaggle competition provides a detailed dataset on the passengers on the infamous Titanic wreck which consist of a training set and a testing set. The model aims to accurately predicting the survivors of the disaster given specific characterizations associated with them.\n",
    "On April 15th, 1912, the Titanic sank during her maiden voyage and subsequently resulted in the deaths of 68% (1502 / 2224) of the passengers and crew. The dataset provided includes various passengers and crew member's information such as age, sex, passenger class, fare, etc. With this detail, the goal of this challenge is the build a model to predict the survival for a given passenger and to ultimately answer \"What type of people survived the sinking of the Titanic?\".\n",
    "### 1.2. Process\n",
    "1. Research Objective\n",
    "    - Setup Space and Import Dataset\n",
    "    - Familiarize with Data columns\n",
    "    - Initial Overview and Visualization\n",
    "- Cleaning, Organizing, and Preparing Data\n",
    "    - Feature Engineering\n",
    "    - Addressing Missing Data\n",
    "    - Consider Binning Numerical Data\n",
    "    - One-Hot Encoding Categorical Data\n",
    "    - Create Pipeline for Preprocessing\n",
    "- Model and Predict Dataset\n",
    "    - Test Various Models\n",
    "    - Feature Selection\n",
    "    - Hyperparameter Tuning\n",
    "    - Conclusion and Exporting Results"
   ]
  },
  {
   "cell_type": "markdown",
   "metadata": {},
   "source": [
    "### 1.3. Importing Libraries and Dataset"
   ]
  },
  {
   "cell_type": "code",
   "execution_count": 1,
   "metadata": {},
   "outputs": [],
   "source": [
    "# Importing\n",
    "import pandas as pd\n",
    "import seaborn as sns\n",
    "import matplotlib.pyplot as plt\n",
    "import numpy as np\n",
    "\n",
    "from sklearn.compose import ColumnTransformer\n",
    "from sklearn.pipeline import Pipeline\n",
    "from sklearn.impute import SimpleImputer\n",
    "from sklearn.preprocessing import OneHotEncoder\n",
    "from sklearn.ensemble import RandomForestRegressor\n",
    "from sklearn.ensemble import RandomForestClassifier\n",
    "from sklearn.metrics import mean_absolute_error\n",
    "from sklearn.metrics import mean_absolute_error\n",
    "from sklearn.model_selection import train_test_split\n",
    "from sklearn.feature_selection import SelectFromModel"
   ]
  },
  {
   "cell_type": "code",
   "execution_count": 2,
   "metadata": {},
   "outputs": [],
   "source": [
    "# Reading Data\n",
    "titanic_data = pd.read_csv('train.csv', index_col=\"PassengerId\")\n",
    "titanic_test = pd.read_csv('test.csv', index_col=\"PassengerId\")\n",
    "\n",
    "# Combine Data\n",
    "titanic_data['train'] = 1\n",
    "titanic_test['train'] = 0\n",
    "fd = pd.concat([titanic_data, titanic_test], sort=True)"
   ]
  },
  {
   "cell_type": "markdown",
   "metadata": {},
   "source": [
    "## 2. Initial Overview and Visualization\n",
    "### 2.1. Initial Data Overview\n",
    "After importing the datafiles provided by Kaggle, it's important to explore the dataset to provide insight on how to organize, adjust, and clean it in order to create an appropriate model to address the objective. The main aspects to extract are the type of data (categorical vs numeric or, continuous vs. independent), columns with missing data, and columns that can pose difficulty to clean. Below, we just observe the data for basic data."
   ]
  },
  {
   "cell_type": "code",
   "execution_count": 3,
   "metadata": {},
   "outputs": [
    {
     "data": {
      "text/plain": [
       "Index(['Age', 'Cabin', 'Embarked', 'Fare', 'Name', 'Parch', 'Pclass', 'Sex',\n",
       "       'SibSp', 'Survived', 'Ticket', 'train'],\n",
       "      dtype='object')"
      ]
     },
     "execution_count": 3,
     "metadata": {},
     "output_type": "execute_result"
    }
   ],
   "source": [
    "fd.columns"
   ]
  },
  {
   "cell_type": "code",
   "execution_count": 4,
   "metadata": {
    "scrolled": false
   },
   "outputs": [
    {
     "data": {
      "text/html": [
       "<div>\n",
       "<style scoped>\n",
       "    .dataframe tbody tr th:only-of-type {\n",
       "        vertical-align: middle;\n",
       "    }\n",
       "\n",
       "    .dataframe tbody tr th {\n",
       "        vertical-align: top;\n",
       "    }\n",
       "\n",
       "    .dataframe thead th {\n",
       "        text-align: right;\n",
       "    }\n",
       "</style>\n",
       "<table border=\"1\" class=\"dataframe\">\n",
       "  <thead>\n",
       "    <tr style=\"text-align: right;\">\n",
       "      <th></th>\n",
       "      <th>Age</th>\n",
       "      <th>Cabin</th>\n",
       "      <th>Embarked</th>\n",
       "      <th>Fare</th>\n",
       "      <th>Name</th>\n",
       "      <th>Parch</th>\n",
       "      <th>Pclass</th>\n",
       "      <th>Sex</th>\n",
       "      <th>SibSp</th>\n",
       "      <th>Survived</th>\n",
       "      <th>Ticket</th>\n",
       "      <th>train</th>\n",
       "    </tr>\n",
       "    <tr>\n",
       "      <th>PassengerId</th>\n",
       "      <th></th>\n",
       "      <th></th>\n",
       "      <th></th>\n",
       "      <th></th>\n",
       "      <th></th>\n",
       "      <th></th>\n",
       "      <th></th>\n",
       "      <th></th>\n",
       "      <th></th>\n",
       "      <th></th>\n",
       "      <th></th>\n",
       "      <th></th>\n",
       "    </tr>\n",
       "  </thead>\n",
       "  <tbody>\n",
       "    <tr>\n",
       "      <td>1</td>\n",
       "      <td>22.0</td>\n",
       "      <td>NaN</td>\n",
       "      <td>S</td>\n",
       "      <td>7.2500</td>\n",
       "      <td>Braund, Mr. Owen Harris</td>\n",
       "      <td>0</td>\n",
       "      <td>3</td>\n",
       "      <td>male</td>\n",
       "      <td>1</td>\n",
       "      <td>0.0</td>\n",
       "      <td>A/5 21171</td>\n",
       "      <td>1</td>\n",
       "    </tr>\n",
       "    <tr>\n",
       "      <td>2</td>\n",
       "      <td>38.0</td>\n",
       "      <td>C85</td>\n",
       "      <td>C</td>\n",
       "      <td>71.2833</td>\n",
       "      <td>Cumings, Mrs. John Bradley (Florence Briggs Th...</td>\n",
       "      <td>0</td>\n",
       "      <td>1</td>\n",
       "      <td>female</td>\n",
       "      <td>1</td>\n",
       "      <td>1.0</td>\n",
       "      <td>PC 17599</td>\n",
       "      <td>1</td>\n",
       "    </tr>\n",
       "    <tr>\n",
       "      <td>3</td>\n",
       "      <td>26.0</td>\n",
       "      <td>NaN</td>\n",
       "      <td>S</td>\n",
       "      <td>7.9250</td>\n",
       "      <td>Heikkinen, Miss. Laina</td>\n",
       "      <td>0</td>\n",
       "      <td>3</td>\n",
       "      <td>female</td>\n",
       "      <td>0</td>\n",
       "      <td>1.0</td>\n",
       "      <td>STON/O2. 3101282</td>\n",
       "      <td>1</td>\n",
       "    </tr>\n",
       "    <tr>\n",
       "      <td>4</td>\n",
       "      <td>35.0</td>\n",
       "      <td>C123</td>\n",
       "      <td>S</td>\n",
       "      <td>53.1000</td>\n",
       "      <td>Futrelle, Mrs. Jacques Heath (Lily May Peel)</td>\n",
       "      <td>0</td>\n",
       "      <td>1</td>\n",
       "      <td>female</td>\n",
       "      <td>1</td>\n",
       "      <td>1.0</td>\n",
       "      <td>113803</td>\n",
       "      <td>1</td>\n",
       "    </tr>\n",
       "    <tr>\n",
       "      <td>5</td>\n",
       "      <td>35.0</td>\n",
       "      <td>NaN</td>\n",
       "      <td>S</td>\n",
       "      <td>8.0500</td>\n",
       "      <td>Allen, Mr. William Henry</td>\n",
       "      <td>0</td>\n",
       "      <td>3</td>\n",
       "      <td>male</td>\n",
       "      <td>0</td>\n",
       "      <td>0.0</td>\n",
       "      <td>373450</td>\n",
       "      <td>1</td>\n",
       "    </tr>\n",
       "  </tbody>\n",
       "</table>\n",
       "</div>"
      ],
      "text/plain": [
       "              Age Cabin Embarked     Fare  \\\n",
       "PassengerId                                 \n",
       "1            22.0   NaN        S   7.2500   \n",
       "2            38.0   C85        C  71.2833   \n",
       "3            26.0   NaN        S   7.9250   \n",
       "4            35.0  C123        S  53.1000   \n",
       "5            35.0   NaN        S   8.0500   \n",
       "\n",
       "                                                          Name  Parch  Pclass  \\\n",
       "PassengerId                                                                     \n",
       "1                                      Braund, Mr. Owen Harris      0       3   \n",
       "2            Cumings, Mrs. John Bradley (Florence Briggs Th...      0       1   \n",
       "3                                       Heikkinen, Miss. Laina      0       3   \n",
       "4                 Futrelle, Mrs. Jacques Heath (Lily May Peel)      0       1   \n",
       "5                                     Allen, Mr. William Henry      0       3   \n",
       "\n",
       "                Sex  SibSp  Survived            Ticket  train  \n",
       "PassengerId                                                    \n",
       "1              male      1       0.0         A/5 21171      1  \n",
       "2            female      1       1.0          PC 17599      1  \n",
       "3            female      0       1.0  STON/O2. 3101282      1  \n",
       "4            female      1       1.0            113803      1  \n",
       "5              male      0       0.0            373450      1  "
      ]
     },
     "execution_count": 4,
     "metadata": {},
     "output_type": "execute_result"
    }
   ],
   "source": [
    "fd.head()"
   ]
  },
  {
   "cell_type": "markdown",
   "metadata": {},
   "source": [
    "From the data below we get a brief description of the numerical and object data from the dataset. The information shown gives a general overview of the information we're given and insight into how we should organize it. The following are some observations for each column:\n",
    "\n",
    "**Numerical**\n",
    "- **Pclass :** Most passengers were in 3rd class (+50% 3rd class, +25% in 2nd class, <25% in 1st class)\n",
    "- **Age :** Most people on the ship were between 20 - 40 years old (Average age of 30, Range: 0.5 - 80 y.o, 25%  >38 or <20 y.o.)\n",
    "- **SibSp :** Few passengers had more than one siblings or spouses (<25% had 2+ spouse or siblings)\n",
    "- **Parch :** Very few passengers had a parent or child on the ride (<25% had 1+ parent or child)\n",
    "- **Fare :** Most passengers had paid <\\\\$31 even though the average was \\\\$32 (Average \\\\$32, Range \\\\$0 - \\\\$512)\n",
    "\n",
    "**Categorical**\n",
    "- **Name / Cabin / Ticket :** Large number of unique values, but some commonalities can be extracted\n",
    "    - **Name :** Should be able to extract prefix of each name\n",
    "    - **Cabin :** Might be able to see some information in cabin numbers to convert to numerical values\n",
    "    - **Ticket :** Unsure about these values - looks random, but looking into letter combinations\n",
    "- **Sex :** Most passengers male (~65% male)\n",
    "- **Embarked :** Most passengers embarked on Southampton (C = Cherbourg, Q = Queenstown, S = Southampton)\n"
   ]
  },
  {
   "cell_type": "code",
   "execution_count": 5,
   "metadata": {},
   "outputs": [
    {
     "name": "stdout",
     "output_type": "stream",
     "text": [
      "<class 'pandas.core.frame.DataFrame'>\n",
      "Int64Index: 1309 entries, 1 to 1309\n",
      "Data columns (total 12 columns):\n",
      "Age         1046 non-null float64\n",
      "Cabin       295 non-null object\n",
      "Embarked    1307 non-null object\n",
      "Fare        1308 non-null float64\n",
      "Name        1309 non-null object\n",
      "Parch       1309 non-null int64\n",
      "Pclass      1309 non-null int64\n",
      "Sex         1309 non-null object\n",
      "SibSp       1309 non-null int64\n",
      "Survived    891 non-null float64\n",
      "Ticket      1309 non-null object\n",
      "train       1309 non-null int64\n",
      "dtypes: float64(3), int64(4), object(5)\n",
      "memory usage: 132.9+ KB\n"
     ]
    }
   ],
   "source": [
    "fd.info()"
   ]
  },
  {
   "cell_type": "code",
   "execution_count": 6,
   "metadata": {
    "scrolled": true
   },
   "outputs": [
    {
     "data": {
      "text/html": [
       "<div>\n",
       "<style scoped>\n",
       "    .dataframe tbody tr th:only-of-type {\n",
       "        vertical-align: middle;\n",
       "    }\n",
       "\n",
       "    .dataframe tbody tr th {\n",
       "        vertical-align: top;\n",
       "    }\n",
       "\n",
       "    .dataframe thead th {\n",
       "        text-align: right;\n",
       "    }\n",
       "</style>\n",
       "<table border=\"1\" class=\"dataframe\">\n",
       "  <thead>\n",
       "    <tr style=\"text-align: right;\">\n",
       "      <th></th>\n",
       "      <th>Age</th>\n",
       "      <th>Fare</th>\n",
       "      <th>Parch</th>\n",
       "      <th>Pclass</th>\n",
       "      <th>SibSp</th>\n",
       "      <th>Survived</th>\n",
       "      <th>train</th>\n",
       "    </tr>\n",
       "  </thead>\n",
       "  <tbody>\n",
       "    <tr>\n",
       "      <td>count</td>\n",
       "      <td>1046.000000</td>\n",
       "      <td>1308.000000</td>\n",
       "      <td>1309.000000</td>\n",
       "      <td>1309.000000</td>\n",
       "      <td>1309.000000</td>\n",
       "      <td>891.000000</td>\n",
       "      <td>1309.000000</td>\n",
       "    </tr>\n",
       "    <tr>\n",
       "      <td>mean</td>\n",
       "      <td>29.881138</td>\n",
       "      <td>33.295479</td>\n",
       "      <td>0.385027</td>\n",
       "      <td>2.294882</td>\n",
       "      <td>0.498854</td>\n",
       "      <td>0.383838</td>\n",
       "      <td>0.680672</td>\n",
       "    </tr>\n",
       "    <tr>\n",
       "      <td>std</td>\n",
       "      <td>14.413493</td>\n",
       "      <td>51.758668</td>\n",
       "      <td>0.865560</td>\n",
       "      <td>0.837836</td>\n",
       "      <td>1.041658</td>\n",
       "      <td>0.486592</td>\n",
       "      <td>0.466394</td>\n",
       "    </tr>\n",
       "    <tr>\n",
       "      <td>min</td>\n",
       "      <td>0.170000</td>\n",
       "      <td>0.000000</td>\n",
       "      <td>0.000000</td>\n",
       "      <td>1.000000</td>\n",
       "      <td>0.000000</td>\n",
       "      <td>0.000000</td>\n",
       "      <td>0.000000</td>\n",
       "    </tr>\n",
       "    <tr>\n",
       "      <td>25%</td>\n",
       "      <td>21.000000</td>\n",
       "      <td>7.895800</td>\n",
       "      <td>0.000000</td>\n",
       "      <td>2.000000</td>\n",
       "      <td>0.000000</td>\n",
       "      <td>0.000000</td>\n",
       "      <td>0.000000</td>\n",
       "    </tr>\n",
       "    <tr>\n",
       "      <td>50%</td>\n",
       "      <td>28.000000</td>\n",
       "      <td>14.454200</td>\n",
       "      <td>0.000000</td>\n",
       "      <td>3.000000</td>\n",
       "      <td>0.000000</td>\n",
       "      <td>0.000000</td>\n",
       "      <td>1.000000</td>\n",
       "    </tr>\n",
       "    <tr>\n",
       "      <td>75%</td>\n",
       "      <td>39.000000</td>\n",
       "      <td>31.275000</td>\n",
       "      <td>0.000000</td>\n",
       "      <td>3.000000</td>\n",
       "      <td>1.000000</td>\n",
       "      <td>1.000000</td>\n",
       "      <td>1.000000</td>\n",
       "    </tr>\n",
       "    <tr>\n",
       "      <td>max</td>\n",
       "      <td>80.000000</td>\n",
       "      <td>512.329200</td>\n",
       "      <td>9.000000</td>\n",
       "      <td>3.000000</td>\n",
       "      <td>8.000000</td>\n",
       "      <td>1.000000</td>\n",
       "      <td>1.000000</td>\n",
       "    </tr>\n",
       "  </tbody>\n",
       "</table>\n",
       "</div>"
      ],
      "text/plain": [
       "               Age         Fare        Parch       Pclass        SibSp  \\\n",
       "count  1046.000000  1308.000000  1309.000000  1309.000000  1309.000000   \n",
       "mean     29.881138    33.295479     0.385027     2.294882     0.498854   \n",
       "std      14.413493    51.758668     0.865560     0.837836     1.041658   \n",
       "min       0.170000     0.000000     0.000000     1.000000     0.000000   \n",
       "25%      21.000000     7.895800     0.000000     2.000000     0.000000   \n",
       "50%      28.000000    14.454200     0.000000     3.000000     0.000000   \n",
       "75%      39.000000    31.275000     0.000000     3.000000     1.000000   \n",
       "max      80.000000   512.329200     9.000000     3.000000     8.000000   \n",
       "\n",
       "         Survived        train  \n",
       "count  891.000000  1309.000000  \n",
       "mean     0.383838     0.680672  \n",
       "std      0.486592     0.466394  \n",
       "min      0.000000     0.000000  \n",
       "25%      0.000000     0.000000  \n",
       "50%      0.000000     1.000000  \n",
       "75%      1.000000     1.000000  \n",
       "max      1.000000     1.000000  "
      ]
     },
     "execution_count": 6,
     "metadata": {},
     "output_type": "execute_result"
    }
   ],
   "source": [
    "fd.describe()"
   ]
  },
  {
   "cell_type": "code",
   "execution_count": 7,
   "metadata": {},
   "outputs": [
    {
     "data": {
      "text/html": [
       "<div>\n",
       "<style scoped>\n",
       "    .dataframe tbody tr th:only-of-type {\n",
       "        vertical-align: middle;\n",
       "    }\n",
       "\n",
       "    .dataframe tbody tr th {\n",
       "        vertical-align: top;\n",
       "    }\n",
       "\n",
       "    .dataframe thead th {\n",
       "        text-align: right;\n",
       "    }\n",
       "</style>\n",
       "<table border=\"1\" class=\"dataframe\">\n",
       "  <thead>\n",
       "    <tr style=\"text-align: right;\">\n",
       "      <th></th>\n",
       "      <th>Cabin</th>\n",
       "      <th>Embarked</th>\n",
       "      <th>Name</th>\n",
       "      <th>Sex</th>\n",
       "      <th>Ticket</th>\n",
       "    </tr>\n",
       "  </thead>\n",
       "  <tbody>\n",
       "    <tr>\n",
       "      <td>count</td>\n",
       "      <td>295</td>\n",
       "      <td>1307</td>\n",
       "      <td>1309</td>\n",
       "      <td>1309</td>\n",
       "      <td>1309</td>\n",
       "    </tr>\n",
       "    <tr>\n",
       "      <td>unique</td>\n",
       "      <td>186</td>\n",
       "      <td>3</td>\n",
       "      <td>1307</td>\n",
       "      <td>2</td>\n",
       "      <td>929</td>\n",
       "    </tr>\n",
       "    <tr>\n",
       "      <td>top</td>\n",
       "      <td>C23 C25 C27</td>\n",
       "      <td>S</td>\n",
       "      <td>Kelly, Mr. James</td>\n",
       "      <td>male</td>\n",
       "      <td>CA. 2343</td>\n",
       "    </tr>\n",
       "    <tr>\n",
       "      <td>freq</td>\n",
       "      <td>6</td>\n",
       "      <td>914</td>\n",
       "      <td>2</td>\n",
       "      <td>843</td>\n",
       "      <td>11</td>\n",
       "    </tr>\n",
       "  </tbody>\n",
       "</table>\n",
       "</div>"
      ],
      "text/plain": [
       "              Cabin Embarked              Name   Sex    Ticket\n",
       "count           295     1307              1309  1309      1309\n",
       "unique          186        3              1307     2       929\n",
       "top     C23 C25 C27        S  Kelly, Mr. James  male  CA. 2343\n",
       "freq              6      914                 2   843        11"
      ]
     },
     "execution_count": 7,
     "metadata": {},
     "output_type": "execute_result"
    }
   ],
   "source": [
    "fd.describe(include=['O'])"
   ]
  },
  {
   "cell_type": "markdown",
   "metadata": {},
   "source": [
    "From the Kaggle legend for the dataset, we know the type of data for some of the column but having the head of the training set shows some actual columns to help with understanding how it's formatted in practice. To summarize the understanding of the data, a table will be made to simplify the organization and cleaning of the data before modeling. The basic properties I will categorize are:\n",
    "- **Numerical vs. Categorical -** To differentiate between numerical vs. categorical, numbers vs. letters cannot be the only thing compared. Numerical data contains information on a scale where each value can be compared to each other quantitively. Comparatively, while categorical data can have relative values, the true difference is unknown.\n",
    "    - **Numerical :** discreet, continuous, timeseries\n",
    "    - **Categorical :** ordinal, nominal, binary\n",
    "- **Complete vs. Missing -** Missing values must be dealt with in one of many methods, so should be noted for future organization of the data.\n",
    "- **Cardinality (if Categorical) -** For categorical values, it may be difficult of input into the model if it has too many cardinalities. Therefore, these columns may be dropped, or manipulation of the columns' data must be performed to lower the cardinality."
   ]
  },
  {
   "cell_type": "markdown",
   "metadata": {},
   "source": [
    "|**Name**|Column|Type|Complete|Cardinality|\n",
    "|-|-|-|-|-|\n",
    "|**Passenger Class**|Pclass|Catagorical (Ordinal)|Complete|3|\n",
    "|**Name**|Name|Catagorical (Nominal)|Complete|891|\n",
    "|**Sex**|Sex|Catagorical (Nominal)|Complete|2|\n",
    "|**Age in Years**|Age|Numerical (continuous)|Incomplete|n/a|\n",
    "|**Siblings or Spouses**|SibSp|Numerical (Discrete)|Complete|n/a|\n",
    "|**Parents or Children**|Parch|Numerical (Discrete)|Complete|n/a|\n",
    "|**Ticket Number**|Ticket|Catagorical (Nominal)|Complete|681|\n",
    "|**Passenger Fare**|Fare|Numerical (Continuous)|Complete|n/a|\n",
    "|**Cabin Number**|Cabin|Catagorical (Nominal)|Incomplete|147|\n",
    "|**Port Embarked**|Embarked|Catagorical (Nominal)|Incomplete|3|"
   ]
  },
  {
   "cell_type": "markdown",
   "metadata": {},
   "source": [
    "### 2.2. Initial Visualization\n",
    "#### 2.2.1. Gender (Sex)\n",
    "With gender, it's assumed that woman would survive more than men due to gender norms and expectations. Especially at the time given the phrase \"woman and children first\" which is still referred to this day. As seen in comparing the percent of woman and men that survived, it's clear that woman were greatly favored to survive."
   ]
  },
  {
   "cell_type": "code",
   "execution_count": 8,
   "metadata": {},
   "outputs": [
    {
     "data": {
      "image/png": "[encoded data removed]",
      "text/plain": [
       "<Figure size 1080x360 with 2 Axes>"
      ]
     },
     "metadata": {
      "needs_background": "light"
     },
     "output_type": "display_data"
    }
   ],
   "source": [
    "fig, ax = plt.subplots(1, 2, figsize=(15, 5))\n",
    "sns.countplot(x=\"Survived\", hue=\"Sex\", data=fd, ax=ax[0])\n",
    "sns.catplot(x=\"Sex\", y=\"Survived\", data=fd, kind=\"bar\", ax=ax[1])\n",
    "plt.close(2)"
   ]
  },
  {
   "cell_type": "markdown",
   "metadata": {},
   "source": [
    "#### 2.2.2. Passenger Class (Pclass)\n",
    "Knowing the passenger class of each passenger allows a prediction on the passenger's social class. Seeing how passengers in the first class most likely were those who were more privileged, we assume that passengers in first class will have higher survival rates than those and second, while those in second class would have higher survival than those in third class. As seen, this assumption is correct"
   ]
  },
  {
   "cell_type": "code",
   "execution_count": 9,
   "metadata": {},
   "outputs": [
    {
     "data": {
      "image/png": "[encoded data removed]",
      "text/plain": [
       "<Figure size 1080x360 with 2 Axes>"
      ]
     },
     "metadata": {
      "needs_background": "light"
     },
     "output_type": "display_data"
    }
   ],
   "source": [
    "fig, ax = plt.subplots(1, 2, figsize=(15, 5))\n",
    "sns.countplot(x=\"Survived\", hue=\"Pclass\", data=fd, ax=ax[0])\n",
    "sns.catplot(x=\"Pclass\", y=\"Survived\", data=fd, kind=\"bar\", ax=ax[1])\n",
    "plt.close(2)"
   ]
  },
  {
   "cell_type": "markdown",
   "metadata": {},
   "source": [
    "#### 2.2.3. Embarked Location (Embarked)\n",
    "Each embarked location denoted a sperate location. There seems to be more people embarked in location C that survived, so that indicates that for some reason people that embarked from that location were more correlated with survival. Given passenger class, a larger majority of members that boarded in location C were from Passenger Class 1."
   ]
  },
  {
   "cell_type": "code",
   "execution_count": 10,
   "metadata": {},
   "outputs": [
    {
     "data": {
      "image/png": "[encoded data removed]",
      "text/plain": [
       "<Figure size 1080x360 with 2 Axes>"
      ]
     },
     "metadata": {
      "needs_background": "light"
     },
     "output_type": "display_data"
    }
   ],
   "source": [
    "fig, ax = plt.subplots(1, 2, figsize=(15, 5))\n",
    "sns.countplot(x=\"Pclass\", hue=\"Embarked\", data=fd, ax=ax[1])\n",
    "sns.catplot(x=\"Embarked\", y=\"Survived\", data=fd, kind=\"bar\", ax=ax[0])\n",
    "plt.close(2)"
   ]
  },
  {
   "cell_type": "markdown",
   "metadata": {},
   "source": [
    "#### 2.2.4. Age Distribution (Age)\n",
    "Passenger ages seem to be normally distributed and show a mean of around 30 years old. There seems to be a spike at a lower age range which shows that the survival rate of younger passengers are higher."
   ]
  },
  {
   "cell_type": "code",
   "execution_count": 11,
   "metadata": {},
   "outputs": [
    {
     "data": {
      "image/png": "[encoded data removed]",
      "text/plain": [
       "<Figure size 432x288 with 1 Axes>"
      ]
     },
     "metadata": {
      "needs_background": "light"
     },
     "output_type": "display_data"
    }
   ],
   "source": [
    "g = sns.kdeplot(fd[\"Age\"][(fd[\"Survived\"] == 0) & (fd[\"Age\"].notnull())])\n",
    "g = sns.kdeplot(fd[\"Age\"][(fd[\"Survived\"] == 1) & (fd[\"Age\"].notnull())])\n",
    "g.set_xlabel(\"Age\")\n",
    "g.set_ylabel(\"Frequency\")\n",
    "g = g.legend([\"Not Survived\", \"Survived\"])"
   ]
  },
  {
   "cell_type": "markdown",
   "metadata": {},
   "source": [
    "#### 2.2.5. Fare Distribution (Fare)\n",
    "It's seen that passengers at lower fares show a lower survival rates compared to those paying higher fares. This is seen to coincide with the fares that each passenger class is paying, with Pclass 3 and 2 paying the least (below $100) and Pclass 1 seeming to pay more."
   ]
  },
  {
   "cell_type": "code",
   "execution_count": 12,
   "metadata": {},
   "outputs": [
    {
     "data": {
      "image/png": "[encoded data removed]",
      "text/plain": [
       "<Figure size 432x288 with 1 Axes>"
      ]
     },
     "metadata": {
      "needs_background": "light"
     },
     "output_type": "display_data"
    }
   ],
   "source": [
    "g = sns.kdeplot(fd[\"Fare\"][(fd[\"Survived\"] == 0) & (fd[\"Fare\"].notnull())])\n",
    "g = sns.kdeplot(fd[\"Fare\"][(fd[\"Survived\"] == 1) & (fd[\"Fare\"].notnull())])\n",
    "g.set_xlabel(\"Fare\")\n",
    "g.set_ylabel(\"Frequency\")\n",
    "g = g.legend([\"Not Survived\", \"Survived\"])"
   ]
  },
  {
   "cell_type": "code",
   "execution_count": 13,
   "metadata": {},
   "outputs": [
    {
     "data": {
      "image/png": "[encoded data removed]",
      "text/plain": [
       "<Figure size 656x216 with 3 Axes>"
      ]
     },
     "metadata": {
      "needs_background": "light"
     },
     "output_type": "display_data"
    }
   ],
   "source": [
    "grid = sns.FacetGrid(fd, col='Pclass')\n",
    "grid.map(plt.hist, 'Fare', alpha=.5, bins=10)\n",
    "grid = grid.add_legend()"
   ]
  },
  {
   "cell_type": "markdown",
   "metadata": {},
   "source": [
    "## 3. Feature Engineering\n",
    "### 3.1 Related Passengers (SibSp & Parch)\n",
    "When looking at siblings, spouses, parents or children related to a passenger, it is important to see if there's any correlation between the two seeing how these values are related in nature. Therefore, the survival given the number of SibSp or Parch are graphed below.\n",
    "\n",
    "It's observed that both SibSp and Parch hold similar trends of solo members having a lower survival rate compared to families of two or three which hold higher survival rates. The same trend is seen in combined family sizes, and outlines that large families have low survival rates while families of 2, 3, and 4 are similar in survival rates."
   ]
  },
  {
   "cell_type": "code",
   "execution_count": 14,
   "metadata": {},
   "outputs": [
    {
     "data": {
      "image/png": "[encoded data removed]",
      "text/plain": [
       "<Figure size 1440x360 with 3 Axes>"
      ]
     },
     "metadata": {
      "needs_background": "light"
     },
     "output_type": "display_data"
    }
   ],
   "source": [
    "# Test data set with related\n",
    "related_test = fd.copy()\n",
    "related_test['Related'] = related_test.SibSp + related_test.Parch\n",
    "\n",
    "# Plotting Values\n",
    "fig, ax = plt.subplots(1, 3, figsize=(20, 5))\n",
    "\n",
    "sns.catplot(x=\"SibSp\", y=\"Survived\", data=related_test, kind=\"bar\", ax=ax[0])\n",
    "sns.catplot(x=\"Parch\", y=\"Survived\", data=related_test, kind=\"bar\", ax=ax[1])\n",
    "sns.catplot(x=\"Related\", y=\"Survived\", data=related_test, kind=\"bar\", ax=ax[2])\n",
    "\n",
    "for i in range(2, 5):\n",
    "    plt.close(i)"
   ]
  },
  {
   "cell_type": "markdown",
   "metadata": {},
   "source": [
    "Seeing how total number or related passengers hold similar and more information than the SibSp and Parch, these columns can be condensed and dropped in favor of a Related column. This column can also be segregated into different bins according to size of the family.\n",
    "\n",
    "This adjustment to the columns is outlined below in the **combined_related** function."
   ]
  },
  {
   "cell_type": "code",
   "execution_count": 15,
   "metadata": {},
   "outputs": [],
   "source": [
    "def combine_related(df):\n",
    "    df['Related'] = df.SibSp + df.Parch\n",
    "    df['Related'] = df['Related'].map(lambda y: \"Solo\" if y == 0\n",
    "                                      else \"Duo\" if y == 1\n",
    "                                      else \"Trio\" if y == 2\n",
    "                                      else \"Quart\" if y == 3\n",
    "                                      else \"Large\")\n",
    "    df.drop(['SibSp', 'Parch'], axis=1, inplace=True)\n",
    "    return df"
   ]
  },
  {
   "cell_type": "code",
   "execution_count": 16,
   "metadata": {},
   "outputs": [
    {
     "name": "stdout",
     "output_type": "stream",
     "text": [
      "['Solo' 'Duo' 'Trio' 'Quart' 'Large']\n"
     ]
    },
    {
     "data": {
      "text/html": [
       "<div>\n",
       "<style scoped>\n",
       "    .dataframe tbody tr th:only-of-type {\n",
       "        vertical-align: middle;\n",
       "    }\n",
       "\n",
       "    .dataframe tbody tr th {\n",
       "        vertical-align: top;\n",
       "    }\n",
       "\n",
       "    .dataframe thead th {\n",
       "        text-align: right;\n",
       "    }\n",
       "</style>\n",
       "<table border=\"1\" class=\"dataframe\">\n",
       "  <thead>\n",
       "    <tr style=\"text-align: right;\">\n",
       "      <th></th>\n",
       "      <th>Cabin</th>\n",
       "      <th>Embarked</th>\n",
       "      <th>Name</th>\n",
       "      <th>Sex</th>\n",
       "      <th>Ticket</th>\n",
       "      <th>Related</th>\n",
       "    </tr>\n",
       "  </thead>\n",
       "  <tbody>\n",
       "    <tr>\n",
       "      <td>count</td>\n",
       "      <td>295</td>\n",
       "      <td>1307</td>\n",
       "      <td>1309</td>\n",
       "      <td>1309</td>\n",
       "      <td>1309</td>\n",
       "      <td>1309</td>\n",
       "    </tr>\n",
       "    <tr>\n",
       "      <td>unique</td>\n",
       "      <td>186</td>\n",
       "      <td>3</td>\n",
       "      <td>1307</td>\n",
       "      <td>2</td>\n",
       "      <td>929</td>\n",
       "      <td>5</td>\n",
       "    </tr>\n",
       "    <tr>\n",
       "      <td>top</td>\n",
       "      <td>C23 C25 C27</td>\n",
       "      <td>S</td>\n",
       "      <td>Connolly, Miss. Kate</td>\n",
       "      <td>male</td>\n",
       "      <td>CA. 2343</td>\n",
       "      <td>Solo</td>\n",
       "    </tr>\n",
       "    <tr>\n",
       "      <td>freq</td>\n",
       "      <td>6</td>\n",
       "      <td>914</td>\n",
       "      <td>2</td>\n",
       "      <td>843</td>\n",
       "      <td>11</td>\n",
       "      <td>790</td>\n",
       "    </tr>\n",
       "  </tbody>\n",
       "</table>\n",
       "</div>"
      ],
      "text/plain": [
       "              Cabin Embarked                  Name   Sex    Ticket Related\n",
       "count           295     1307                  1309  1309      1309    1309\n",
       "unique          186        3                  1307     2       929       5\n",
       "top     C23 C25 C27        S  Connolly, Miss. Kate  male  CA. 2343    Solo\n",
       "freq              6      914                     2   843        11     790"
      ]
     },
     "execution_count": 16,
     "metadata": {},
     "output_type": "execute_result"
    }
   ],
   "source": [
    "# New copy sorted for graph below\n",
    "combine_related_test = fd.copy()\n",
    "combine_related_test.sort_values(\n",
    "    by=['SibSp', 'Parch'], ascending=True, inplace=True)\n",
    "\n",
    "# Testing function\n",
    "combine_related(combine_related_test)\n",
    "print(combine_related_test.Related.unique())\n",
    "combine_related_test.describe(include=['O'])"
   ]
  },
  {
   "cell_type": "code",
   "execution_count": 17,
   "metadata": {},
   "outputs": [
    {
     "data": {
      "text/html": [
       "<div>\n",
       "<style scoped>\n",
       "    .dataframe tbody tr th:only-of-type {\n",
       "        vertical-align: middle;\n",
       "    }\n",
       "\n",
       "    .dataframe tbody tr th {\n",
       "        vertical-align: top;\n",
       "    }\n",
       "\n",
       "    .dataframe thead th {\n",
       "        text-align: right;\n",
       "    }\n",
       "</style>\n",
       "<table border=\"1\" class=\"dataframe\">\n",
       "  <thead>\n",
       "    <tr style=\"text-align: right;\">\n",
       "      <th>Survived</th>\n",
       "      <th>0.0</th>\n",
       "      <th>1.0</th>\n",
       "    </tr>\n",
       "    <tr>\n",
       "      <th>Related</th>\n",
       "      <th></th>\n",
       "      <th></th>\n",
       "    </tr>\n",
       "  </thead>\n",
       "  <tbody>\n",
       "    <tr>\n",
       "      <td>Duo</td>\n",
       "      <td>72</td>\n",
       "      <td>89</td>\n",
       "    </tr>\n",
       "    <tr>\n",
       "      <td>Large</td>\n",
       "      <td>52</td>\n",
       "      <td>10</td>\n",
       "    </tr>\n",
       "    <tr>\n",
       "      <td>Quart</td>\n",
       "      <td>8</td>\n",
       "      <td>21</td>\n",
       "    </tr>\n",
       "    <tr>\n",
       "      <td>Solo</td>\n",
       "      <td>374</td>\n",
       "      <td>163</td>\n",
       "    </tr>\n",
       "    <tr>\n",
       "      <td>Trio</td>\n",
       "      <td>43</td>\n",
       "      <td>59</td>\n",
       "    </tr>\n",
       "  </tbody>\n",
       "</table>\n",
       "</div>"
      ],
      "text/plain": [
       "Survived  0.0  1.0\n",
       "Related           \n",
       "Duo        72   89\n",
       "Large      52   10\n",
       "Quart       8   21\n",
       "Solo      374  163\n",
       "Trio       43   59"
      ]
     },
     "execution_count": 17,
     "metadata": {},
     "output_type": "execute_result"
    }
   ],
   "source": [
    "pd.crosstab(combine_related_test['Related'], combine_related_test['Survived'])"
   ]
  },
  {
   "cell_type": "code",
   "execution_count": 18,
   "metadata": {
    "scrolled": false
   },
   "outputs": [
    {
     "data": {
      "image/png": "[encoded data removed]",
      "text/plain": [
       "<Figure size 360x360 with 1 Axes>"
      ]
     },
     "metadata": {
      "needs_background": "light"
     },
     "output_type": "display_data"
    }
   ],
   "source": [
    "g = sns.catplot(y=\"Survived\", x=\"Related\",\n",
    "                data=combine_related_test, kind=\"bar\")"
   ]
  },
  {
   "cell_type": "markdown",
   "metadata": {},
   "source": [
    "### 3.2 Passenger's Title (Name)\n",
    "All passengers submitted a name which should realistically be all different which makes the information provided all but useless. However, all passengers provided a prefix which is reliably in the middle of their name, before a period. Therefore, it is possible to extract the following title from each passenger.\n",
    "\n",
    "Seeing how most values are prefixes not used to this day, the values are separated into female and male to understand if it's a feminine or masculine prefix. For other values that are not distinguishable, google was a great help to understand if the title had any greater meaning."
   ]
  },
  {
   "cell_type": "code",
   "execution_count": 19,
   "metadata": {
    "scrolled": false
   },
   "outputs": [
    {
     "name": "stdout",
     "output_type": "stream",
     "text": [
      "['Mr' 'Mrs' 'Miss' 'Master' 'Don' 'Rev' 'Dr' 'Mme' 'Ms' 'Major' 'Lady'\n",
      " 'Sir' 'Mlle' 'Col' 'Capt' 'Countess' 'Jonkheer' 'Dona']\n"
     ]
    },
    {
     "data": {
      "text/html": [
       "<div>\n",
       "<style scoped>\n",
       "    .dataframe tbody tr th:only-of-type {\n",
       "        vertical-align: middle;\n",
       "    }\n",
       "\n",
       "    .dataframe tbody tr th {\n",
       "        vertical-align: top;\n",
       "    }\n",
       "\n",
       "    .dataframe thead th {\n",
       "        text-align: right;\n",
       "    }\n",
       "</style>\n",
       "<table border=\"1\" class=\"dataframe\">\n",
       "  <thead>\n",
       "    <tr style=\"text-align: right;\">\n",
       "      <th>Sex</th>\n",
       "      <th>female</th>\n",
       "      <th>male</th>\n",
       "    </tr>\n",
       "    <tr>\n",
       "      <th>Title</th>\n",
       "      <th></th>\n",
       "      <th></th>\n",
       "    </tr>\n",
       "  </thead>\n",
       "  <tbody>\n",
       "    <tr>\n",
       "      <td>Capt</td>\n",
       "      <td>0</td>\n",
       "      <td>1</td>\n",
       "    </tr>\n",
       "    <tr>\n",
       "      <td>Col</td>\n",
       "      <td>0</td>\n",
       "      <td>4</td>\n",
       "    </tr>\n",
       "    <tr>\n",
       "      <td>Countess</td>\n",
       "      <td>1</td>\n",
       "      <td>0</td>\n",
       "    </tr>\n",
       "    <tr>\n",
       "      <td>Don</td>\n",
       "      <td>0</td>\n",
       "      <td>1</td>\n",
       "    </tr>\n",
       "    <tr>\n",
       "      <td>Dona</td>\n",
       "      <td>1</td>\n",
       "      <td>0</td>\n",
       "    </tr>\n",
       "    <tr>\n",
       "      <td>Dr</td>\n",
       "      <td>1</td>\n",
       "      <td>7</td>\n",
       "    </tr>\n",
       "    <tr>\n",
       "      <td>Jonkheer</td>\n",
       "      <td>0</td>\n",
       "      <td>1</td>\n",
       "    </tr>\n",
       "    <tr>\n",
       "      <td>Lady</td>\n",
       "      <td>1</td>\n",
       "      <td>0</td>\n",
       "    </tr>\n",
       "    <tr>\n",
       "      <td>Major</td>\n",
       "      <td>0</td>\n",
       "      <td>2</td>\n",
       "    </tr>\n",
       "    <tr>\n",
       "      <td>Master</td>\n",
       "      <td>0</td>\n",
       "      <td>61</td>\n",
       "    </tr>\n",
       "    <tr>\n",
       "      <td>Miss</td>\n",
       "      <td>260</td>\n",
       "      <td>0</td>\n",
       "    </tr>\n",
       "    <tr>\n",
       "      <td>Mlle</td>\n",
       "      <td>2</td>\n",
       "      <td>0</td>\n",
       "    </tr>\n",
       "    <tr>\n",
       "      <td>Mme</td>\n",
       "      <td>1</td>\n",
       "      <td>0</td>\n",
       "    </tr>\n",
       "    <tr>\n",
       "      <td>Mr</td>\n",
       "      <td>0</td>\n",
       "      <td>757</td>\n",
       "    </tr>\n",
       "    <tr>\n",
       "      <td>Mrs</td>\n",
       "      <td>197</td>\n",
       "      <td>0</td>\n",
       "    </tr>\n",
       "    <tr>\n",
       "      <td>Ms</td>\n",
       "      <td>2</td>\n",
       "      <td>0</td>\n",
       "    </tr>\n",
       "    <tr>\n",
       "      <td>Rev</td>\n",
       "      <td>0</td>\n",
       "      <td>8</td>\n",
       "    </tr>\n",
       "    <tr>\n",
       "      <td>Sir</td>\n",
       "      <td>0</td>\n",
       "      <td>1</td>\n",
       "    </tr>\n",
       "  </tbody>\n",
       "</table>\n",
       "</div>"
      ],
      "text/plain": [
       "Sex       female  male\n",
       "Title                 \n",
       "Capt           0     1\n",
       "Col            0     4\n",
       "Countess       1     0\n",
       "Don            0     1\n",
       "Dona           1     0\n",
       "Dr             1     7\n",
       "Jonkheer       0     1\n",
       "Lady           1     0\n",
       "Major          0     2\n",
       "Master         0    61\n",
       "Miss         260     0\n",
       "Mlle           2     0\n",
       "Mme            1     0\n",
       "Mr             0   757\n",
       "Mrs          197     0\n",
       "Ms             2     0\n",
       "Rev            0     8\n",
       "Sir            0     1"
      ]
     },
     "execution_count": 19,
     "metadata": {},
     "output_type": "execute_result"
    }
   ],
   "source": [
    "# Test data set extracting title\n",
    "title_test = fd.copy()\n",
    "title_test['Title'] = title_test.Name.str.extract(\n",
    "    ' ([A-Za-z]+)\\.', expand=False)\n",
    "\n",
    "# Observe results\n",
    "print(title_test.Title.unique())\n",
    "pd.crosstab(title_test['Title'], title_test['Sex'])"
   ]
  },
  {
   "cell_type": "markdown",
   "metadata": {},
   "source": [
    "Seeing the survival rates of each title, it's clear that there's a clear difference between the titles. (1) Female titles (and married > un-married females) have significantly higher survival rates, (2) Masters have higher survival rates than other males, (3) there are other rare titles which mostly are royalty. They can be consolidated into the following subsections:\n",
    "\n",
    "**High-Ranking (HR)**: 'Master', 'Don', 'Dr', 'Major', 'Col', 'Capt', 'Jonkheer' <br/>\n",
    "**Married (or HR) Female (MF)**: 'Mrs', 'Mme', 'Countess', 'Dona', 'Lady' <br/>\n",
    "**Not-Married Female (NF)**: 'Miss', 'Mlle', 'Ms' <br/>\n",
    "**Male (MA)**: 'Mr', 'Rev', 'Sir'<br/>"
   ]
  },
  {
   "cell_type": "code",
   "execution_count": 20,
   "metadata": {},
   "outputs": [
    {
     "data": {
      "image/png": "[encoded data removed]",
      "text/plain": [
       "<Figure size 1080x360 with 1 Axes>"
      ]
     },
     "metadata": {
      "needs_background": "light"
     },
     "output_type": "display_data"
    }
   ],
   "source": [
    "g = sns.catplot(y=\"Survived\", x=\"Title\", data=title_test,\n",
    "                kind=\"bar\", height=5, aspect=3)"
   ]
  },
  {
   "cell_type": "code",
   "execution_count": 21,
   "metadata": {},
   "outputs": [
    {
     "data": {
      "text/html": [
       "<div>\n",
       "<style scoped>\n",
       "    .dataframe tbody tr th:only-of-type {\n",
       "        vertical-align: middle;\n",
       "    }\n",
       "\n",
       "    .dataframe tbody tr th {\n",
       "        vertical-align: top;\n",
       "    }\n",
       "\n",
       "    .dataframe thead tr th {\n",
       "        text-align: left;\n",
       "    }\n",
       "\n",
       "    .dataframe thead tr:last-of-type th {\n",
       "        text-align: right;\n",
       "    }\n",
       "</style>\n",
       "<table border=\"1\" class=\"dataframe\">\n",
       "  <thead>\n",
       "    <tr>\n",
       "      <th></th>\n",
       "      <th colspan=\"2\" halign=\"left\">Survived</th>\n",
       "    </tr>\n",
       "    <tr>\n",
       "      <th></th>\n",
       "      <th>mean</th>\n",
       "      <th>count</th>\n",
       "    </tr>\n",
       "    <tr>\n",
       "      <th>Title</th>\n",
       "      <th></th>\n",
       "      <th></th>\n",
       "    </tr>\n",
       "  </thead>\n",
       "  <tbody>\n",
       "    <tr>\n",
       "      <td>Capt</td>\n",
       "      <td>0.000000</td>\n",
       "      <td>1</td>\n",
       "    </tr>\n",
       "    <tr>\n",
       "      <td>Col</td>\n",
       "      <td>0.500000</td>\n",
       "      <td>2</td>\n",
       "    </tr>\n",
       "    <tr>\n",
       "      <td>Countess</td>\n",
       "      <td>1.000000</td>\n",
       "      <td>1</td>\n",
       "    </tr>\n",
       "    <tr>\n",
       "      <td>Don</td>\n",
       "      <td>0.000000</td>\n",
       "      <td>1</td>\n",
       "    </tr>\n",
       "    <tr>\n",
       "      <td>Dona</td>\n",
       "      <td>NaN</td>\n",
       "      <td>0</td>\n",
       "    </tr>\n",
       "    <tr>\n",
       "      <td>Dr</td>\n",
       "      <td>0.428571</td>\n",
       "      <td>7</td>\n",
       "    </tr>\n",
       "    <tr>\n",
       "      <td>Jonkheer</td>\n",
       "      <td>0.000000</td>\n",
       "      <td>1</td>\n",
       "    </tr>\n",
       "    <tr>\n",
       "      <td>Lady</td>\n",
       "      <td>1.000000</td>\n",
       "      <td>1</td>\n",
       "    </tr>\n",
       "    <tr>\n",
       "      <td>Major</td>\n",
       "      <td>0.500000</td>\n",
       "      <td>2</td>\n",
       "    </tr>\n",
       "    <tr>\n",
       "      <td>Master</td>\n",
       "      <td>0.575000</td>\n",
       "      <td>40</td>\n",
       "    </tr>\n",
       "    <tr>\n",
       "      <td>Miss</td>\n",
       "      <td>0.697802</td>\n",
       "      <td>182</td>\n",
       "    </tr>\n",
       "    <tr>\n",
       "      <td>Mlle</td>\n",
       "      <td>1.000000</td>\n",
       "      <td>2</td>\n",
       "    </tr>\n",
       "    <tr>\n",
       "      <td>Mme</td>\n",
       "      <td>1.000000</td>\n",
       "      <td>1</td>\n",
       "    </tr>\n",
       "    <tr>\n",
       "      <td>Mr</td>\n",
       "      <td>0.156673</td>\n",
       "      <td>517</td>\n",
       "    </tr>\n",
       "    <tr>\n",
       "      <td>Mrs</td>\n",
       "      <td>0.792000</td>\n",
       "      <td>125</td>\n",
       "    </tr>\n",
       "    <tr>\n",
       "      <td>Ms</td>\n",
       "      <td>1.000000</td>\n",
       "      <td>1</td>\n",
       "    </tr>\n",
       "    <tr>\n",
       "      <td>Rev</td>\n",
       "      <td>0.000000</td>\n",
       "      <td>6</td>\n",
       "    </tr>\n",
       "    <tr>\n",
       "      <td>Sir</td>\n",
       "      <td>1.000000</td>\n",
       "      <td>1</td>\n",
       "    </tr>\n",
       "  </tbody>\n",
       "</table>\n",
       "</div>"
      ],
      "text/plain": [
       "          Survived      \n",
       "              mean count\n",
       "Title                   \n",
       "Capt      0.000000     1\n",
       "Col       0.500000     2\n",
       "Countess  1.000000     1\n",
       "Don       0.000000     1\n",
       "Dona           NaN     0\n",
       "Dr        0.428571     7\n",
       "Jonkheer  0.000000     1\n",
       "Lady      1.000000     1\n",
       "Major     0.500000     2\n",
       "Master    0.575000    40\n",
       "Miss      0.697802   182\n",
       "Mlle      1.000000     2\n",
       "Mme       1.000000     1\n",
       "Mr        0.156673   517\n",
       "Mrs       0.792000   125\n",
       "Ms        1.000000     1\n",
       "Rev       0.000000     6\n",
       "Sir       1.000000     1"
      ]
     },
     "execution_count": 21,
     "metadata": {},
     "output_type": "execute_result"
    }
   ],
   "source": [
    "title_test.groupby('Title').agg({'Survived': ['mean', 'count']})"
   ]
  },
  {
   "cell_type": "code",
   "execution_count": 22,
   "metadata": {},
   "outputs": [],
   "source": [
    "def extract_title(df):\n",
    "    df['Title'] = df.Name.str.extract(' ([A-Za-z]+)\\.', expand=False)\n",
    "    df['Title'] = df['Title'].map(lambda y: \"M\" if y in ['Mr', 'Rev', 'Sir']\n",
    "                                  else \"MF\" if y in ['Mrs', 'Mme', 'Countess', 'Dona', 'Lady']\n",
    "                                  else \"NF\" if y in ['Miss', 'Mlle', 'Ms']\n",
    "                                  else \"H\" if y in ['Master', 'Don', 'Dr', 'Major', 'Col', 'Capt', 'Jonkheer']\n",
    "                                  else y)\n",
    "    df.drop(['Name'], axis=1, inplace=True)\n",
    "    return df"
   ]
  },
  {
   "cell_type": "code",
   "execution_count": 23,
   "metadata": {},
   "outputs": [
    {
     "name": "stdout",
     "output_type": "stream",
     "text": [
      "['M' 'MF' 'NF' 'H']\n"
     ]
    },
    {
     "data": {
      "text/html": [
       "<div>\n",
       "<style scoped>\n",
       "    .dataframe tbody tr th:only-of-type {\n",
       "        vertical-align: middle;\n",
       "    }\n",
       "\n",
       "    .dataframe tbody tr th {\n",
       "        vertical-align: top;\n",
       "    }\n",
       "\n",
       "    .dataframe thead th {\n",
       "        text-align: right;\n",
       "    }\n",
       "</style>\n",
       "<table border=\"1\" class=\"dataframe\">\n",
       "  <thead>\n",
       "    <tr style=\"text-align: right;\">\n",
       "      <th></th>\n",
       "      <th>Cabin</th>\n",
       "      <th>Embarked</th>\n",
       "      <th>Sex</th>\n",
       "      <th>Ticket</th>\n",
       "      <th>Title</th>\n",
       "    </tr>\n",
       "  </thead>\n",
       "  <tbody>\n",
       "    <tr>\n",
       "      <td>count</td>\n",
       "      <td>295</td>\n",
       "      <td>1307</td>\n",
       "      <td>1309</td>\n",
       "      <td>1309</td>\n",
       "      <td>1309</td>\n",
       "    </tr>\n",
       "    <tr>\n",
       "      <td>unique</td>\n",
       "      <td>186</td>\n",
       "      <td>3</td>\n",
       "      <td>2</td>\n",
       "      <td>929</td>\n",
       "      <td>4</td>\n",
       "    </tr>\n",
       "    <tr>\n",
       "      <td>top</td>\n",
       "      <td>C23 C25 C27</td>\n",
       "      <td>S</td>\n",
       "      <td>male</td>\n",
       "      <td>CA. 2343</td>\n",
       "      <td>M</td>\n",
       "    </tr>\n",
       "    <tr>\n",
       "      <td>freq</td>\n",
       "      <td>6</td>\n",
       "      <td>914</td>\n",
       "      <td>843</td>\n",
       "      <td>11</td>\n",
       "      <td>766</td>\n",
       "    </tr>\n",
       "  </tbody>\n",
       "</table>\n",
       "</div>"
      ],
      "text/plain": [
       "              Cabin Embarked   Sex    Ticket Title\n",
       "count           295     1307  1309      1309  1309\n",
       "unique          186        3     2       929     4\n",
       "top     C23 C25 C27        S  male  CA. 2343     M\n",
       "freq              6      914   843        11   766"
      ]
     },
     "execution_count": 23,
     "metadata": {},
     "output_type": "execute_result"
    }
   ],
   "source": [
    "# New copy to test function\n",
    "extract_title_test = fd.copy()\n",
    "extract_title(extract_title_test)\n",
    "\n",
    "print(extract_title_test.Title.unique())\n",
    "extract_title_test.describe(include=['O'])"
   ]
  },
  {
   "cell_type": "code",
   "execution_count": 24,
   "metadata": {},
   "outputs": [
    {
     "data": {
      "text/html": [
       "<div>\n",
       "<style scoped>\n",
       "    .dataframe tbody tr th:only-of-type {\n",
       "        vertical-align: middle;\n",
       "    }\n",
       "\n",
       "    .dataframe tbody tr th {\n",
       "        vertical-align: top;\n",
       "    }\n",
       "\n",
       "    .dataframe thead th {\n",
       "        text-align: right;\n",
       "    }\n",
       "</style>\n",
       "<table border=\"1\" class=\"dataframe\">\n",
       "  <thead>\n",
       "    <tr style=\"text-align: right;\">\n",
       "      <th>Survived</th>\n",
       "      <th>0.0</th>\n",
       "      <th>1.0</th>\n",
       "    </tr>\n",
       "    <tr>\n",
       "      <th>Title</th>\n",
       "      <th></th>\n",
       "      <th></th>\n",
       "    </tr>\n",
       "  </thead>\n",
       "  <tbody>\n",
       "    <tr>\n",
       "      <td>H</td>\n",
       "      <td>26</td>\n",
       "      <td>28</td>\n",
       "    </tr>\n",
       "    <tr>\n",
       "      <td>M</td>\n",
       "      <td>442</td>\n",
       "      <td>82</td>\n",
       "    </tr>\n",
       "    <tr>\n",
       "      <td>MF</td>\n",
       "      <td>26</td>\n",
       "      <td>102</td>\n",
       "    </tr>\n",
       "    <tr>\n",
       "      <td>NF</td>\n",
       "      <td>55</td>\n",
       "      <td>130</td>\n",
       "    </tr>\n",
       "  </tbody>\n",
       "</table>\n",
       "</div>"
      ],
      "text/plain": [
       "Survived  0.0  1.0\n",
       "Title             \n",
       "H          26   28\n",
       "M         442   82\n",
       "MF         26  102\n",
       "NF         55  130"
      ]
     },
     "execution_count": 24,
     "metadata": {},
     "output_type": "execute_result"
    }
   ],
   "source": [
    "pd.crosstab(extract_title_test['Title'], extract_title_test['Survived'])"
   ]
  },
  {
   "cell_type": "code",
   "execution_count": 25,
   "metadata": {},
   "outputs": [
    {
     "data": {
      "image/png": "[encoded data removed]",
      "text/plain": [
       "<Figure size 360x360 with 1 Axes>"
      ]
     },
     "metadata": {
      "needs_background": "light"
     },
     "output_type": "display_data"
    }
   ],
   "source": [
    "g = sns.catplot(y=\"Survived\", x=\"Title\", data=extract_title_test, kind=\"bar\")"
   ]
  },
  {
   "cell_type": "markdown",
   "metadata": {},
   "source": [
    "### 3.3. Deck Section (Cabin)\n",
    "The cabin number provided is an incomplete column, but we can still observe trends within the data. The main value extracted is the letter before the room number which should dictate the deck of the titanic the passenger was staying in. While this set of data isn't as complete as others, there are some small trends within the deck values.\n",
    "\n",
    "In general it looks like some decks are slightly more safe than others, and therefore were separated out into slightly safer and slightly less safer categories."
   ]
  },
  {
   "cell_type": "code",
   "execution_count": 26,
   "metadata": {},
   "outputs": [
    {
     "name": "stdout",
     "output_type": "stream",
     "text": [
      "[nan 'C' 'E' 'G' 'D' 'A' 'B' 'F' 'T']\n"
     ]
    },
    {
     "data": {
      "image/png": "[encoded data removed]",
      "text/plain": [
       "<Figure size 360x360 with 1 Axes>"
      ]
     },
     "metadata": {
      "needs_background": "light"
     },
     "output_type": "display_data"
    }
   ],
   "source": [
    "# Test data set extracting Deck\n",
    "deck_test = fd.copy()\n",
    "deck_test['Deck'] = deck_test.Cabin.str.extract('([A-Za-z])', expand=False)\n",
    "\n",
    "# Observe results\n",
    "print(deck_test.Deck.unique())\n",
    "g = sns.catplot(y=\"Survived\", x=\"Deck\", data=deck_test, kind=\"bar\")"
   ]
  },
  {
   "cell_type": "code",
   "execution_count": 27,
   "metadata": {},
   "outputs": [
    {
     "data": {
      "text/html": [
       "<div>\n",
       "<style scoped>\n",
       "    .dataframe tbody tr th:only-of-type {\n",
       "        vertical-align: middle;\n",
       "    }\n",
       "\n",
       "    .dataframe tbody tr th {\n",
       "        vertical-align: top;\n",
       "    }\n",
       "\n",
       "    .dataframe thead tr th {\n",
       "        text-align: left;\n",
       "    }\n",
       "\n",
       "    .dataframe thead tr:last-of-type th {\n",
       "        text-align: right;\n",
       "    }\n",
       "</style>\n",
       "<table border=\"1\" class=\"dataframe\">\n",
       "  <thead>\n",
       "    <tr>\n",
       "      <th></th>\n",
       "      <th colspan=\"2\" halign=\"left\">Survived</th>\n",
       "    </tr>\n",
       "    <tr>\n",
       "      <th></th>\n",
       "      <th>mean</th>\n",
       "      <th>count</th>\n",
       "    </tr>\n",
       "    <tr>\n",
       "      <th>Deck</th>\n",
       "      <th></th>\n",
       "      <th></th>\n",
       "    </tr>\n",
       "  </thead>\n",
       "  <tbody>\n",
       "    <tr>\n",
       "      <td>A</td>\n",
       "      <td>0.466667</td>\n",
       "      <td>15</td>\n",
       "    </tr>\n",
       "    <tr>\n",
       "      <td>B</td>\n",
       "      <td>0.744681</td>\n",
       "      <td>47</td>\n",
       "    </tr>\n",
       "    <tr>\n",
       "      <td>C</td>\n",
       "      <td>0.593220</td>\n",
       "      <td>59</td>\n",
       "    </tr>\n",
       "    <tr>\n",
       "      <td>D</td>\n",
       "      <td>0.757576</td>\n",
       "      <td>33</td>\n",
       "    </tr>\n",
       "    <tr>\n",
       "      <td>E</td>\n",
       "      <td>0.750000</td>\n",
       "      <td>32</td>\n",
       "    </tr>\n",
       "    <tr>\n",
       "      <td>F</td>\n",
       "      <td>0.615385</td>\n",
       "      <td>13</td>\n",
       "    </tr>\n",
       "    <tr>\n",
       "      <td>G</td>\n",
       "      <td>0.500000</td>\n",
       "      <td>4</td>\n",
       "    </tr>\n",
       "    <tr>\n",
       "      <td>T</td>\n",
       "      <td>0.000000</td>\n",
       "      <td>1</td>\n",
       "    </tr>\n",
       "  </tbody>\n",
       "</table>\n",
       "</div>"
      ],
      "text/plain": [
       "      Survived      \n",
       "          mean count\n",
       "Deck                \n",
       "A     0.466667    15\n",
       "B     0.744681    47\n",
       "C     0.593220    59\n",
       "D     0.757576    33\n",
       "E     0.750000    32\n",
       "F     0.615385    13\n",
       "G     0.500000     4\n",
       "T     0.000000     1"
      ]
     },
     "execution_count": 27,
     "metadata": {},
     "output_type": "execute_result"
    }
   ],
   "source": [
    "deck_test.groupby('Deck').agg({'Survived': ['mean', 'count']})"
   ]
  },
  {
   "cell_type": "code",
   "execution_count": 28,
   "metadata": {},
   "outputs": [],
   "source": [
    "def extract_deck(df):\n",
    "    df['Deck'] = df.Cabin.str.extract('([A-Za-z])', expand=False)\n",
    "    df['Deck'] = df['Deck'].map(lambda y: \"Safer\" if y in ['E', 'D', 'B']\n",
    "                                else \"Less\" if y in ['C', 'G', 'A', 'F', 'T']\n",
    "                                else y)\n",
    "    df.drop(['Cabin'], axis=1, inplace=True)\n",
    "    return df"
   ]
  },
  {
   "cell_type": "code",
   "execution_count": 29,
   "metadata": {},
   "outputs": [
    {
     "name": "stdout",
     "output_type": "stream",
     "text": [
      "[nan 'Less' 'Safer']\n"
     ]
    },
    {
     "data": {
      "text/html": [
       "<div>\n",
       "<style scoped>\n",
       "    .dataframe tbody tr th:only-of-type {\n",
       "        vertical-align: middle;\n",
       "    }\n",
       "\n",
       "    .dataframe tbody tr th {\n",
       "        vertical-align: top;\n",
       "    }\n",
       "\n",
       "    .dataframe thead th {\n",
       "        text-align: right;\n",
       "    }\n",
       "</style>\n",
       "<table border=\"1\" class=\"dataframe\">\n",
       "  <thead>\n",
       "    <tr style=\"text-align: right;\">\n",
       "      <th></th>\n",
       "      <th>Embarked</th>\n",
       "      <th>Name</th>\n",
       "      <th>Sex</th>\n",
       "      <th>Ticket</th>\n",
       "      <th>Deck</th>\n",
       "    </tr>\n",
       "  </thead>\n",
       "  <tbody>\n",
       "    <tr>\n",
       "      <td>count</td>\n",
       "      <td>1307</td>\n",
       "      <td>1309</td>\n",
       "      <td>1309</td>\n",
       "      <td>1309</td>\n",
       "      <td>295</td>\n",
       "    </tr>\n",
       "    <tr>\n",
       "      <td>unique</td>\n",
       "      <td>3</td>\n",
       "      <td>1307</td>\n",
       "      <td>2</td>\n",
       "      <td>929</td>\n",
       "      <td>2</td>\n",
       "    </tr>\n",
       "    <tr>\n",
       "      <td>top</td>\n",
       "      <td>S</td>\n",
       "      <td>Kelly, Mr. James</td>\n",
       "      <td>male</td>\n",
       "      <td>CA. 2343</td>\n",
       "      <td>Safer</td>\n",
       "    </tr>\n",
       "    <tr>\n",
       "      <td>freq</td>\n",
       "      <td>914</td>\n",
       "      <td>2</td>\n",
       "      <td>843</td>\n",
       "      <td>11</td>\n",
       "      <td>152</td>\n",
       "    </tr>\n",
       "  </tbody>\n",
       "</table>\n",
       "</div>"
      ],
      "text/plain": [
       "       Embarked              Name   Sex    Ticket   Deck\n",
       "count      1307              1309  1309      1309    295\n",
       "unique        3              1307     2       929      2\n",
       "top           S  Kelly, Mr. James  male  CA. 2343  Safer\n",
       "freq        914                 2   843        11    152"
      ]
     },
     "execution_count": 29,
     "metadata": {},
     "output_type": "execute_result"
    }
   ],
   "source": [
    "# New copy to test function\n",
    "extract_deck_test = fd.copy()\n",
    "extract_deck(extract_deck_test)\n",
    "\n",
    "print(extract_deck_test.Deck.unique())\n",
    "extract_deck_test.describe(include=['O'])"
   ]
  },
  {
   "cell_type": "code",
   "execution_count": 30,
   "metadata": {},
   "outputs": [
    {
     "data": {
      "image/png": "[encoded data removed]",
      "text/plain": [
       "<Figure size 360x360 with 1 Axes>"
      ]
     },
     "metadata": {
      "needs_background": "light"
     },
     "output_type": "display_data"
    }
   ],
   "source": [
    "g = sns.catplot(y=\"Survived\", x=\"Deck\", data=extract_deck_test, kind=\"bar\")"
   ]
  },
  {
   "cell_type": "markdown",
   "metadata": {},
   "source": [
    "### 3.4. Bought Location (Ticket)\n",
    "Ticket number can be indicative of the location and / or the time in which the ticket was bought. The primary values noted was once again the letters since the numbers were most likely randomly generated and would most likely not contribute to improving the model. Instead with the letters extracted it's observed that certain letters have a higher survival rate and therefore are split accordingly."
   ]
  },
  {
   "cell_type": "code",
   "execution_count": 31,
   "metadata": {},
   "outputs": [
    {
     "name": "stdout",
     "output_type": "stream",
     "text": [
      "['A' 'P' 'S' nan 'C' 'W' 'F' 'L']\n"
     ]
    },
    {
     "data": {
      "image/png": "[encoded data removed]",
      "text/plain": [
       "<Figure size 360x360 with 1 Axes>"
      ]
     },
     "metadata": {
      "needs_background": "light"
     },
     "output_type": "display_data"
    }
   ],
   "source": [
    "# Test data set extracting Deck\n",
    "ticket_test = fd.copy()\n",
    "ticket_test['aTicket'] = deck_test.Ticket.str.extract(\n",
    "    '([A-Za-z])', expand=False)\n",
    "\n",
    "# Observe results\n",
    "print(ticket_test.aTicket.unique())\n",
    "g = sns.catplot(y=\"Survived\", x=\"aTicket\", data=ticket_test, kind=\"bar\")"
   ]
  },
  {
   "cell_type": "code",
   "execution_count": 32,
   "metadata": {},
   "outputs": [
    {
     "data": {
      "text/html": [
       "<div>\n",
       "<style scoped>\n",
       "    .dataframe tbody tr th:only-of-type {\n",
       "        vertical-align: middle;\n",
       "    }\n",
       "\n",
       "    .dataframe tbody tr th {\n",
       "        vertical-align: top;\n",
       "    }\n",
       "\n",
       "    .dataframe thead tr th {\n",
       "        text-align: left;\n",
       "    }\n",
       "\n",
       "    .dataframe thead tr:last-of-type th {\n",
       "        text-align: right;\n",
       "    }\n",
       "</style>\n",
       "<table border=\"1\" class=\"dataframe\">\n",
       "  <thead>\n",
       "    <tr>\n",
       "      <th></th>\n",
       "      <th colspan=\"2\" halign=\"left\">Survived</th>\n",
       "    </tr>\n",
       "    <tr>\n",
       "      <th></th>\n",
       "      <th>mean</th>\n",
       "      <th>count</th>\n",
       "    </tr>\n",
       "    <tr>\n",
       "      <th>aTicket</th>\n",
       "      <th></th>\n",
       "      <th></th>\n",
       "    </tr>\n",
       "  </thead>\n",
       "  <tbody>\n",
       "    <tr>\n",
       "      <td>A</td>\n",
       "      <td>0.068966</td>\n",
       "      <td>29</td>\n",
       "    </tr>\n",
       "    <tr>\n",
       "      <td>C</td>\n",
       "      <td>0.340426</td>\n",
       "      <td>47</td>\n",
       "    </tr>\n",
       "    <tr>\n",
       "      <td>F</td>\n",
       "      <td>0.571429</td>\n",
       "      <td>7</td>\n",
       "    </tr>\n",
       "    <tr>\n",
       "      <td>L</td>\n",
       "      <td>0.250000</td>\n",
       "      <td>4</td>\n",
       "    </tr>\n",
       "    <tr>\n",
       "      <td>P</td>\n",
       "      <td>0.646154</td>\n",
       "      <td>65</td>\n",
       "    </tr>\n",
       "    <tr>\n",
       "      <td>S</td>\n",
       "      <td>0.323077</td>\n",
       "      <td>65</td>\n",
       "    </tr>\n",
       "    <tr>\n",
       "      <td>W</td>\n",
       "      <td>0.153846</td>\n",
       "      <td>13</td>\n",
       "    </tr>\n",
       "  </tbody>\n",
       "</table>\n",
       "</div>"
      ],
      "text/plain": [
       "         Survived      \n",
       "             mean count\n",
       "aTicket                \n",
       "A        0.068966    29\n",
       "C        0.340426    47\n",
       "F        0.571429     7\n",
       "L        0.250000     4\n",
       "P        0.646154    65\n",
       "S        0.323077    65\n",
       "W        0.153846    13"
      ]
     },
     "execution_count": 32,
     "metadata": {},
     "output_type": "execute_result"
    }
   ],
   "source": [
    "ticket_test.groupby('aTicket').agg({'Survived': ['mean', 'count']})"
   ]
  },
  {
   "cell_type": "code",
   "execution_count": 33,
   "metadata": {},
   "outputs": [],
   "source": [
    "def extract_ticket(df):\n",
    "    df['Ticket'] = df.Ticket.str.extract('([A-Za-z])', expand=False)\n",
    "    df['Ticket'] = df['Ticket'].map(lambda y: \"High\" if y in ['P', 'F']\n",
    "                                    else \"Mid\" if y in ['S', 'C']\n",
    "                                    else \"Low\" if y in ['A', 'W', 'L']\n",
    "                                    else y)\n",
    "    return df"
   ]
  },
  {
   "cell_type": "code",
   "execution_count": 34,
   "metadata": {},
   "outputs": [
    {
     "name": "stdout",
     "output_type": "stream",
     "text": [
      "['Low' 'High' 'Mid' nan]\n"
     ]
    },
    {
     "data": {
      "text/html": [
       "<div>\n",
       "<style scoped>\n",
       "    .dataframe tbody tr th:only-of-type {\n",
       "        vertical-align: middle;\n",
       "    }\n",
       "\n",
       "    .dataframe tbody tr th {\n",
       "        vertical-align: top;\n",
       "    }\n",
       "\n",
       "    .dataframe thead th {\n",
       "        text-align: right;\n",
       "    }\n",
       "</style>\n",
       "<table border=\"1\" class=\"dataframe\">\n",
       "  <thead>\n",
       "    <tr style=\"text-align: right;\">\n",
       "      <th></th>\n",
       "      <th>Cabin</th>\n",
       "      <th>Embarked</th>\n",
       "      <th>Name</th>\n",
       "      <th>Sex</th>\n",
       "      <th>Ticket</th>\n",
       "    </tr>\n",
       "  </thead>\n",
       "  <tbody>\n",
       "    <tr>\n",
       "      <td>count</td>\n",
       "      <td>295</td>\n",
       "      <td>1307</td>\n",
       "      <td>1309</td>\n",
       "      <td>1309</td>\n",
       "      <td>352</td>\n",
       "    </tr>\n",
       "    <tr>\n",
       "      <td>unique</td>\n",
       "      <td>186</td>\n",
       "      <td>3</td>\n",
       "      <td>1307</td>\n",
       "      <td>2</td>\n",
       "      <td>3</td>\n",
       "    </tr>\n",
       "    <tr>\n",
       "      <td>top</td>\n",
       "      <td>C23 C25 C27</td>\n",
       "      <td>S</td>\n",
       "      <td>Kelly, Mr. James</td>\n",
       "      <td>male</td>\n",
       "      <td>Mid</td>\n",
       "    </tr>\n",
       "    <tr>\n",
       "      <td>freq</td>\n",
       "      <td>6</td>\n",
       "      <td>914</td>\n",
       "      <td>2</td>\n",
       "      <td>843</td>\n",
       "      <td>175</td>\n",
       "    </tr>\n",
       "  </tbody>\n",
       "</table>\n",
       "</div>"
      ],
      "text/plain": [
       "              Cabin Embarked              Name   Sex Ticket\n",
       "count           295     1307              1309  1309    352\n",
       "unique          186        3              1307     2      3\n",
       "top     C23 C25 C27        S  Kelly, Mr. James  male    Mid\n",
       "freq              6      914                 2   843    175"
      ]
     },
     "execution_count": 34,
     "metadata": {},
     "output_type": "execute_result"
    }
   ],
   "source": [
    "# New copy to test function\n",
    "extract_ticket_test = fd.copy()\n",
    "extract_ticket(extract_ticket_test)\n",
    "\n",
    "print(extract_ticket_test.Ticket.unique())\n",
    "extract_ticket_test.describe(include=['O'])"
   ]
  },
  {
   "cell_type": "code",
   "execution_count": 35,
   "metadata": {},
   "outputs": [
    {
     "data": {
      "image/png": "[encoded data removed]",
      "text/plain": [
       "<Figure size 360x360 with 1 Axes>"
      ]
     },
     "metadata": {
      "needs_background": "light"
     },
     "output_type": "display_data"
    }
   ],
   "source": [
    "g = sns.catplot(y=\"Survived\", x=\"Ticket\", data=extract_ticket_test, kind=\"bar\")"
   ]
  },
  {
   "cell_type": "markdown",
   "metadata": {},
   "source": [
    "To see if there's any correlation between the title of the members and the letter on their ticket, the extract_title function was used to be cross examined."
   ]
  },
  {
   "cell_type": "code",
   "execution_count": 36,
   "metadata": {},
   "outputs": [
    {
     "data": {
      "text/html": [
       "<div>\n",
       "<style scoped>\n",
       "    .dataframe tbody tr th:only-of-type {\n",
       "        vertical-align: middle;\n",
       "    }\n",
       "\n",
       "    .dataframe tbody tr th {\n",
       "        vertical-align: top;\n",
       "    }\n",
       "\n",
       "    .dataframe thead th {\n",
       "        text-align: right;\n",
       "    }\n",
       "</style>\n",
       "<table border=\"1\" class=\"dataframe\">\n",
       "  <thead>\n",
       "    <tr style=\"text-align: right;\">\n",
       "      <th>Title</th>\n",
       "      <th>H</th>\n",
       "      <th>M</th>\n",
       "      <th>MF</th>\n",
       "      <th>NF</th>\n",
       "    </tr>\n",
       "    <tr>\n",
       "      <th>Ticket</th>\n",
       "      <th></th>\n",
       "      <th></th>\n",
       "      <th></th>\n",
       "      <th></th>\n",
       "    </tr>\n",
       "  </thead>\n",
       "  <tbody>\n",
       "    <tr>\n",
       "      <td>High</td>\n",
       "      <td>4</td>\n",
       "      <td>49</td>\n",
       "      <td>31</td>\n",
       "      <td>27</td>\n",
       "    </tr>\n",
       "    <tr>\n",
       "      <td>Low</td>\n",
       "      <td>4</td>\n",
       "      <td>47</td>\n",
       "      <td>6</td>\n",
       "      <td>9</td>\n",
       "    </tr>\n",
       "    <tr>\n",
       "      <td>Mid</td>\n",
       "      <td>13</td>\n",
       "      <td>111</td>\n",
       "      <td>21</td>\n",
       "      <td>30</td>\n",
       "    </tr>\n",
       "  </tbody>\n",
       "</table>\n",
       "</div>"
      ],
      "text/plain": [
       "Title    H    M  MF  NF\n",
       "Ticket                 \n",
       "High     4   49  31  27\n",
       "Low      4   47   6   9\n",
       "Mid     13  111  21  30"
      ]
     },
     "execution_count": 36,
     "metadata": {},
     "output_type": "execute_result"
    }
   ],
   "source": [
    "extract_title(extract_ticket_test)\n",
    "pd.crosstab(extract_ticket_test['Ticket'], extract_ticket_test['Title'])"
   ]
  },
  {
   "cell_type": "markdown",
   "metadata": {},
   "source": [
    "### 3.5 Feature Engineering Pipeline\n",
    "All four functions that addressed the \"SibSp, Parch, Name, Cabin, Ticket\" columns are combined into a single pipeline \"feature_engineering\" which will be used to simplify processing the data for the model. The output variables and unique values are dramatically lowered for each and are now fitted better for the model."
   ]
  },
  {
   "cell_type": "code",
   "execution_count": 37,
   "metadata": {},
   "outputs": [],
   "source": [
    "def feature_engineering(df):\n",
    "    (df.pipe(combine_related)\n",
    "     .pipe(extract_title)\n",
    "     .pipe(extract_deck)\n",
    "     .pipe(extract_ticket))\n",
    "    return df"
   ]
  },
  {
   "cell_type": "code",
   "execution_count": 38,
   "metadata": {},
   "outputs": [
    {
     "name": "stdout",
     "output_type": "stream",
     "text": [
      "Related : ['Duo' 'Solo' 'Large' 'Trio' 'Quart']\n",
      "Title   : ['M' 'MF' 'NF' 'H']\n",
      "Deck    : [nan 'Less' 'Safer']\n",
      "Ticket  : ['Low' 'High' 'Mid' nan]\n"
     ]
    },
    {
     "data": {
      "text/html": [
       "<div>\n",
       "<style scoped>\n",
       "    .dataframe tbody tr th:only-of-type {\n",
       "        vertical-align: middle;\n",
       "    }\n",
       "\n",
       "    .dataframe tbody tr th {\n",
       "        vertical-align: top;\n",
       "    }\n",
       "\n",
       "    .dataframe thead th {\n",
       "        text-align: right;\n",
       "    }\n",
       "</style>\n",
       "<table border=\"1\" class=\"dataframe\">\n",
       "  <thead>\n",
       "    <tr style=\"text-align: right;\">\n",
       "      <th></th>\n",
       "      <th>Age</th>\n",
       "      <th>Embarked</th>\n",
       "      <th>Fare</th>\n",
       "      <th>Pclass</th>\n",
       "      <th>Sex</th>\n",
       "      <th>Survived</th>\n",
       "      <th>Ticket</th>\n",
       "      <th>train</th>\n",
       "      <th>Related</th>\n",
       "      <th>Title</th>\n",
       "      <th>Deck</th>\n",
       "    </tr>\n",
       "  </thead>\n",
       "  <tbody>\n",
       "    <tr>\n",
       "      <td>count</td>\n",
       "      <td>1046.000000</td>\n",
       "      <td>1307</td>\n",
       "      <td>1308.000000</td>\n",
       "      <td>1309.000000</td>\n",
       "      <td>1309</td>\n",
       "      <td>891.000000</td>\n",
       "      <td>352</td>\n",
       "      <td>1309.000000</td>\n",
       "      <td>1309</td>\n",
       "      <td>1309</td>\n",
       "      <td>295</td>\n",
       "    </tr>\n",
       "    <tr>\n",
       "      <td>unique</td>\n",
       "      <td>NaN</td>\n",
       "      <td>3</td>\n",
       "      <td>NaN</td>\n",
       "      <td>NaN</td>\n",
       "      <td>2</td>\n",
       "      <td>NaN</td>\n",
       "      <td>3</td>\n",
       "      <td>NaN</td>\n",
       "      <td>5</td>\n",
       "      <td>4</td>\n",
       "      <td>2</td>\n",
       "    </tr>\n",
       "    <tr>\n",
       "      <td>top</td>\n",
       "      <td>NaN</td>\n",
       "      <td>S</td>\n",
       "      <td>NaN</td>\n",
       "      <td>NaN</td>\n",
       "      <td>male</td>\n",
       "      <td>NaN</td>\n",
       "      <td>Mid</td>\n",
       "      <td>NaN</td>\n",
       "      <td>Solo</td>\n",
       "      <td>M</td>\n",
       "      <td>Safer</td>\n",
       "    </tr>\n",
       "    <tr>\n",
       "      <td>freq</td>\n",
       "      <td>NaN</td>\n",
       "      <td>914</td>\n",
       "      <td>NaN</td>\n",
       "      <td>NaN</td>\n",
       "      <td>843</td>\n",
       "      <td>NaN</td>\n",
       "      <td>175</td>\n",
       "      <td>NaN</td>\n",
       "      <td>790</td>\n",
       "      <td>766</td>\n",
       "      <td>152</td>\n",
       "    </tr>\n",
       "    <tr>\n",
       "      <td>mean</td>\n",
       "      <td>29.881138</td>\n",
       "      <td>NaN</td>\n",
       "      <td>33.295479</td>\n",
       "      <td>2.294882</td>\n",
       "      <td>NaN</td>\n",
       "      <td>0.383838</td>\n",
       "      <td>NaN</td>\n",
       "      <td>0.680672</td>\n",
       "      <td>NaN</td>\n",
       "      <td>NaN</td>\n",
       "      <td>NaN</td>\n",
       "    </tr>\n",
       "    <tr>\n",
       "      <td>std</td>\n",
       "      <td>14.413493</td>\n",
       "      <td>NaN</td>\n",
       "      <td>51.758668</td>\n",
       "      <td>0.837836</td>\n",
       "      <td>NaN</td>\n",
       "      <td>0.486592</td>\n",
       "      <td>NaN</td>\n",
       "      <td>0.466394</td>\n",
       "      <td>NaN</td>\n",
       "      <td>NaN</td>\n",
       "      <td>NaN</td>\n",
       "    </tr>\n",
       "    <tr>\n",
       "      <td>min</td>\n",
       "      <td>0.170000</td>\n",
       "      <td>NaN</td>\n",
       "      <td>0.000000</td>\n",
       "      <td>1.000000</td>\n",
       "      <td>NaN</td>\n",
       "      <td>0.000000</td>\n",
       "      <td>NaN</td>\n",
       "      <td>0.000000</td>\n",
       "      <td>NaN</td>\n",
       "      <td>NaN</td>\n",
       "      <td>NaN</td>\n",
       "    </tr>\n",
       "    <tr>\n",
       "      <td>25%</td>\n",
       "      <td>21.000000</td>\n",
       "      <td>NaN</td>\n",
       "      <td>7.895800</td>\n",
       "      <td>2.000000</td>\n",
       "      <td>NaN</td>\n",
       "      <td>0.000000</td>\n",
       "      <td>NaN</td>\n",
       "      <td>0.000000</td>\n",
       "      <td>NaN</td>\n",
       "      <td>NaN</td>\n",
       "      <td>NaN</td>\n",
       "    </tr>\n",
       "    <tr>\n",
       "      <td>50%</td>\n",
       "      <td>28.000000</td>\n",
       "      <td>NaN</td>\n",
       "      <td>14.454200</td>\n",
       "      <td>3.000000</td>\n",
       "      <td>NaN</td>\n",
       "      <td>0.000000</td>\n",
       "      <td>NaN</td>\n",
       "      <td>1.000000</td>\n",
       "      <td>NaN</td>\n",
       "      <td>NaN</td>\n",
       "      <td>NaN</td>\n",
       "    </tr>\n",
       "    <tr>\n",
       "      <td>75%</td>\n",
       "      <td>39.000000</td>\n",
       "      <td>NaN</td>\n",
       "      <td>31.275000</td>\n",
       "      <td>3.000000</td>\n",
       "      <td>NaN</td>\n",
       "      <td>1.000000</td>\n",
       "      <td>NaN</td>\n",
       "      <td>1.000000</td>\n",
       "      <td>NaN</td>\n",
       "      <td>NaN</td>\n",
       "      <td>NaN</td>\n",
       "    </tr>\n",
       "    <tr>\n",
       "      <td>max</td>\n",
       "      <td>80.000000</td>\n",
       "      <td>NaN</td>\n",
       "      <td>512.329200</td>\n",
       "      <td>3.000000</td>\n",
       "      <td>NaN</td>\n",
       "      <td>1.000000</td>\n",
       "      <td>NaN</td>\n",
       "      <td>1.000000</td>\n",
       "      <td>NaN</td>\n",
       "      <td>NaN</td>\n",
       "      <td>NaN</td>\n",
       "    </tr>\n",
       "  </tbody>\n",
       "</table>\n",
       "</div>"
      ],
      "text/plain": [
       "                Age Embarked         Fare       Pclass   Sex    Survived  \\\n",
       "count   1046.000000     1307  1308.000000  1309.000000  1309  891.000000   \n",
       "unique          NaN        3          NaN          NaN     2         NaN   \n",
       "top             NaN        S          NaN          NaN  male         NaN   \n",
       "freq            NaN      914          NaN          NaN   843         NaN   \n",
       "mean      29.881138      NaN    33.295479     2.294882   NaN    0.383838   \n",
       "std       14.413493      NaN    51.758668     0.837836   NaN    0.486592   \n",
       "min        0.170000      NaN     0.000000     1.000000   NaN    0.000000   \n",
       "25%       21.000000      NaN     7.895800     2.000000   NaN    0.000000   \n",
       "50%       28.000000      NaN    14.454200     3.000000   NaN    0.000000   \n",
       "75%       39.000000      NaN    31.275000     3.000000   NaN    1.000000   \n",
       "max       80.000000      NaN   512.329200     3.000000   NaN    1.000000   \n",
       "\n",
       "       Ticket        train Related Title   Deck  \n",
       "count     352  1309.000000    1309  1309    295  \n",
       "unique      3          NaN       5     4      2  \n",
       "top       Mid          NaN    Solo     M  Safer  \n",
       "freq      175          NaN     790   766    152  \n",
       "mean      NaN     0.680672     NaN   NaN    NaN  \n",
       "std       NaN     0.466394     NaN   NaN    NaN  \n",
       "min       NaN     0.000000     NaN   NaN    NaN  \n",
       "25%       NaN     0.000000     NaN   NaN    NaN  \n",
       "50%       NaN     1.000000     NaN   NaN    NaN  \n",
       "75%       NaN     1.000000     NaN   NaN    NaN  \n",
       "max       NaN     1.000000     NaN   NaN    NaN  "
      ]
     },
     "execution_count": 38,
     "metadata": {},
     "output_type": "execute_result"
    }
   ],
   "source": [
    "pipeline_test = fd.copy()\n",
    "feature_engineering(pipeline_test)\n",
    "\n",
    "print(\"Related :\", pipeline_test.Related.unique())\n",
    "print(\"Title   :\", pipeline_test.Title.unique())\n",
    "print(\"Deck    :\", pipeline_test.Deck.unique())\n",
    "print(\"Ticket  :\", pipeline_test.Ticket.unique())\n",
    "pipeline_test.describe(include='all')"
   ]
  },
  {
   "cell_type": "markdown",
   "metadata": {},
   "source": [
    "## 4. Missing data\n",
    "### 4.1. Classifying Missing Columns\n",
    "It can be beneficial to point out which columns and specifically which rows contain missing values that we are going to fill. These include Age, Cabin numbers, Embarked location, Ticket number with letter, and Fare paid. Therefore, in the model, it will also include a column for each of these values that show which values were in the original data set, False, and values that are imputed are marked as True in the \"_was_missing\" columns.\n",
    "\n",
    "To test this function, the \"pineline_test\" dataframe with the adjusted features was used to get an accurate indication."
   ]
  },
  {
   "cell_type": "code",
   "execution_count": 39,
   "metadata": {},
   "outputs": [],
   "source": [
    "def missing_col(df):\n",
    "    cols_with_missing = [col for col in df.columns if df[col].isnull().any()]\n",
    "    cols_with_missing.remove('Survived')\n",
    "    for col in cols_with_missing:\n",
    "        df[col + '_was_missing'] = df[col].isnull()\n",
    "    return df"
   ]
  },
  {
   "cell_type": "code",
   "execution_count": 40,
   "metadata": {
    "scrolled": false
   },
   "outputs": [
    {
     "data": {
      "text/html": [
       "<div>\n",
       "<style scoped>\n",
       "    .dataframe tbody tr th:only-of-type {\n",
       "        vertical-align: middle;\n",
       "    }\n",
       "\n",
       "    .dataframe tbody tr th {\n",
       "        vertical-align: top;\n",
       "    }\n",
       "\n",
       "    .dataframe thead th {\n",
       "        text-align: right;\n",
       "    }\n",
       "</style>\n",
       "<table border=\"1\" class=\"dataframe\">\n",
       "  <thead>\n",
       "    <tr style=\"text-align: right;\">\n",
       "      <th></th>\n",
       "      <th>Age</th>\n",
       "      <th>Embarked</th>\n",
       "      <th>Fare</th>\n",
       "      <th>Pclass</th>\n",
       "      <th>Sex</th>\n",
       "      <th>Survived</th>\n",
       "      <th>Ticket</th>\n",
       "      <th>train</th>\n",
       "      <th>Related</th>\n",
       "      <th>Title</th>\n",
       "      <th>Deck</th>\n",
       "      <th>Age_was_missing</th>\n",
       "      <th>Embarked_was_missing</th>\n",
       "      <th>Fare_was_missing</th>\n",
       "      <th>Ticket_was_missing</th>\n",
       "      <th>Deck_was_missing</th>\n",
       "    </tr>\n",
       "    <tr>\n",
       "      <th>PassengerId</th>\n",
       "      <th></th>\n",
       "      <th></th>\n",
       "      <th></th>\n",
       "      <th></th>\n",
       "      <th></th>\n",
       "      <th></th>\n",
       "      <th></th>\n",
       "      <th></th>\n",
       "      <th></th>\n",
       "      <th></th>\n",
       "      <th></th>\n",
       "      <th></th>\n",
       "      <th></th>\n",
       "      <th></th>\n",
       "      <th></th>\n",
       "      <th></th>\n",
       "    </tr>\n",
       "  </thead>\n",
       "  <tbody>\n",
       "    <tr>\n",
       "      <td>1</td>\n",
       "      <td>22.0</td>\n",
       "      <td>S</td>\n",
       "      <td>7.2500</td>\n",
       "      <td>3</td>\n",
       "      <td>male</td>\n",
       "      <td>0.0</td>\n",
       "      <td>Low</td>\n",
       "      <td>1</td>\n",
       "      <td>Duo</td>\n",
       "      <td>M</td>\n",
       "      <td>NaN</td>\n",
       "      <td>False</td>\n",
       "      <td>False</td>\n",
       "      <td>False</td>\n",
       "      <td>False</td>\n",
       "      <td>True</td>\n",
       "    </tr>\n",
       "    <tr>\n",
       "      <td>2</td>\n",
       "      <td>38.0</td>\n",
       "      <td>C</td>\n",
       "      <td>71.2833</td>\n",
       "      <td>1</td>\n",
       "      <td>female</td>\n",
       "      <td>1.0</td>\n",
       "      <td>High</td>\n",
       "      <td>1</td>\n",
       "      <td>Duo</td>\n",
       "      <td>MF</td>\n",
       "      <td>Less</td>\n",
       "      <td>False</td>\n",
       "      <td>False</td>\n",
       "      <td>False</td>\n",
       "      <td>False</td>\n",
       "      <td>False</td>\n",
       "    </tr>\n",
       "    <tr>\n",
       "      <td>3</td>\n",
       "      <td>26.0</td>\n",
       "      <td>S</td>\n",
       "      <td>7.9250</td>\n",
       "      <td>3</td>\n",
       "      <td>female</td>\n",
       "      <td>1.0</td>\n",
       "      <td>Mid</td>\n",
       "      <td>1</td>\n",
       "      <td>Solo</td>\n",
       "      <td>NF</td>\n",
       "      <td>NaN</td>\n",
       "      <td>False</td>\n",
       "      <td>False</td>\n",
       "      <td>False</td>\n",
       "      <td>False</td>\n",
       "      <td>True</td>\n",
       "    </tr>\n",
       "    <tr>\n",
       "      <td>4</td>\n",
       "      <td>35.0</td>\n",
       "      <td>S</td>\n",
       "      <td>53.1000</td>\n",
       "      <td>1</td>\n",
       "      <td>female</td>\n",
       "      <td>1.0</td>\n",
       "      <td>NaN</td>\n",
       "      <td>1</td>\n",
       "      <td>Duo</td>\n",
       "      <td>MF</td>\n",
       "      <td>Less</td>\n",
       "      <td>False</td>\n",
       "      <td>False</td>\n",
       "      <td>False</td>\n",
       "      <td>True</td>\n",
       "      <td>False</td>\n",
       "    </tr>\n",
       "    <tr>\n",
       "      <td>5</td>\n",
       "      <td>35.0</td>\n",
       "      <td>S</td>\n",
       "      <td>8.0500</td>\n",
       "      <td>3</td>\n",
       "      <td>male</td>\n",
       "      <td>0.0</td>\n",
       "      <td>NaN</td>\n",
       "      <td>1</td>\n",
       "      <td>Solo</td>\n",
       "      <td>M</td>\n",
       "      <td>NaN</td>\n",
       "      <td>False</td>\n",
       "      <td>False</td>\n",
       "      <td>False</td>\n",
       "      <td>True</td>\n",
       "      <td>True</td>\n",
       "    </tr>\n",
       "  </tbody>\n",
       "</table>\n",
       "</div>"
      ],
      "text/plain": [
       "              Age Embarked     Fare  Pclass     Sex  Survived Ticket  train  \\\n",
       "PassengerId                                                                   \n",
       "1            22.0        S   7.2500       3    male       0.0    Low      1   \n",
       "2            38.0        C  71.2833       1  female       1.0   High      1   \n",
       "3            26.0        S   7.9250       3  female       1.0    Mid      1   \n",
       "4            35.0        S  53.1000       1  female       1.0    NaN      1   \n",
       "5            35.0        S   8.0500       3    male       0.0    NaN      1   \n",
       "\n",
       "            Related Title  Deck  Age_was_missing  Embarked_was_missing  \\\n",
       "PassengerId                                                              \n",
       "1               Duo     M   NaN            False                 False   \n",
       "2               Duo    MF  Less            False                 False   \n",
       "3              Solo    NF   NaN            False                 False   \n",
       "4               Duo    MF  Less            False                 False   \n",
       "5              Solo     M   NaN            False                 False   \n",
       "\n",
       "             Fare_was_missing  Ticket_was_missing  Deck_was_missing  \n",
       "PassengerId                                                          \n",
       "1                       False               False              True  \n",
       "2                       False               False             False  \n",
       "3                       False               False              True  \n",
       "4                       False                True             False  \n",
       "5                       False                True              True  "
      ]
     },
     "execution_count": 40,
     "metadata": {},
     "output_type": "execute_result"
    }
   ],
   "source": [
    "# New copy to test function with pipeline\n",
    "missing_col_test = pipeline_test.copy()\n",
    "missing_col(missing_col_test)\n",
    "\n",
    "missing_col_test.head()"
   ]
  },
  {
   "cell_type": "markdown",
   "metadata": {},
   "source": [
    "### 4.2. Simple Imputer (Categorical and Numerical Data)\n",
    "After adding which columns and rows contained missing values, next is to fill the missing data. While it can be convenient to drop columns or rows with missing columns, it can be potentially damaging to the model. Therefore, it is advised to impute a value into these spots whether it be a constant variable, median, or the mode.\n",
    "\n",
    "To simplify the imputation of each column, the median of numerical columns and the mode of the categorical columns were used (unless there are >10% missing data in which a constant \"N\" is used). Also, since age had a large portion that wasn't filled but not over %20, it was decided that age will be filled according to median age using specified factors."
   ]
  },
  {
   "cell_type": "markdown",
   "metadata": {},
   "source": [
    "#### 4.2.1. Age Prediction\n",
    "Given the age of each of the passengers, various factors were explored to determine the optimal variable to group each age group into and to subsequently fill in by the median age from the grouped variables.\n",
    "\n",
    "As seen in the box and whisker graphs, Deck, Sex, Embarked, and Related show minimal relationship to age. Comparatively, Pclass and Title show separation in the quadrants between the Title and Pclass ages."
   ]
  },
  {
   "cell_type": "code",
   "execution_count": 41,
   "metadata": {},
   "outputs": [
    {
     "data": {
      "text/html": [
       "<div>\n",
       "<style scoped>\n",
       "    .dataframe tbody tr th:only-of-type {\n",
       "        vertical-align: middle;\n",
       "    }\n",
       "\n",
       "    .dataframe tbody tr th {\n",
       "        vertical-align: top;\n",
       "    }\n",
       "\n",
       "    .dataframe thead th {\n",
       "        text-align: right;\n",
       "    }\n",
       "</style>\n",
       "<table border=\"1\" class=\"dataframe\">\n",
       "  <thead>\n",
       "    <tr style=\"text-align: right;\">\n",
       "      <th></th>\n",
       "      <th></th>\n",
       "      <th></th>\n",
       "      <th>Survived</th>\n",
       "      <th>Age</th>\n",
       "      <th>SibSp</th>\n",
       "      <th>Parch</th>\n",
       "      <th>Fare</th>\n",
       "      <th>train</th>\n",
       "    </tr>\n",
       "    <tr>\n",
       "      <th>Sex</th>\n",
       "      <th>Pclass</th>\n",
       "      <th>Title</th>\n",
       "      <th></th>\n",
       "      <th></th>\n",
       "      <th></th>\n",
       "      <th></th>\n",
       "      <th></th>\n",
       "      <th></th>\n",
       "    </tr>\n",
       "  </thead>\n",
       "  <tbody>\n",
       "    <tr>\n",
       "      <td rowspan=\"7\" valign=\"top\">female</td>\n",
       "      <td rowspan=\"3\" valign=\"top\">1</td>\n",
       "      <td>H</td>\n",
       "      <td>1.0</td>\n",
       "      <td>49.0</td>\n",
       "      <td>0.0</td>\n",
       "      <td>0.0</td>\n",
       "      <td>25.92920</td>\n",
       "      <td>1.0</td>\n",
       "    </tr>\n",
       "    <tr>\n",
       "      <td>MF</td>\n",
       "      <td>1.0</td>\n",
       "      <td>40.0</td>\n",
       "      <td>1.0</td>\n",
       "      <td>0.0</td>\n",
       "      <td>79.20000</td>\n",
       "      <td>1.0</td>\n",
       "    </tr>\n",
       "    <tr>\n",
       "      <td>NF</td>\n",
       "      <td>1.0</td>\n",
       "      <td>30.0</td>\n",
       "      <td>0.0</td>\n",
       "      <td>0.0</td>\n",
       "      <td>88.25000</td>\n",
       "      <td>1.0</td>\n",
       "    </tr>\n",
       "    <tr>\n",
       "      <td rowspan=\"2\" valign=\"top\">2</td>\n",
       "      <td>MF</td>\n",
       "      <td>1.0</td>\n",
       "      <td>32.0</td>\n",
       "      <td>1.0</td>\n",
       "      <td>0.0</td>\n",
       "      <td>26.00000</td>\n",
       "      <td>1.0</td>\n",
       "    </tr>\n",
       "    <tr>\n",
       "      <td>NF</td>\n",
       "      <td>1.0</td>\n",
       "      <td>24.0</td>\n",
       "      <td>0.0</td>\n",
       "      <td>0.0</td>\n",
       "      <td>13.00000</td>\n",
       "      <td>1.0</td>\n",
       "    </tr>\n",
       "    <tr>\n",
       "      <td rowspan=\"2\" valign=\"top\">3</td>\n",
       "      <td>MF</td>\n",
       "      <td>0.5</td>\n",
       "      <td>31.0</td>\n",
       "      <td>1.0</td>\n",
       "      <td>1.0</td>\n",
       "      <td>15.97500</td>\n",
       "      <td>1.0</td>\n",
       "    </tr>\n",
       "    <tr>\n",
       "      <td>NF</td>\n",
       "      <td>0.5</td>\n",
       "      <td>18.0</td>\n",
       "      <td>0.0</td>\n",
       "      <td>0.0</td>\n",
       "      <td>8.75625</td>\n",
       "      <td>1.0</td>\n",
       "    </tr>\n",
       "    <tr>\n",
       "      <td rowspan=\"6\" valign=\"top\">male</td>\n",
       "      <td rowspan=\"2\" valign=\"top\">1</td>\n",
       "      <td>H</td>\n",
       "      <td>0.5</td>\n",
       "      <td>44.0</td>\n",
       "      <td>0.0</td>\n",
       "      <td>0.0</td>\n",
       "      <td>37.55000</td>\n",
       "      <td>1.0</td>\n",
       "    </tr>\n",
       "    <tr>\n",
       "      <td>M</td>\n",
       "      <td>0.0</td>\n",
       "      <td>40.0</td>\n",
       "      <td>0.0</td>\n",
       "      <td>0.0</td>\n",
       "      <td>44.75000</td>\n",
       "      <td>1.0</td>\n",
       "    </tr>\n",
       "    <tr>\n",
       "      <td rowspan=\"2\" valign=\"top\">2</td>\n",
       "      <td>H</td>\n",
       "      <td>1.0</td>\n",
       "      <td>2.0</td>\n",
       "      <td>1.0</td>\n",
       "      <td>1.0</td>\n",
       "      <td>26.00000</td>\n",
       "      <td>1.0</td>\n",
       "    </tr>\n",
       "    <tr>\n",
       "      <td>M</td>\n",
       "      <td>0.0</td>\n",
       "      <td>31.0</td>\n",
       "      <td>0.0</td>\n",
       "      <td>0.0</td>\n",
       "      <td>13.00000</td>\n",
       "      <td>1.0</td>\n",
       "    </tr>\n",
       "    <tr>\n",
       "      <td rowspan=\"2\" valign=\"top\">3</td>\n",
       "      <td>H</td>\n",
       "      <td>0.0</td>\n",
       "      <td>4.0</td>\n",
       "      <td>3.5</td>\n",
       "      <td>1.0</td>\n",
       "      <td>28.51250</td>\n",
       "      <td>1.0</td>\n",
       "    </tr>\n",
       "    <tr>\n",
       "      <td>M</td>\n",
       "      <td>0.0</td>\n",
       "      <td>26.0</td>\n",
       "      <td>0.0</td>\n",
       "      <td>0.0</td>\n",
       "      <td>7.89580</td>\n",
       "      <td>1.0</td>\n",
       "    </tr>\n",
       "  </tbody>\n",
       "</table>\n",
       "</div>"
      ],
      "text/plain": [
       "                     Survived   Age  SibSp  Parch      Fare  train\n",
       "Sex    Pclass Title                                               \n",
       "female 1      H           1.0  49.0    0.0    0.0  25.92920    1.0\n",
       "              MF          1.0  40.0    1.0    0.0  79.20000    1.0\n",
       "              NF          1.0  30.0    0.0    0.0  88.25000    1.0\n",
       "       2      MF          1.0  32.0    1.0    0.0  26.00000    1.0\n",
       "              NF          1.0  24.0    0.0    0.0  13.00000    1.0\n",
       "       3      MF          0.5  31.0    1.0    1.0  15.97500    1.0\n",
       "              NF          0.5  18.0    0.0    0.0   8.75625    1.0\n",
       "male   1      H           0.5  44.0    0.0    0.0  37.55000    1.0\n",
       "              M           0.0  40.0    0.0    0.0  44.75000    1.0\n",
       "       2      H           1.0   2.0    1.0    1.0  26.00000    1.0\n",
       "              M           0.0  31.0    0.0    0.0  13.00000    1.0\n",
       "       3      H           0.0   4.0    3.5    1.0  28.51250    1.0\n",
       "              M           0.0  26.0    0.0    0.0   7.89580    1.0"
      ]
     },
     "execution_count": 41,
     "metadata": {},
     "output_type": "execute_result"
    }
   ],
   "source": [
    "age_fill_test = titanic_data.copy()\n",
    "age_fill_test = extract_title(age_fill_test)\n",
    "\n",
    "grouped_train = age_fill_test.groupby(['Sex', 'Pclass', 'Title'])\n",
    "grouped_median_train = grouped_train.median()\n",
    "\n",
    "grouped_median_train"
   ]
  },
  {
   "cell_type": "code",
   "execution_count": 42,
   "metadata": {},
   "outputs": [
    {
     "data": {
      "text/plain": [
       "<matplotlib.axes._subplots.AxesSubplot at 0x1be23fcf548>"
      ]
     },
     "execution_count": 42,
     "metadata": {},
     "output_type": "execute_result"
    },
    {
     "data": {
      "image/png": "[encoded data removed]",
      "text/plain": [
       "<Figure size 1080x720 with 6 Axes>"
      ]
     },
     "metadata": {
      "needs_background": "light"
     },
     "output_type": "display_data"
    }
   ],
   "source": [
    "fig, ax = plt.subplots(2, 3, figsize=(15, 10))\n",
    "\n",
    "sns.boxplot(data=pipeline_test, x=\"Deck\", y=\"Age\", ax=ax[0, 0])\n",
    "sns.boxplot(data=pipeline_test, x=\"Title\", y=\"Age\", ax=ax[0, 1])\n",
    "sns.boxplot(data=pipeline_test, x=\"Related\", y=\"Age\", ax=ax[0, 2])\n",
    "sns.boxplot(data=pipeline_test, x=\"Sex\", y=\"Age\", ax=ax[1, 0])\n",
    "sns.boxplot(data=pipeline_test, x=\"Pclass\", y=\"Age\", ax=ax[1, 1])\n",
    "sns.boxplot(data=pipeline_test, x=\"Embarked\", y=\"Age\", ax=ax[1, 2])"
   ]
  },
  {
   "cell_type": "markdown",
   "metadata": {},
   "source": [
    "#### 4.2.2. Simple Imputer"
   ]
  },
  {
   "cell_type": "code",
   "execution_count": 43,
   "metadata": {},
   "outputs": [
    {
     "name": "stdout",
     "output_type": "stream",
     "text": [
      "Embarked_mode : S\n",
      "Ticket_mode   : Mid\n",
      "Deck_mode     : Safer\n",
      "Fare_median   : 14.4542\n"
     ]
    }
   ],
   "source": [
    "print(\"Embarked_mode :\", pipeline_test.Embarked.mode()[0])\n",
    "print(\"Ticket_mode   :\", pipeline_test.Ticket.mode()[0])\n",
    "print(\"Deck_mode     :\", pipeline_test.Deck.mode()[0])\n",
    "print(\"Fare_median   :\", pipeline_test.Fare.median())"
   ]
  },
  {
   "cell_type": "code",
   "execution_count": 44,
   "metadata": {},
   "outputs": [],
   "source": [
    "def simple_imputer(df):\n",
    "    # catagorical columns - Mode\n",
    "    cat_col = [col for col in df.columns if df[col].dtype == 'object']\n",
    "    cat_col.remove('Ticket')\n",
    "    cat_col.remove('Deck')\n",
    "    cat_imputer = SimpleImputer(strategy='most_frequent')\n",
    "    cat_imputer.fit(df[cat_col])\n",
    "    df[cat_col] = cat_imputer.fit_transform(df[cat_col])\n",
    "\n",
    "    # catagorical columns - Constant N (>20% missing)\n",
    "    const_col = ['Ticket', 'Deck']\n",
    "    const_imputer = SimpleImputer(strategy='constant', fill_value='Na')\n",
    "    const_imputer.fit(df[const_col])\n",
    "    df[const_col] = const_imputer.fit_transform(df[const_col])\n",
    "\n",
    "    # numerical columns - median\n",
    "    num_col = [col for col in df.columns if df[col].dtype in [\n",
    "        'int64', 'float64']]\n",
    "    num_col.remove('Survived')\n",
    "    num_col.remove('Age')\n",
    "    num_imputer = SimpleImputer(strategy='median')\n",
    "    num_imputer.fit(df[num_col])\n",
    "    df[num_col] = num_imputer.fit_transform(df[num_col])\n",
    "\n",
    "    global age_fill_test\n",
    "\n",
    "    # Age columns - imput form table (20% > x > 5% missing)\n",
    "    df['Age'] = df.groupby(['Title', 'Pclass'])['Age']\\\n",
    "        .transform(lambda x: x.fillna(x.median()))\n",
    "\n",
    "    fd['Pclass'] = fd['Pclass'].astype('object')\n",
    "    return df"
   ]
  },
  {
   "cell_type": "code",
   "execution_count": 45,
   "metadata": {},
   "outputs": [
    {
     "data": {
      "text/html": [
       "<div>\n",
       "<style scoped>\n",
       "    .dataframe tbody tr th:only-of-type {\n",
       "        vertical-align: middle;\n",
       "    }\n",
       "\n",
       "    .dataframe tbody tr th {\n",
       "        vertical-align: top;\n",
       "    }\n",
       "\n",
       "    .dataframe thead th {\n",
       "        text-align: right;\n",
       "    }\n",
       "</style>\n",
       "<table border=\"1\" class=\"dataframe\">\n",
       "  <thead>\n",
       "    <tr style=\"text-align: right;\">\n",
       "      <th></th>\n",
       "      <th>Age</th>\n",
       "      <th>Embarked</th>\n",
       "      <th>Fare</th>\n",
       "      <th>Pclass</th>\n",
       "      <th>Sex</th>\n",
       "      <th>Survived</th>\n",
       "      <th>Ticket</th>\n",
       "      <th>train</th>\n",
       "      <th>Related</th>\n",
       "      <th>Title</th>\n",
       "      <th>Deck</th>\n",
       "    </tr>\n",
       "  </thead>\n",
       "  <tbody>\n",
       "    <tr>\n",
       "      <td>count</td>\n",
       "      <td>1309.000000</td>\n",
       "      <td>1309</td>\n",
       "      <td>1309.000000</td>\n",
       "      <td>1309.000000</td>\n",
       "      <td>1309</td>\n",
       "      <td>891.000000</td>\n",
       "      <td>1309</td>\n",
       "      <td>1309.000000</td>\n",
       "      <td>1309</td>\n",
       "      <td>1309</td>\n",
       "      <td>1309</td>\n",
       "    </tr>\n",
       "    <tr>\n",
       "      <td>unique</td>\n",
       "      <td>NaN</td>\n",
       "      <td>3</td>\n",
       "      <td>NaN</td>\n",
       "      <td>NaN</td>\n",
       "      <td>2</td>\n",
       "      <td>NaN</td>\n",
       "      <td>4</td>\n",
       "      <td>NaN</td>\n",
       "      <td>5</td>\n",
       "      <td>4</td>\n",
       "      <td>3</td>\n",
       "    </tr>\n",
       "    <tr>\n",
       "      <td>top</td>\n",
       "      <td>NaN</td>\n",
       "      <td>S</td>\n",
       "      <td>NaN</td>\n",
       "      <td>NaN</td>\n",
       "      <td>male</td>\n",
       "      <td>NaN</td>\n",
       "      <td>Na</td>\n",
       "      <td>NaN</td>\n",
       "      <td>Solo</td>\n",
       "      <td>M</td>\n",
       "      <td>Na</td>\n",
       "    </tr>\n",
       "    <tr>\n",
       "      <td>freq</td>\n",
       "      <td>NaN</td>\n",
       "      <td>916</td>\n",
       "      <td>NaN</td>\n",
       "      <td>NaN</td>\n",
       "      <td>843</td>\n",
       "      <td>NaN</td>\n",
       "      <td>957</td>\n",
       "      <td>NaN</td>\n",
       "      <td>790</td>\n",
       "      <td>766</td>\n",
       "      <td>1014</td>\n",
       "    </tr>\n",
       "    <tr>\n",
       "      <td>mean</td>\n",
       "      <td>29.273621</td>\n",
       "      <td>NaN</td>\n",
       "      <td>33.281086</td>\n",
       "      <td>2.294882</td>\n",
       "      <td>NaN</td>\n",
       "      <td>0.383838</td>\n",
       "      <td>NaN</td>\n",
       "      <td>0.680672</td>\n",
       "      <td>NaN</td>\n",
       "      <td>NaN</td>\n",
       "      <td>NaN</td>\n",
       "    </tr>\n",
       "    <tr>\n",
       "      <td>std</td>\n",
       "      <td>13.452171</td>\n",
       "      <td>NaN</td>\n",
       "      <td>51.741500</td>\n",
       "      <td>0.837836</td>\n",
       "      <td>NaN</td>\n",
       "      <td>0.486592</td>\n",
       "      <td>NaN</td>\n",
       "      <td>0.466394</td>\n",
       "      <td>NaN</td>\n",
       "      <td>NaN</td>\n",
       "      <td>NaN</td>\n",
       "    </tr>\n",
       "    <tr>\n",
       "      <td>min</td>\n",
       "      <td>0.170000</td>\n",
       "      <td>NaN</td>\n",
       "      <td>0.000000</td>\n",
       "      <td>1.000000</td>\n",
       "      <td>NaN</td>\n",
       "      <td>0.000000</td>\n",
       "      <td>NaN</td>\n",
       "      <td>0.000000</td>\n",
       "      <td>NaN</td>\n",
       "      <td>NaN</td>\n",
       "      <td>NaN</td>\n",
       "    </tr>\n",
       "    <tr>\n",
       "      <td>25%</td>\n",
       "      <td>21.000000</td>\n",
       "      <td>NaN</td>\n",
       "      <td>7.895800</td>\n",
       "      <td>2.000000</td>\n",
       "      <td>NaN</td>\n",
       "      <td>0.000000</td>\n",
       "      <td>NaN</td>\n",
       "      <td>0.000000</td>\n",
       "      <td>NaN</td>\n",
       "      <td>NaN</td>\n",
       "      <td>NaN</td>\n",
       "    </tr>\n",
       "    <tr>\n",
       "      <td>50%</td>\n",
       "      <td>26.000000</td>\n",
       "      <td>NaN</td>\n",
       "      <td>14.454200</td>\n",
       "      <td>3.000000</td>\n",
       "      <td>NaN</td>\n",
       "      <td>0.000000</td>\n",
       "      <td>NaN</td>\n",
       "      <td>1.000000</td>\n",
       "      <td>NaN</td>\n",
       "      <td>NaN</td>\n",
       "      <td>NaN</td>\n",
       "    </tr>\n",
       "    <tr>\n",
       "      <td>75%</td>\n",
       "      <td>36.500000</td>\n",
       "      <td>NaN</td>\n",
       "      <td>31.275000</td>\n",
       "      <td>3.000000</td>\n",
       "      <td>NaN</td>\n",
       "      <td>1.000000</td>\n",
       "      <td>NaN</td>\n",
       "      <td>1.000000</td>\n",
       "      <td>NaN</td>\n",
       "      <td>NaN</td>\n",
       "      <td>NaN</td>\n",
       "    </tr>\n",
       "    <tr>\n",
       "      <td>max</td>\n",
       "      <td>80.000000</td>\n",
       "      <td>NaN</td>\n",
       "      <td>512.329200</td>\n",
       "      <td>3.000000</td>\n",
       "      <td>NaN</td>\n",
       "      <td>1.000000</td>\n",
       "      <td>NaN</td>\n",
       "      <td>1.000000</td>\n",
       "      <td>NaN</td>\n",
       "      <td>NaN</td>\n",
       "      <td>NaN</td>\n",
       "    </tr>\n",
       "  </tbody>\n",
       "</table>\n",
       "</div>"
      ],
      "text/plain": [
       "                Age Embarked         Fare       Pclass   Sex    Survived  \\\n",
       "count   1309.000000     1309  1309.000000  1309.000000  1309  891.000000   \n",
       "unique          NaN        3          NaN          NaN     2         NaN   \n",
       "top             NaN        S          NaN          NaN  male         NaN   \n",
       "freq            NaN      916          NaN          NaN   843         NaN   \n",
       "mean      29.273621      NaN    33.281086     2.294882   NaN    0.383838   \n",
       "std       13.452171      NaN    51.741500     0.837836   NaN    0.486592   \n",
       "min        0.170000      NaN     0.000000     1.000000   NaN    0.000000   \n",
       "25%       21.000000      NaN     7.895800     2.000000   NaN    0.000000   \n",
       "50%       26.000000      NaN    14.454200     3.000000   NaN    0.000000   \n",
       "75%       36.500000      NaN    31.275000     3.000000   NaN    1.000000   \n",
       "max       80.000000      NaN   512.329200     3.000000   NaN    1.000000   \n",
       "\n",
       "       Ticket        train Related Title  Deck  \n",
       "count    1309  1309.000000    1309  1309  1309  \n",
       "unique      4          NaN       5     4     3  \n",
       "top        Na          NaN    Solo     M    Na  \n",
       "freq      957          NaN     790   766  1014  \n",
       "mean      NaN     0.680672     NaN   NaN   NaN  \n",
       "std       NaN     0.466394     NaN   NaN   NaN  \n",
       "min       NaN     0.000000     NaN   NaN   NaN  \n",
       "25%       NaN     0.000000     NaN   NaN   NaN  \n",
       "50%       NaN     1.000000     NaN   NaN   NaN  \n",
       "75%       NaN     1.000000     NaN   NaN   NaN  \n",
       "max       NaN     1.000000     NaN   NaN   NaN  "
      ]
     },
     "execution_count": 45,
     "metadata": {},
     "output_type": "execute_result"
    }
   ],
   "source": [
    "# New copy to test function with pipeline\n",
    "simple_imputer_test = pipeline_test.copy()\n",
    "simple_imputer(simple_imputer_test)\n",
    "\n",
    "simple_imputer_test.describe(include='all')"
   ]
  },
  {
   "cell_type": "markdown",
   "metadata": {},
   "source": [
    "### 4.3. Missing Data Pipeline\n",
    "This pipeline will be used to simply adjust the model for missing data by creating the appropriate columns and filling them according to the type of data needed.\n",
    "\n",
    "The pipeline should now have five extra columns for each column that was missing data and counts of 1309 for each column except survival."
   ]
  },
  {
   "cell_type": "code",
   "execution_count": 46,
   "metadata": {},
   "outputs": [],
   "source": [
    "def missing_data(df):\n",
    "    (df.pipe(missing_col)\n",
    "     .pipe(simple_imputer))\n",
    "    return df"
   ]
  },
  {
   "cell_type": "code",
   "execution_count": 47,
   "metadata": {},
   "outputs": [
    {
     "data": {
      "text/html": [
       "<div>\n",
       "<style scoped>\n",
       "    .dataframe tbody tr th:only-of-type {\n",
       "        vertical-align: middle;\n",
       "    }\n",
       "\n",
       "    .dataframe tbody tr th {\n",
       "        vertical-align: top;\n",
       "    }\n",
       "\n",
       "    .dataframe thead th {\n",
       "        text-align: right;\n",
       "    }\n",
       "</style>\n",
       "<table border=\"1\" class=\"dataframe\">\n",
       "  <thead>\n",
       "    <tr style=\"text-align: right;\">\n",
       "      <th></th>\n",
       "      <th>Age</th>\n",
       "      <th>Embarked</th>\n",
       "      <th>Fare</th>\n",
       "      <th>Pclass</th>\n",
       "      <th>Sex</th>\n",
       "      <th>Survived</th>\n",
       "      <th>Ticket</th>\n",
       "      <th>train</th>\n",
       "      <th>Related</th>\n",
       "      <th>Title</th>\n",
       "      <th>Deck</th>\n",
       "      <th>Age_was_missing</th>\n",
       "      <th>Embarked_was_missing</th>\n",
       "      <th>Fare_was_missing</th>\n",
       "      <th>Ticket_was_missing</th>\n",
       "      <th>Deck_was_missing</th>\n",
       "    </tr>\n",
       "  </thead>\n",
       "  <tbody>\n",
       "    <tr>\n",
       "      <td>count</td>\n",
       "      <td>1309.000000</td>\n",
       "      <td>1309</td>\n",
       "      <td>1309.000000</td>\n",
       "      <td>1309.000000</td>\n",
       "      <td>1309</td>\n",
       "      <td>891.000000</td>\n",
       "      <td>1309</td>\n",
       "      <td>1309.000000</td>\n",
       "      <td>1309</td>\n",
       "      <td>1309</td>\n",
       "      <td>1309</td>\n",
       "      <td>1309</td>\n",
       "      <td>1309</td>\n",
       "      <td>1309</td>\n",
       "      <td>1309</td>\n",
       "      <td>1309</td>\n",
       "    </tr>\n",
       "    <tr>\n",
       "      <td>unique</td>\n",
       "      <td>NaN</td>\n",
       "      <td>3</td>\n",
       "      <td>NaN</td>\n",
       "      <td>NaN</td>\n",
       "      <td>2</td>\n",
       "      <td>NaN</td>\n",
       "      <td>4</td>\n",
       "      <td>NaN</td>\n",
       "      <td>5</td>\n",
       "      <td>4</td>\n",
       "      <td>3</td>\n",
       "      <td>2</td>\n",
       "      <td>2</td>\n",
       "      <td>2</td>\n",
       "      <td>2</td>\n",
       "      <td>2</td>\n",
       "    </tr>\n",
       "    <tr>\n",
       "      <td>top</td>\n",
       "      <td>NaN</td>\n",
       "      <td>S</td>\n",
       "      <td>NaN</td>\n",
       "      <td>NaN</td>\n",
       "      <td>male</td>\n",
       "      <td>NaN</td>\n",
       "      <td>Na</td>\n",
       "      <td>NaN</td>\n",
       "      <td>Solo</td>\n",
       "      <td>M</td>\n",
       "      <td>Na</td>\n",
       "      <td>False</td>\n",
       "      <td>False</td>\n",
       "      <td>False</td>\n",
       "      <td>True</td>\n",
       "      <td>True</td>\n",
       "    </tr>\n",
       "    <tr>\n",
       "      <td>freq</td>\n",
       "      <td>NaN</td>\n",
       "      <td>916</td>\n",
       "      <td>NaN</td>\n",
       "      <td>NaN</td>\n",
       "      <td>843</td>\n",
       "      <td>NaN</td>\n",
       "      <td>957</td>\n",
       "      <td>NaN</td>\n",
       "      <td>790</td>\n",
       "      <td>766</td>\n",
       "      <td>1014</td>\n",
       "      <td>1046</td>\n",
       "      <td>1307</td>\n",
       "      <td>1308</td>\n",
       "      <td>957</td>\n",
       "      <td>1014</td>\n",
       "    </tr>\n",
       "    <tr>\n",
       "      <td>mean</td>\n",
       "      <td>29.273621</td>\n",
       "      <td>NaN</td>\n",
       "      <td>33.281086</td>\n",
       "      <td>2.294882</td>\n",
       "      <td>NaN</td>\n",
       "      <td>0.383838</td>\n",
       "      <td>NaN</td>\n",
       "      <td>0.680672</td>\n",
       "      <td>NaN</td>\n",
       "      <td>NaN</td>\n",
       "      <td>NaN</td>\n",
       "      <td>NaN</td>\n",
       "      <td>NaN</td>\n",
       "      <td>NaN</td>\n",
       "      <td>NaN</td>\n",
       "      <td>NaN</td>\n",
       "    </tr>\n",
       "    <tr>\n",
       "      <td>std</td>\n",
       "      <td>13.452171</td>\n",
       "      <td>NaN</td>\n",
       "      <td>51.741500</td>\n",
       "      <td>0.837836</td>\n",
       "      <td>NaN</td>\n",
       "      <td>0.486592</td>\n",
       "      <td>NaN</td>\n",
       "      <td>0.466394</td>\n",
       "      <td>NaN</td>\n",
       "      <td>NaN</td>\n",
       "      <td>NaN</td>\n",
       "      <td>NaN</td>\n",
       "      <td>NaN</td>\n",
       "      <td>NaN</td>\n",
       "      <td>NaN</td>\n",
       "      <td>NaN</td>\n",
       "    </tr>\n",
       "    <tr>\n",
       "      <td>min</td>\n",
       "      <td>0.170000</td>\n",
       "      <td>NaN</td>\n",
       "      <td>0.000000</td>\n",
       "      <td>1.000000</td>\n",
       "      <td>NaN</td>\n",
       "      <td>0.000000</td>\n",
       "      <td>NaN</td>\n",
       "      <td>0.000000</td>\n",
       "      <td>NaN</td>\n",
       "      <td>NaN</td>\n",
       "      <td>NaN</td>\n",
       "      <td>NaN</td>\n",
       "      <td>NaN</td>\n",
       "      <td>NaN</td>\n",
       "      <td>NaN</td>\n",
       "      <td>NaN</td>\n",
       "    </tr>\n",
       "    <tr>\n",
       "      <td>25%</td>\n",
       "      <td>21.000000</td>\n",
       "      <td>NaN</td>\n",
       "      <td>7.895800</td>\n",
       "      <td>2.000000</td>\n",
       "      <td>NaN</td>\n",
       "      <td>0.000000</td>\n",
       "      <td>NaN</td>\n",
       "      <td>0.000000</td>\n",
       "      <td>NaN</td>\n",
       "      <td>NaN</td>\n",
       "      <td>NaN</td>\n",
       "      <td>NaN</td>\n",
       "      <td>NaN</td>\n",
       "      <td>NaN</td>\n",
       "      <td>NaN</td>\n",
       "      <td>NaN</td>\n",
       "    </tr>\n",
       "    <tr>\n",
       "      <td>50%</td>\n",
       "      <td>26.000000</td>\n",
       "      <td>NaN</td>\n",
       "      <td>14.454200</td>\n",
       "      <td>3.000000</td>\n",
       "      <td>NaN</td>\n",
       "      <td>0.000000</td>\n",
       "      <td>NaN</td>\n",
       "      <td>1.000000</td>\n",
       "      <td>NaN</td>\n",
       "      <td>NaN</td>\n",
       "      <td>NaN</td>\n",
       "      <td>NaN</td>\n",
       "      <td>NaN</td>\n",
       "      <td>NaN</td>\n",
       "      <td>NaN</td>\n",
       "      <td>NaN</td>\n",
       "    </tr>\n",
       "    <tr>\n",
       "      <td>75%</td>\n",
       "      <td>36.500000</td>\n",
       "      <td>NaN</td>\n",
       "      <td>31.275000</td>\n",
       "      <td>3.000000</td>\n",
       "      <td>NaN</td>\n",
       "      <td>1.000000</td>\n",
       "      <td>NaN</td>\n",
       "      <td>1.000000</td>\n",
       "      <td>NaN</td>\n",
       "      <td>NaN</td>\n",
       "      <td>NaN</td>\n",
       "      <td>NaN</td>\n",
       "      <td>NaN</td>\n",
       "      <td>NaN</td>\n",
       "      <td>NaN</td>\n",
       "      <td>NaN</td>\n",
       "    </tr>\n",
       "    <tr>\n",
       "      <td>max</td>\n",
       "      <td>80.000000</td>\n",
       "      <td>NaN</td>\n",
       "      <td>512.329200</td>\n",
       "      <td>3.000000</td>\n",
       "      <td>NaN</td>\n",
       "      <td>1.000000</td>\n",
       "      <td>NaN</td>\n",
       "      <td>1.000000</td>\n",
       "      <td>NaN</td>\n",
       "      <td>NaN</td>\n",
       "      <td>NaN</td>\n",
       "      <td>NaN</td>\n",
       "      <td>NaN</td>\n",
       "      <td>NaN</td>\n",
       "      <td>NaN</td>\n",
       "      <td>NaN</td>\n",
       "    </tr>\n",
       "  </tbody>\n",
       "</table>\n",
       "</div>"
      ],
      "text/plain": [
       "                Age Embarked         Fare       Pclass   Sex    Survived  \\\n",
       "count   1309.000000     1309  1309.000000  1309.000000  1309  891.000000   \n",
       "unique          NaN        3          NaN          NaN     2         NaN   \n",
       "top             NaN        S          NaN          NaN  male         NaN   \n",
       "freq            NaN      916          NaN          NaN   843         NaN   \n",
       "mean      29.273621      NaN    33.281086     2.294882   NaN    0.383838   \n",
       "std       13.452171      NaN    51.741500     0.837836   NaN    0.486592   \n",
       "min        0.170000      NaN     0.000000     1.000000   NaN    0.000000   \n",
       "25%       21.000000      NaN     7.895800     2.000000   NaN    0.000000   \n",
       "50%       26.000000      NaN    14.454200     3.000000   NaN    0.000000   \n",
       "75%       36.500000      NaN    31.275000     3.000000   NaN    1.000000   \n",
       "max       80.000000      NaN   512.329200     3.000000   NaN    1.000000   \n",
       "\n",
       "       Ticket        train Related Title  Deck Age_was_missing  \\\n",
       "count    1309  1309.000000    1309  1309  1309            1309   \n",
       "unique      4          NaN       5     4     3               2   \n",
       "top        Na          NaN    Solo     M    Na           False   \n",
       "freq      957          NaN     790   766  1014            1046   \n",
       "mean      NaN     0.680672     NaN   NaN   NaN             NaN   \n",
       "std       NaN     0.466394     NaN   NaN   NaN             NaN   \n",
       "min       NaN     0.000000     NaN   NaN   NaN             NaN   \n",
       "25%       NaN     0.000000     NaN   NaN   NaN             NaN   \n",
       "50%       NaN     1.000000     NaN   NaN   NaN             NaN   \n",
       "75%       NaN     1.000000     NaN   NaN   NaN             NaN   \n",
       "max       NaN     1.000000     NaN   NaN   NaN             NaN   \n",
       "\n",
       "       Embarked_was_missing Fare_was_missing Ticket_was_missing  \\\n",
       "count                  1309             1309               1309   \n",
       "unique                    2                2                  2   \n",
       "top                   False            False               True   \n",
       "freq                   1307             1308                957   \n",
       "mean                    NaN              NaN                NaN   \n",
       "std                     NaN              NaN                NaN   \n",
       "min                     NaN              NaN                NaN   \n",
       "25%                     NaN              NaN                NaN   \n",
       "50%                     NaN              NaN                NaN   \n",
       "75%                     NaN              NaN                NaN   \n",
       "max                     NaN              NaN                NaN   \n",
       "\n",
       "       Deck_was_missing  \n",
       "count              1309  \n",
       "unique                2  \n",
       "top                True  \n",
       "freq               1014  \n",
       "mean                NaN  \n",
       "std                 NaN  \n",
       "min                 NaN  \n",
       "25%                 NaN  \n",
       "50%                 NaN  \n",
       "75%                 NaN  \n",
       "max                 NaN  "
      ]
     },
     "execution_count": 47,
     "metadata": {},
     "output_type": "execute_result"
    }
   ],
   "source": [
    "missing_pipeline_test = pipeline_test.copy()\n",
    "missing_data(missing_pipeline_test)\n",
    "\n",
    "missing_pipeline_test.describe(include='all')"
   ]
  },
  {
   "cell_type": "markdown",
   "metadata": {},
   "source": [
    "## 5. Binning Numerical Data\n",
    "### 5.1. Age Bin Determination\n",
    "To determine the bin sizes for age, the survival rates of the ages was observed for higher rates at certain peaks. As seen in the initial observation of the data, it's seen that there is a small survival bump at the lower ages denoting that children were more likely to live. To observe the ages that can be binned, it is possible to look at where the frequency charts of age vs. survival overlap. If not survived is higher, than people at those ages had a lower chance of survival, otherwise, they had higher chances. Therefore, by looking at the crossing points, it can be observed at which age groups it was more likely to live.\n",
    "\n",
    "As for age, it's observed at approximately 13, 30, and 58 years showed relatively significant changes in survival vs. not survived rates."
   ]
  },
  {
   "cell_type": "code",
   "execution_count": 48,
   "metadata": {},
   "outputs": [
    {
     "data": {
      "image/png": "[encoded data removed]",
      "text/plain": [
       "<Figure size 1800x360 with 4 Axes>"
      ]
     },
     "metadata": {
      "needs_background": "light"
     },
     "output_type": "display_data"
    }
   ],
   "source": [
    "fig, ax = plt.subplots(1, 4, figsize=(25, 5))\n",
    "\n",
    "sns.kdeplot(fd[\"Age\"][(fd[\"Survived\"] == 0) & (fd[\"Age\"].notnull())], ax=ax[0])\n",
    "sns.kdeplot(fd[\"Age\"][(fd[\"Survived\"] == 1) & (fd[\"Age\"].notnull())], ax=ax[0])\n",
    "ax[0].set_xlabel(\"Age\")\n",
    "ax[0].set_ylabel(\"Frequency\")\n",
    "ax[0] = ax[0].legend([\"Not Survived\", \"Survived\"])\n",
    "\n",
    "sns.kdeplot(fd[\"Age\"][(fd[\"Survived\"] == 0) & (fd[\"Age\"].notnull())], ax=ax[1])\n",
    "sns.kdeplot(fd[\"Age\"][(fd[\"Survived\"] == 1) & (fd[\"Age\"].notnull())], ax=ax[1])\n",
    "ax[1].set_xlabel(\"Age\")\n",
    "ax[1].set_ylabel(\"Frequency\")\n",
    "ax[1].set(xlim=(0, 20))\n",
    "ax[1] = ax[1].legend([\"Not Survived\", \"Survived\"])\n",
    "\n",
    "sns.kdeplot(fd[\"Age\"][(fd[\"Survived\"] == 0) & (fd[\"Age\"].notnull())], ax=ax[2])\n",
    "sns.kdeplot(fd[\"Age\"][(fd[\"Survived\"] == 1) & (fd[\"Age\"].notnull())], ax=ax[2])\n",
    "ax[2].set_xlabel(\"Age\")\n",
    "ax[2].set_ylabel(\"Frequency\")\n",
    "ax[2].set(xlim=(20, 40))\n",
    "ax[2] = ax[2].legend([\"Not Survived\", \"Survived\"])\n",
    "\n",
    "sns.kdeplot(fd[\"Age\"][(fd[\"Survived\"] == 0) & (fd[\"Age\"].notnull())], ax=ax[3])\n",
    "sns.kdeplot(fd[\"Age\"][(fd[\"Survived\"] == 1) & (fd[\"Age\"].notnull())], ax=ax[3])\n",
    "ax[3].set_xlabel(\"Age\")\n",
    "ax[3].set_ylabel(\"Frequency\")\n",
    "ax[3].set(xlim=(50, 70))\n",
    "ax[3] = ax[3].legend([\"Not Survived\", \"Survived\"])"
   ]
  },
  {
   "cell_type": "markdown",
   "metadata": {},
   "source": [
    "### 5.2. Fare Bins Determination\n",
    "The same process as age bins was achieved with fare bin determination. One distinct feature was the rate of survival of lower paying fare members seems significantly higher than those paying more.\n",
    "\n",
    "As for Fare, it's observed at approximately 17 years showed relatively significant changes in survival vs. not survived rates."
   ]
  },
  {
   "cell_type": "code",
   "execution_count": 49,
   "metadata": {},
   "outputs": [
    {
     "data": {
      "image/png": "[encoded data removed]",
      "text/plain": [
       "<Figure size 1080x360 with 2 Axes>"
      ]
     },
     "metadata": {
      "needs_background": "light"
     },
     "output_type": "display_data"
    }
   ],
   "source": [
    "fig, ax = plt.subplots(1, 2, figsize=(15, 5))\n",
    "\n",
    "sns.kdeplot(fd[\"Fare\"][(fd[\"Survived\"] == 0) &\n",
    "                       (fd[\"Fare\"].notnull())], ax=ax[0])\n",
    "sns.kdeplot(fd[\"Fare\"][(fd[\"Survived\"] == 1) &\n",
    "                       (fd[\"Fare\"].notnull())], ax=ax[0])\n",
    "ax[0].set_xlabel(\"Fare\")\n",
    "ax[0].set_ylabel(\"Frequency\")\n",
    "ax[0] = ax[0].legend([\"Not Survived\", \"Survived\"])\n",
    "\n",
    "sns.kdeplot(fd[\"Fare\"][(fd[\"Survived\"] == 0) &\n",
    "                       (fd[\"Fare\"].notnull())], ax=ax[1])\n",
    "sns.kdeplot(fd[\"Fare\"][(fd[\"Survived\"] == 1) &\n",
    "                       (fd[\"Fare\"].notnull())], ax=ax[1])\n",
    "ax[1].set_xlabel(\"Fare\")\n",
    "ax[1].set_ylabel(\"Frequency\")\n",
    "ax[1].set(xlim=(10, 30))\n",
    "ax[1] = ax[1].legend([\"Not Survived\", \"Survived\"])"
   ]
  },
  {
   "cell_type": "code",
   "execution_count": 50,
   "metadata": {
    "scrolled": false
   },
   "outputs": [
    {
     "data": {
      "image/png": "[encoded data removed]",
      "text/plain": [
       "<Figure size 1080x360 with 2 Axes>"
      ]
     },
     "metadata": {
      "needs_background": "light"
     },
     "output_type": "display_data"
    }
   ],
   "source": [
    "fig, ax = plt.subplots(1, 2, figsize=(15, 5))\n",
    "\n",
    "sns.kdeplot(fd[\"Fare\"][(fd[\"Survived\"] == 0) &\n",
    "                       (fd[\"Fare\"].notnull())], ax=ax[0])\n",
    "sns.kdeplot(fd[\"Fare\"][(fd[\"Survived\"] == 1) &\n",
    "                       (fd[\"Fare\"].notnull())], ax=ax[0])\n",
    "ax[0].set_xlabel(\"Fare\")\n",
    "ax[0].set_ylabel(\"Frequency\")\n",
    "ax[0] = ax[0].legend([\"Not Survived\", \"Survived\"])\n",
    "\n",
    "sns.kdeplot(fd[\"Fare\"][(fd[\"Survived\"] == 0) &\n",
    "                       (fd[\"Fare\"].notnull())], ax=ax[1])\n",
    "sns.kdeplot(fd[\"Fare\"][(fd[\"Survived\"] == 1) &\n",
    "                       (fd[\"Fare\"].notnull())], ax=ax[1])\n",
    "ax[1].set_xlabel(\"Fare\")\n",
    "ax[1].set_ylabel(\"Frequency\")\n",
    "ax[1].set(xlim=(10, 30))\n",
    "ax[1] = ax[1].legend([\"Not Survived\", \"Survived\"])"
   ]
  },
  {
   "cell_type": "markdown",
   "metadata": {},
   "source": [
    "### 5.3. Bin Function Testing\n",
    "Overall the binning held the same trends observed with the fare and age when determining binning of each age and fare group. Therefore, most of the information was preserved."
   ]
  },
  {
   "cell_type": "code",
   "execution_count": 51,
   "metadata": {},
   "outputs": [],
   "source": [
    "def fare_age_bins(df):\n",
    "    df['Fare'] = df['Fare'].map(lambda y: \"Low\" if y < 17 else \"High\")\n",
    "    df['Age'] = df['Age'].map(lambda y: \"Child\" if y < 13\n",
    "                              else \"Early\" if y < 30\n",
    "                              else \"Mid\" if y < 58\n",
    "                              else \"Late\")\n",
    "    return df"
   ]
  },
  {
   "cell_type": "code",
   "execution_count": 52,
   "metadata": {},
   "outputs": [
    {
     "name": "stdout",
     "output_type": "stream",
     "text": [
      "Fare : ['High' 'Low']\n",
      "Age  : ['Child' 'Early' 'Mid' 'Late']\n"
     ]
    },
    {
     "data": {
      "text/html": [
       "<div>\n",
       "<style scoped>\n",
       "    .dataframe tbody tr th:only-of-type {\n",
       "        vertical-align: middle;\n",
       "    }\n",
       "\n",
       "    .dataframe tbody tr th {\n",
       "        vertical-align: top;\n",
       "    }\n",
       "\n",
       "    .dataframe thead th {\n",
       "        text-align: right;\n",
       "    }\n",
       "</style>\n",
       "<table border=\"1\" class=\"dataframe\">\n",
       "  <thead>\n",
       "    <tr style=\"text-align: right;\">\n",
       "      <th></th>\n",
       "      <th>Age</th>\n",
       "      <th>Embarked</th>\n",
       "      <th>Fare</th>\n",
       "      <th>Pclass</th>\n",
       "      <th>Sex</th>\n",
       "      <th>Survived</th>\n",
       "      <th>Ticket</th>\n",
       "      <th>train</th>\n",
       "      <th>Related</th>\n",
       "      <th>Title</th>\n",
       "      <th>Deck</th>\n",
       "      <th>Age_was_missing</th>\n",
       "      <th>Embarked_was_missing</th>\n",
       "      <th>Fare_was_missing</th>\n",
       "      <th>Ticket_was_missing</th>\n",
       "      <th>Deck_was_missing</th>\n",
       "    </tr>\n",
       "  </thead>\n",
       "  <tbody>\n",
       "    <tr>\n",
       "      <td>count</td>\n",
       "      <td>1309</td>\n",
       "      <td>1309</td>\n",
       "      <td>1309</td>\n",
       "      <td>1309.000000</td>\n",
       "      <td>1309</td>\n",
       "      <td>891.000000</td>\n",
       "      <td>1309</td>\n",
       "      <td>1309.000000</td>\n",
       "      <td>1309</td>\n",
       "      <td>1309</td>\n",
       "      <td>1309</td>\n",
       "      <td>1309</td>\n",
       "      <td>1309</td>\n",
       "      <td>1309</td>\n",
       "      <td>1309</td>\n",
       "      <td>1309</td>\n",
       "    </tr>\n",
       "    <tr>\n",
       "      <td>unique</td>\n",
       "      <td>4</td>\n",
       "      <td>3</td>\n",
       "      <td>2</td>\n",
       "      <td>NaN</td>\n",
       "      <td>2</td>\n",
       "      <td>NaN</td>\n",
       "      <td>4</td>\n",
       "      <td>NaN</td>\n",
       "      <td>5</td>\n",
       "      <td>4</td>\n",
       "      <td>3</td>\n",
       "      <td>2</td>\n",
       "      <td>2</td>\n",
       "      <td>2</td>\n",
       "      <td>2</td>\n",
       "      <td>2</td>\n",
       "    </tr>\n",
       "    <tr>\n",
       "      <td>top</td>\n",
       "      <td>Early</td>\n",
       "      <td>S</td>\n",
       "      <td>Low</td>\n",
       "      <td>NaN</td>\n",
       "      <td>male</td>\n",
       "      <td>NaN</td>\n",
       "      <td>Na</td>\n",
       "      <td>NaN</td>\n",
       "      <td>Solo</td>\n",
       "      <td>M</td>\n",
       "      <td>Na</td>\n",
       "      <td>False</td>\n",
       "      <td>False</td>\n",
       "      <td>False</td>\n",
       "      <td>True</td>\n",
       "      <td>True</td>\n",
       "    </tr>\n",
       "    <tr>\n",
       "      <td>freq</td>\n",
       "      <td>661</td>\n",
       "      <td>916</td>\n",
       "      <td>732</td>\n",
       "      <td>NaN</td>\n",
       "      <td>843</td>\n",
       "      <td>NaN</td>\n",
       "      <td>957</td>\n",
       "      <td>NaN</td>\n",
       "      <td>790</td>\n",
       "      <td>766</td>\n",
       "      <td>1014</td>\n",
       "      <td>1046</td>\n",
       "      <td>1307</td>\n",
       "      <td>1308</td>\n",
       "      <td>957</td>\n",
       "      <td>1014</td>\n",
       "    </tr>\n",
       "    <tr>\n",
       "      <td>mean</td>\n",
       "      <td>NaN</td>\n",
       "      <td>NaN</td>\n",
       "      <td>NaN</td>\n",
       "      <td>2.294882</td>\n",
       "      <td>NaN</td>\n",
       "      <td>0.383838</td>\n",
       "      <td>NaN</td>\n",
       "      <td>0.680672</td>\n",
       "      <td>NaN</td>\n",
       "      <td>NaN</td>\n",
       "      <td>NaN</td>\n",
       "      <td>NaN</td>\n",
       "      <td>NaN</td>\n",
       "      <td>NaN</td>\n",
       "      <td>NaN</td>\n",
       "      <td>NaN</td>\n",
       "    </tr>\n",
       "    <tr>\n",
       "      <td>std</td>\n",
       "      <td>NaN</td>\n",
       "      <td>NaN</td>\n",
       "      <td>NaN</td>\n",
       "      <td>0.837836</td>\n",
       "      <td>NaN</td>\n",
       "      <td>0.486592</td>\n",
       "      <td>NaN</td>\n",
       "      <td>0.466394</td>\n",
       "      <td>NaN</td>\n",
       "      <td>NaN</td>\n",
       "      <td>NaN</td>\n",
       "      <td>NaN</td>\n",
       "      <td>NaN</td>\n",
       "      <td>NaN</td>\n",
       "      <td>NaN</td>\n",
       "      <td>NaN</td>\n",
       "    </tr>\n",
       "    <tr>\n",
       "      <td>min</td>\n",
       "      <td>NaN</td>\n",
       "      <td>NaN</td>\n",
       "      <td>NaN</td>\n",
       "      <td>1.000000</td>\n",
       "      <td>NaN</td>\n",
       "      <td>0.000000</td>\n",
       "      <td>NaN</td>\n",
       "      <td>0.000000</td>\n",
       "      <td>NaN</td>\n",
       "      <td>NaN</td>\n",
       "      <td>NaN</td>\n",
       "      <td>NaN</td>\n",
       "      <td>NaN</td>\n",
       "      <td>NaN</td>\n",
       "      <td>NaN</td>\n",
       "      <td>NaN</td>\n",
       "    </tr>\n",
       "    <tr>\n",
       "      <td>25%</td>\n",
       "      <td>NaN</td>\n",
       "      <td>NaN</td>\n",
       "      <td>NaN</td>\n",
       "      <td>2.000000</td>\n",
       "      <td>NaN</td>\n",
       "      <td>0.000000</td>\n",
       "      <td>NaN</td>\n",
       "      <td>0.000000</td>\n",
       "      <td>NaN</td>\n",
       "      <td>NaN</td>\n",
       "      <td>NaN</td>\n",
       "      <td>NaN</td>\n",
       "      <td>NaN</td>\n",
       "      <td>NaN</td>\n",
       "      <td>NaN</td>\n",
       "      <td>NaN</td>\n",
       "    </tr>\n",
       "    <tr>\n",
       "      <td>50%</td>\n",
       "      <td>NaN</td>\n",
       "      <td>NaN</td>\n",
       "      <td>NaN</td>\n",
       "      <td>3.000000</td>\n",
       "      <td>NaN</td>\n",
       "      <td>0.000000</td>\n",
       "      <td>NaN</td>\n",
       "      <td>1.000000</td>\n",
       "      <td>NaN</td>\n",
       "      <td>NaN</td>\n",
       "      <td>NaN</td>\n",
       "      <td>NaN</td>\n",
       "      <td>NaN</td>\n",
       "      <td>NaN</td>\n",
       "      <td>NaN</td>\n",
       "      <td>NaN</td>\n",
       "    </tr>\n",
       "    <tr>\n",
       "      <td>75%</td>\n",
       "      <td>NaN</td>\n",
       "      <td>NaN</td>\n",
       "      <td>NaN</td>\n",
       "      <td>3.000000</td>\n",
       "      <td>NaN</td>\n",
       "      <td>1.000000</td>\n",
       "      <td>NaN</td>\n",
       "      <td>1.000000</td>\n",
       "      <td>NaN</td>\n",
       "      <td>NaN</td>\n",
       "      <td>NaN</td>\n",
       "      <td>NaN</td>\n",
       "      <td>NaN</td>\n",
       "      <td>NaN</td>\n",
       "      <td>NaN</td>\n",
       "      <td>NaN</td>\n",
       "    </tr>\n",
       "    <tr>\n",
       "      <td>max</td>\n",
       "      <td>NaN</td>\n",
       "      <td>NaN</td>\n",
       "      <td>NaN</td>\n",
       "      <td>3.000000</td>\n",
       "      <td>NaN</td>\n",
       "      <td>1.000000</td>\n",
       "      <td>NaN</td>\n",
       "      <td>1.000000</td>\n",
       "      <td>NaN</td>\n",
       "      <td>NaN</td>\n",
       "      <td>NaN</td>\n",
       "      <td>NaN</td>\n",
       "      <td>NaN</td>\n",
       "      <td>NaN</td>\n",
       "      <td>NaN</td>\n",
       "      <td>NaN</td>\n",
       "    </tr>\n",
       "  </tbody>\n",
       "</table>\n",
       "</div>"
      ],
      "text/plain": [
       "          Age Embarked  Fare       Pclass   Sex    Survived Ticket  \\\n",
       "count    1309     1309  1309  1309.000000  1309  891.000000   1309   \n",
       "unique      4        3     2          NaN     2         NaN      4   \n",
       "top     Early        S   Low          NaN  male         NaN     Na   \n",
       "freq      661      916   732          NaN   843         NaN    957   \n",
       "mean      NaN      NaN   NaN     2.294882   NaN    0.383838    NaN   \n",
       "std       NaN      NaN   NaN     0.837836   NaN    0.486592    NaN   \n",
       "min       NaN      NaN   NaN     1.000000   NaN    0.000000    NaN   \n",
       "25%       NaN      NaN   NaN     2.000000   NaN    0.000000    NaN   \n",
       "50%       NaN      NaN   NaN     3.000000   NaN    0.000000    NaN   \n",
       "75%       NaN      NaN   NaN     3.000000   NaN    1.000000    NaN   \n",
       "max       NaN      NaN   NaN     3.000000   NaN    1.000000    NaN   \n",
       "\n",
       "              train Related Title  Deck Age_was_missing Embarked_was_missing  \\\n",
       "count   1309.000000    1309  1309  1309            1309                 1309   \n",
       "unique          NaN       5     4     3               2                    2   \n",
       "top             NaN    Solo     M    Na           False                False   \n",
       "freq            NaN     790   766  1014            1046                 1307   \n",
       "mean       0.680672     NaN   NaN   NaN             NaN                  NaN   \n",
       "std        0.466394     NaN   NaN   NaN             NaN                  NaN   \n",
       "min        0.000000     NaN   NaN   NaN             NaN                  NaN   \n",
       "25%        0.000000     NaN   NaN   NaN             NaN                  NaN   \n",
       "50%        1.000000     NaN   NaN   NaN             NaN                  NaN   \n",
       "75%        1.000000     NaN   NaN   NaN             NaN                  NaN   \n",
       "max        1.000000     NaN   NaN   NaN             NaN                  NaN   \n",
       "\n",
       "       Fare_was_missing Ticket_was_missing Deck_was_missing  \n",
       "count              1309               1309             1309  \n",
       "unique                2                  2                2  \n",
       "top               False               True             True  \n",
       "freq               1308                957             1014  \n",
       "mean                NaN                NaN              NaN  \n",
       "std                 NaN                NaN              NaN  \n",
       "min                 NaN                NaN              NaN  \n",
       "25%                 NaN                NaN              NaN  \n",
       "50%                 NaN                NaN              NaN  \n",
       "75%                 NaN                NaN              NaN  \n",
       "max                 NaN                NaN              NaN  "
      ]
     },
     "execution_count": 52,
     "metadata": {},
     "output_type": "execute_result"
    }
   ],
   "source": [
    "bin_test = missing_pipeline_test.copy()\n",
    "bin_test.sort_values(by=['Age'], ascending=True, inplace=True)\n",
    "fare_age_bins(bin_test)\n",
    "\n",
    "print(\"Fare :\", bin_test.Fare.unique())\n",
    "print(\"Age  :\", bin_test.Age.unique())\n",
    "bin_test.describe(include='all')"
   ]
  },
  {
   "cell_type": "code",
   "execution_count": 53,
   "metadata": {},
   "outputs": [
    {
     "data": {
      "text/html": [
       "<div>\n",
       "<style scoped>\n",
       "    .dataframe tbody tr th:only-of-type {\n",
       "        vertical-align: middle;\n",
       "    }\n",
       "\n",
       "    .dataframe tbody tr th {\n",
       "        vertical-align: top;\n",
       "    }\n",
       "\n",
       "    .dataframe thead th {\n",
       "        text-align: right;\n",
       "    }\n",
       "</style>\n",
       "<table border=\"1\" class=\"dataframe\">\n",
       "  <thead>\n",
       "    <tr style=\"text-align: right;\">\n",
       "      <th>Survived</th>\n",
       "      <th>0.0</th>\n",
       "      <th>1.0</th>\n",
       "    </tr>\n",
       "    <tr>\n",
       "      <th>Fare</th>\n",
       "      <th></th>\n",
       "      <th></th>\n",
       "    </tr>\n",
       "  </thead>\n",
       "  <tbody>\n",
       "    <tr>\n",
       "      <td>High</td>\n",
       "      <td>185</td>\n",
       "      <td>210</td>\n",
       "    </tr>\n",
       "    <tr>\n",
       "      <td>Low</td>\n",
       "      <td>364</td>\n",
       "      <td>132</td>\n",
       "    </tr>\n",
       "  </tbody>\n",
       "</table>\n",
       "</div>"
      ],
      "text/plain": [
       "Survived  0.0  1.0\n",
       "Fare              \n",
       "High      185  210\n",
       "Low       364  132"
      ]
     },
     "execution_count": 53,
     "metadata": {},
     "output_type": "execute_result"
    }
   ],
   "source": [
    "pd.crosstab(bin_test['Fare'], bin_test['Survived'])"
   ]
  },
  {
   "cell_type": "code",
   "execution_count": 54,
   "metadata": {},
   "outputs": [
    {
     "data": {
      "text/html": [
       "<div>\n",
       "<style scoped>\n",
       "    .dataframe tbody tr th:only-of-type {\n",
       "        vertical-align: middle;\n",
       "    }\n",
       "\n",
       "    .dataframe tbody tr th {\n",
       "        vertical-align: top;\n",
       "    }\n",
       "\n",
       "    .dataframe thead th {\n",
       "        text-align: right;\n",
       "    }\n",
       "</style>\n",
       "<table border=\"1\" class=\"dataframe\">\n",
       "  <thead>\n",
       "    <tr style=\"text-align: right;\">\n",
       "      <th>Survived</th>\n",
       "      <th>0.0</th>\n",
       "      <th>1.0</th>\n",
       "    </tr>\n",
       "    <tr>\n",
       "      <th>Age</th>\n",
       "      <th></th>\n",
       "      <th></th>\n",
       "    </tr>\n",
       "  </thead>\n",
       "  <tbody>\n",
       "    <tr>\n",
       "      <td>Child</td>\n",
       "      <td>31</td>\n",
       "      <td>42</td>\n",
       "    </tr>\n",
       "    <tr>\n",
       "      <td>Early</td>\n",
       "      <td>296</td>\n",
       "      <td>144</td>\n",
       "    </tr>\n",
       "    <tr>\n",
       "      <td>Late</td>\n",
       "      <td>23</td>\n",
       "      <td>10</td>\n",
       "    </tr>\n",
       "    <tr>\n",
       "      <td>Mid</td>\n",
       "      <td>199</td>\n",
       "      <td>146</td>\n",
       "    </tr>\n",
       "  </tbody>\n",
       "</table>\n",
       "</div>"
      ],
      "text/plain": [
       "Survived  0.0  1.0\n",
       "Age               \n",
       "Child      31   42\n",
       "Early     296  144\n",
       "Late       23   10\n",
       "Mid       199  146"
      ]
     },
     "execution_count": 54,
     "metadata": {},
     "output_type": "execute_result"
    }
   ],
   "source": [
    "pd.crosstab(bin_test['Age'], bin_test['Survived'])"
   ]
  },
  {
   "cell_type": "code",
   "execution_count": 55,
   "metadata": {},
   "outputs": [
    {
     "data": {
      "image/png": "[encoded data removed]",
      "text/plain": [
       "<Figure size 1080x360 with 2 Axes>"
      ]
     },
     "metadata": {
      "needs_background": "light"
     },
     "output_type": "display_data"
    }
   ],
   "source": [
    "fig, ax = plt.subplots(1, 2, figsize=(15, 5))\n",
    "sns.catplot(y=\"Survived\", x=\"Fare\", data=bin_test, kind=\"bar\", ax=ax[0])\n",
    "sns.catplot(y=\"Survived\", x=\"Age\", data=bin_test, kind=\"bar\", ax=ax[1])\n",
    "for i in range(2, 4):\n",
    "    plt.close(i)"
   ]
  },
  {
   "cell_type": "code",
   "execution_count": 56,
   "metadata": {},
   "outputs": [
    {
     "data": {
      "text/html": [
       "<div>\n",
       "<style scoped>\n",
       "    .dataframe tbody tr th:only-of-type {\n",
       "        vertical-align: middle;\n",
       "    }\n",
       "\n",
       "    .dataframe tbody tr th {\n",
       "        vertical-align: top;\n",
       "    }\n",
       "\n",
       "    .dataframe thead th {\n",
       "        text-align: right;\n",
       "    }\n",
       "</style>\n",
       "<table border=\"1\" class=\"dataframe\">\n",
       "  <thead>\n",
       "    <tr style=\"text-align: right;\">\n",
       "      <th></th>\n",
       "      <th>Age</th>\n",
       "      <th>Embarked</th>\n",
       "      <th>Fare</th>\n",
       "      <th>Pclass</th>\n",
       "      <th>Sex</th>\n",
       "      <th>Survived</th>\n",
       "      <th>Ticket</th>\n",
       "      <th>train</th>\n",
       "      <th>Related</th>\n",
       "      <th>Title</th>\n",
       "      <th>Deck</th>\n",
       "      <th>Age_was_missing</th>\n",
       "      <th>Embarked_was_missing</th>\n",
       "      <th>Fare_was_missing</th>\n",
       "      <th>Ticket_was_missing</th>\n",
       "      <th>Deck_was_missing</th>\n",
       "    </tr>\n",
       "    <tr>\n",
       "      <th>PassengerId</th>\n",
       "      <th></th>\n",
       "      <th></th>\n",
       "      <th></th>\n",
       "      <th></th>\n",
       "      <th></th>\n",
       "      <th></th>\n",
       "      <th></th>\n",
       "      <th></th>\n",
       "      <th></th>\n",
       "      <th></th>\n",
       "      <th></th>\n",
       "      <th></th>\n",
       "      <th></th>\n",
       "      <th></th>\n",
       "      <th></th>\n",
       "      <th></th>\n",
       "    </tr>\n",
       "  </thead>\n",
       "  <tbody>\n",
       "    <tr>\n",
       "      <td>1</td>\n",
       "      <td>Early</td>\n",
       "      <td>S</td>\n",
       "      <td>Low</td>\n",
       "      <td>3.0</td>\n",
       "      <td>male</td>\n",
       "      <td>0.0</td>\n",
       "      <td>Low</td>\n",
       "      <td>1.0</td>\n",
       "      <td>Duo</td>\n",
       "      <td>M</td>\n",
       "      <td>Na</td>\n",
       "      <td>False</td>\n",
       "      <td>False</td>\n",
       "      <td>False</td>\n",
       "      <td>False</td>\n",
       "      <td>True</td>\n",
       "    </tr>\n",
       "    <tr>\n",
       "      <td>2</td>\n",
       "      <td>Mid</td>\n",
       "      <td>C</td>\n",
       "      <td>High</td>\n",
       "      <td>1.0</td>\n",
       "      <td>female</td>\n",
       "      <td>1.0</td>\n",
       "      <td>High</td>\n",
       "      <td>1.0</td>\n",
       "      <td>Duo</td>\n",
       "      <td>MF</td>\n",
       "      <td>Less</td>\n",
       "      <td>False</td>\n",
       "      <td>False</td>\n",
       "      <td>False</td>\n",
       "      <td>False</td>\n",
       "      <td>False</td>\n",
       "    </tr>\n",
       "    <tr>\n",
       "      <td>3</td>\n",
       "      <td>Early</td>\n",
       "      <td>S</td>\n",
       "      <td>Low</td>\n",
       "      <td>3.0</td>\n",
       "      <td>female</td>\n",
       "      <td>1.0</td>\n",
       "      <td>Mid</td>\n",
       "      <td>1.0</td>\n",
       "      <td>Solo</td>\n",
       "      <td>NF</td>\n",
       "      <td>Na</td>\n",
       "      <td>False</td>\n",
       "      <td>False</td>\n",
       "      <td>False</td>\n",
       "      <td>False</td>\n",
       "      <td>True</td>\n",
       "    </tr>\n",
       "    <tr>\n",
       "      <td>4</td>\n",
       "      <td>Mid</td>\n",
       "      <td>S</td>\n",
       "      <td>High</td>\n",
       "      <td>1.0</td>\n",
       "      <td>female</td>\n",
       "      <td>1.0</td>\n",
       "      <td>Na</td>\n",
       "      <td>1.0</td>\n",
       "      <td>Duo</td>\n",
       "      <td>MF</td>\n",
       "      <td>Less</td>\n",
       "      <td>False</td>\n",
       "      <td>False</td>\n",
       "      <td>False</td>\n",
       "      <td>True</td>\n",
       "      <td>False</td>\n",
       "    </tr>\n",
       "    <tr>\n",
       "      <td>5</td>\n",
       "      <td>Mid</td>\n",
       "      <td>S</td>\n",
       "      <td>Low</td>\n",
       "      <td>3.0</td>\n",
       "      <td>male</td>\n",
       "      <td>0.0</td>\n",
       "      <td>Na</td>\n",
       "      <td>1.0</td>\n",
       "      <td>Solo</td>\n",
       "      <td>M</td>\n",
       "      <td>Na</td>\n",
       "      <td>False</td>\n",
       "      <td>False</td>\n",
       "      <td>False</td>\n",
       "      <td>True</td>\n",
       "      <td>True</td>\n",
       "    </tr>\n",
       "  </tbody>\n",
       "</table>\n",
       "</div>"
      ],
      "text/plain": [
       "               Age Embarked  Fare  Pclass     Sex  Survived Ticket  train  \\\n",
       "PassengerId                                                                 \n",
       "1            Early        S   Low     3.0    male       0.0    Low    1.0   \n",
       "2              Mid        C  High     1.0  female       1.0   High    1.0   \n",
       "3            Early        S   Low     3.0  female       1.0    Mid    1.0   \n",
       "4              Mid        S  High     1.0  female       1.0     Na    1.0   \n",
       "5              Mid        S   Low     3.0    male       0.0     Na    1.0   \n",
       "\n",
       "            Related Title  Deck  Age_was_missing  Embarked_was_missing  \\\n",
       "PassengerId                                                              \n",
       "1               Duo     M    Na            False                 False   \n",
       "2               Duo    MF  Less            False                 False   \n",
       "3              Solo    NF    Na            False                 False   \n",
       "4               Duo    MF  Less            False                 False   \n",
       "5              Solo     M    Na            False                 False   \n",
       "\n",
       "             Fare_was_missing  Ticket_was_missing  Deck_was_missing  \n",
       "PassengerId                                                          \n",
       "1                       False               False              True  \n",
       "2                       False               False             False  \n",
       "3                       False               False              True  \n",
       "4                       False                True             False  \n",
       "5                       False                True              True  "
      ]
     },
     "execution_count": 56,
     "metadata": {},
     "output_type": "execute_result"
    }
   ],
   "source": [
    "bin_sort = pd.DataFrame.sort_index(bin_test.copy())\n",
    "bin_sort.head()"
   ]
  },
  {
   "cell_type": "markdown",
   "metadata": {},
   "source": [
    "## 6. One-Hot Encoding (categorical Data)\n",
    "All columns have been adjusted and featured engineered throughout. To ensure each variable is ready for use through our models, they must first be converted to numerical values and to assist, One-Hot encoding is used over dropping or label encoding. This is completed for every categorical column and each column produced is correlated with a variable as specified below."
   ]
  },
  {
   "cell_type": "code",
   "execution_count": 57,
   "metadata": {},
   "outputs": [],
   "source": [
    "def OHE_cat(df):\n",
    "    OH_encoder = OneHotEncoder(handle_unknown='ignore', sparse=False)\n",
    "    cat_col = [col for col in df.columns if df[col].dtype == 'object']\n",
    "    OH_cols_train = pd.DataFrame(OH_encoder.fit_transform(df[cat_col]))\n",
    "    OH_cols_train.index = df.index\n",
    "    df = pd.concat([df, OH_cols_train], axis=1)\n",
    "    df.drop(cat_col, axis=1, inplace=True)\n",
    "    return df"
   ]
  },
  {
   "cell_type": "code",
   "execution_count": 58,
   "metadata": {},
   "outputs": [
    {
     "data": {
      "text/html": [
       "<div>\n",
       "<style scoped>\n",
       "    .dataframe tbody tr th:only-of-type {\n",
       "        vertical-align: middle;\n",
       "    }\n",
       "\n",
       "    .dataframe tbody tr th {\n",
       "        vertical-align: top;\n",
       "    }\n",
       "\n",
       "    .dataframe thead th {\n",
       "        text-align: right;\n",
       "    }\n",
       "</style>\n",
       "<table border=\"1\" class=\"dataframe\">\n",
       "  <thead>\n",
       "    <tr style=\"text-align: right;\">\n",
       "      <th></th>\n",
       "      <th>Pclass</th>\n",
       "      <th>Survived</th>\n",
       "      <th>train</th>\n",
       "      <th>Age_was_missing</th>\n",
       "      <th>Embarked_was_missing</th>\n",
       "      <th>Fare_was_missing</th>\n",
       "      <th>Ticket_was_missing</th>\n",
       "      <th>Deck_was_missing</th>\n",
       "      <th>0</th>\n",
       "      <th>1</th>\n",
       "      <th>...</th>\n",
       "      <th>17</th>\n",
       "      <th>18</th>\n",
       "      <th>19</th>\n",
       "      <th>20</th>\n",
       "      <th>21</th>\n",
       "      <th>22</th>\n",
       "      <th>23</th>\n",
       "      <th>24</th>\n",
       "      <th>25</th>\n",
       "      <th>26</th>\n",
       "    </tr>\n",
       "    <tr>\n",
       "      <th>PassengerId</th>\n",
       "      <th></th>\n",
       "      <th></th>\n",
       "      <th></th>\n",
       "      <th></th>\n",
       "      <th></th>\n",
       "      <th></th>\n",
       "      <th></th>\n",
       "      <th></th>\n",
       "      <th></th>\n",
       "      <th></th>\n",
       "      <th></th>\n",
       "      <th></th>\n",
       "      <th></th>\n",
       "      <th></th>\n",
       "      <th></th>\n",
       "      <th></th>\n",
       "      <th></th>\n",
       "      <th></th>\n",
       "      <th></th>\n",
       "      <th></th>\n",
       "      <th></th>\n",
       "    </tr>\n",
       "  </thead>\n",
       "  <tbody>\n",
       "    <tr>\n",
       "      <td>1</td>\n",
       "      <td>3.0</td>\n",
       "      <td>0.0</td>\n",
       "      <td>1.0</td>\n",
       "      <td>False</td>\n",
       "      <td>False</td>\n",
       "      <td>False</td>\n",
       "      <td>False</td>\n",
       "      <td>True</td>\n",
       "      <td>0.0</td>\n",
       "      <td>1.0</td>\n",
       "      <td>...</td>\n",
       "      <td>0.0</td>\n",
       "      <td>0.0</td>\n",
       "      <td>0.0</td>\n",
       "      <td>0.0</td>\n",
       "      <td>1.0</td>\n",
       "      <td>0.0</td>\n",
       "      <td>0.0</td>\n",
       "      <td>0.0</td>\n",
       "      <td>1.0</td>\n",
       "      <td>0.0</td>\n",
       "    </tr>\n",
       "    <tr>\n",
       "      <td>2</td>\n",
       "      <td>1.0</td>\n",
       "      <td>1.0</td>\n",
       "      <td>1.0</td>\n",
       "      <td>False</td>\n",
       "      <td>False</td>\n",
       "      <td>False</td>\n",
       "      <td>False</td>\n",
       "      <td>False</td>\n",
       "      <td>0.0</td>\n",
       "      <td>0.0</td>\n",
       "      <td>...</td>\n",
       "      <td>0.0</td>\n",
       "      <td>0.0</td>\n",
       "      <td>0.0</td>\n",
       "      <td>0.0</td>\n",
       "      <td>0.0</td>\n",
       "      <td>1.0</td>\n",
       "      <td>0.0</td>\n",
       "      <td>1.0</td>\n",
       "      <td>0.0</td>\n",
       "      <td>0.0</td>\n",
       "    </tr>\n",
       "    <tr>\n",
       "      <td>3</td>\n",
       "      <td>3.0</td>\n",
       "      <td>1.0</td>\n",
       "      <td>1.0</td>\n",
       "      <td>False</td>\n",
       "      <td>False</td>\n",
       "      <td>False</td>\n",
       "      <td>False</td>\n",
       "      <td>True</td>\n",
       "      <td>0.0</td>\n",
       "      <td>1.0</td>\n",
       "      <td>...</td>\n",
       "      <td>0.0</td>\n",
       "      <td>1.0</td>\n",
       "      <td>0.0</td>\n",
       "      <td>0.0</td>\n",
       "      <td>0.0</td>\n",
       "      <td>0.0</td>\n",
       "      <td>1.0</td>\n",
       "      <td>0.0</td>\n",
       "      <td>1.0</td>\n",
       "      <td>0.0</td>\n",
       "    </tr>\n",
       "    <tr>\n",
       "      <td>4</td>\n",
       "      <td>1.0</td>\n",
       "      <td>1.0</td>\n",
       "      <td>1.0</td>\n",
       "      <td>False</td>\n",
       "      <td>False</td>\n",
       "      <td>False</td>\n",
       "      <td>True</td>\n",
       "      <td>False</td>\n",
       "      <td>0.0</td>\n",
       "      <td>0.0</td>\n",
       "      <td>...</td>\n",
       "      <td>0.0</td>\n",
       "      <td>0.0</td>\n",
       "      <td>0.0</td>\n",
       "      <td>0.0</td>\n",
       "      <td>0.0</td>\n",
       "      <td>1.0</td>\n",
       "      <td>0.0</td>\n",
       "      <td>1.0</td>\n",
       "      <td>0.0</td>\n",
       "      <td>0.0</td>\n",
       "    </tr>\n",
       "    <tr>\n",
       "      <td>5</td>\n",
       "      <td>3.0</td>\n",
       "      <td>0.0</td>\n",
       "      <td>1.0</td>\n",
       "      <td>False</td>\n",
       "      <td>False</td>\n",
       "      <td>False</td>\n",
       "      <td>True</td>\n",
       "      <td>True</td>\n",
       "      <td>0.0</td>\n",
       "      <td>0.0</td>\n",
       "      <td>...</td>\n",
       "      <td>0.0</td>\n",
       "      <td>1.0</td>\n",
       "      <td>0.0</td>\n",
       "      <td>0.0</td>\n",
       "      <td>1.0</td>\n",
       "      <td>0.0</td>\n",
       "      <td>0.0</td>\n",
       "      <td>0.0</td>\n",
       "      <td>1.0</td>\n",
       "      <td>0.0</td>\n",
       "    </tr>\n",
       "  </tbody>\n",
       "</table>\n",
       "<p>5 rows × 35 columns</p>\n",
       "</div>"
      ],
      "text/plain": [
       "             Pclass  Survived  train  Age_was_missing  Embarked_was_missing  \\\n",
       "PassengerId                                                                   \n",
       "1               3.0       0.0    1.0            False                 False   \n",
       "2               1.0       1.0    1.0            False                 False   \n",
       "3               3.0       1.0    1.0            False                 False   \n",
       "4               1.0       1.0    1.0            False                 False   \n",
       "5               3.0       0.0    1.0            False                 False   \n",
       "\n",
       "             Fare_was_missing  Ticket_was_missing  Deck_was_missing    0    1  \\\n",
       "PassengerId                                                                     \n",
       "1                       False               False              True  0.0  1.0   \n",
       "2                       False               False             False  0.0  0.0   \n",
       "3                       False               False              True  0.0  1.0   \n",
       "4                       False                True             False  0.0  0.0   \n",
       "5                       False                True              True  0.0  0.0   \n",
       "\n",
       "             ...   17   18   19   20   21   22   23   24   25   26  \n",
       "PassengerId  ...                                                    \n",
       "1            ...  0.0  0.0  0.0  0.0  1.0  0.0  0.0  0.0  1.0  0.0  \n",
       "2            ...  0.0  0.0  0.0  0.0  0.0  1.0  0.0  1.0  0.0  0.0  \n",
       "3            ...  0.0  1.0  0.0  0.0  0.0  0.0  1.0  0.0  1.0  0.0  \n",
       "4            ...  0.0  0.0  0.0  0.0  0.0  1.0  0.0  1.0  0.0  0.0  \n",
       "5            ...  0.0  1.0  0.0  0.0  1.0  0.0  0.0  0.0  1.0  0.0  \n",
       "\n",
       "[5 rows x 35 columns]"
      ]
     },
     "execution_count": 58,
     "metadata": {},
     "output_type": "execute_result"
    }
   ],
   "source": [
    "OHE_test = bin_sort.copy()\n",
    "OHE_test = OHE_cat(OHE_test)\n",
    "\n",
    "OHE_test.head()"
   ]
  },
  {
   "cell_type": "code",
   "execution_count": 59,
   "metadata": {},
   "outputs": [],
   "source": [
    "OHE_col_name = bin_test.copy()\n",
    "OH_encoder = OneHotEncoder(handle_unknown='ignore', sparse=False)\n",
    "cat_col = [\n",
    "    col for col in OHE_col_name.columns if OHE_col_name[col].dtype == 'object']\n",
    "OH_cols_train = pd.DataFrame(OH_encoder.fit_transform(OHE_col_name[cat_col]))"
   ]
  },
  {
   "cell_type": "code",
   "execution_count": 60,
   "metadata": {},
   "outputs": [
    {
     "data": {
      "text/html": [
       "<div>\n",
       "<style scoped>\n",
       "    .dataframe tbody tr th:only-of-type {\n",
       "        vertical-align: middle;\n",
       "    }\n",
       "\n",
       "    .dataframe tbody tr th {\n",
       "        vertical-align: top;\n",
       "    }\n",
       "\n",
       "    .dataframe thead th {\n",
       "        text-align: right;\n",
       "    }\n",
       "</style>\n",
       "<table border=\"1\" class=\"dataframe\">\n",
       "  <thead>\n",
       "    <tr style=\"text-align: right;\">\n",
       "      <th></th>\n",
       "      <th>Features</th>\n",
       "    </tr>\n",
       "  </thead>\n",
       "  <tbody>\n",
       "    <tr>\n",
       "      <td>0</td>\n",
       "      <td>Age_Child</td>\n",
       "    </tr>\n",
       "    <tr>\n",
       "      <td>1</td>\n",
       "      <td>Age_Early</td>\n",
       "    </tr>\n",
       "    <tr>\n",
       "      <td>2</td>\n",
       "      <td>Age_Late</td>\n",
       "    </tr>\n",
       "    <tr>\n",
       "      <td>3</td>\n",
       "      <td>Age_Mid</td>\n",
       "    </tr>\n",
       "    <tr>\n",
       "      <td>4</td>\n",
       "      <td>Embarked_C</td>\n",
       "    </tr>\n",
       "    <tr>\n",
       "      <td>5</td>\n",
       "      <td>Embarked_Q</td>\n",
       "    </tr>\n",
       "    <tr>\n",
       "      <td>6</td>\n",
       "      <td>Embarked_S</td>\n",
       "    </tr>\n",
       "    <tr>\n",
       "      <td>7</td>\n",
       "      <td>Fare_High</td>\n",
       "    </tr>\n",
       "    <tr>\n",
       "      <td>8</td>\n",
       "      <td>Fare_Low</td>\n",
       "    </tr>\n",
       "    <tr>\n",
       "      <td>9</td>\n",
       "      <td>Sex_female</td>\n",
       "    </tr>\n",
       "    <tr>\n",
       "      <td>10</td>\n",
       "      <td>Sex_male</td>\n",
       "    </tr>\n",
       "    <tr>\n",
       "      <td>11</td>\n",
       "      <td>Ticket_High</td>\n",
       "    </tr>\n",
       "    <tr>\n",
       "      <td>12</td>\n",
       "      <td>Ticket_Low</td>\n",
       "    </tr>\n",
       "    <tr>\n",
       "      <td>13</td>\n",
       "      <td>Ticket_Mid</td>\n",
       "    </tr>\n",
       "    <tr>\n",
       "      <td>14</td>\n",
       "      <td>Ticket_Na</td>\n",
       "    </tr>\n",
       "    <tr>\n",
       "      <td>15</td>\n",
       "      <td>Related_Duo</td>\n",
       "    </tr>\n",
       "    <tr>\n",
       "      <td>16</td>\n",
       "      <td>Related_Large</td>\n",
       "    </tr>\n",
       "    <tr>\n",
       "      <td>17</td>\n",
       "      <td>Related_Quart</td>\n",
       "    </tr>\n",
       "    <tr>\n",
       "      <td>18</td>\n",
       "      <td>Related_Solo</td>\n",
       "    </tr>\n",
       "    <tr>\n",
       "      <td>19</td>\n",
       "      <td>Related_Trio</td>\n",
       "    </tr>\n",
       "    <tr>\n",
       "      <td>20</td>\n",
       "      <td>Title_H</td>\n",
       "    </tr>\n",
       "    <tr>\n",
       "      <td>21</td>\n",
       "      <td>Title_M</td>\n",
       "    </tr>\n",
       "    <tr>\n",
       "      <td>22</td>\n",
       "      <td>Title_MF</td>\n",
       "    </tr>\n",
       "    <tr>\n",
       "      <td>23</td>\n",
       "      <td>Title_NF</td>\n",
       "    </tr>\n",
       "    <tr>\n",
       "      <td>24</td>\n",
       "      <td>Deck_Less</td>\n",
       "    </tr>\n",
       "    <tr>\n",
       "      <td>25</td>\n",
       "      <td>Deck_Na</td>\n",
       "    </tr>\n",
       "    <tr>\n",
       "      <td>26</td>\n",
       "      <td>Deck_Safer</td>\n",
       "    </tr>\n",
       "  </tbody>\n",
       "</table>\n",
       "</div>"
      ],
      "text/plain": [
       "         Features\n",
       "0       Age_Child\n",
       "1       Age_Early\n",
       "2        Age_Late\n",
       "3         Age_Mid\n",
       "4      Embarked_C\n",
       "5      Embarked_Q\n",
       "6      Embarked_S\n",
       "7       Fare_High\n",
       "8        Fare_Low\n",
       "9      Sex_female\n",
       "10       Sex_male\n",
       "11    Ticket_High\n",
       "12     Ticket_Low\n",
       "13     Ticket_Mid\n",
       "14      Ticket_Na\n",
       "15    Related_Duo\n",
       "16  Related_Large\n",
       "17  Related_Quart\n",
       "18   Related_Solo\n",
       "19   Related_Trio\n",
       "20        Title_H\n",
       "21        Title_M\n",
       "22       Title_MF\n",
       "23       Title_NF\n",
       "24      Deck_Less\n",
       "25        Deck_Na\n",
       "26     Deck_Safer"
      ]
     },
     "execution_count": 60,
     "metadata": {},
     "output_type": "execute_result"
    }
   ],
   "source": [
    "OHEcol = OH_encoder.get_feature_names(cat_col)\n",
    "OHEcols = pd.DataFrame()\n",
    "OHEcols['Features'] = OHEcol\n",
    "\n",
    "OHEcols"
   ]
  },
  {
   "cell_type": "markdown",
   "metadata": {},
   "source": [
    "## 7. Preprocessing Pipeline Summary\n",
    "Throughout the process so far, each feature has been cleaned to a level appropriate to be read into a model. This included defining multiple functions to preprocess the raw data in a simple pipeline. The following functions are used and defined below for the final preprocessing pipeline.\n",
    "\n",
    "1. Feature Engineering\n",
    "    - Combining Sibsp and Parch to **Related**\n",
    "    - Extracting **Title** from Names\n",
    "    - Extracting **Deck** from Cabins\n",
    "    - Extracting **Ticket** from Tickets\n",
    "2. Missing Data\n",
    "    - Added and populated **\"_was_missing\"** columns\n",
    "    - **Simple Imputer** missing data\n",
    "        - Categorical Data - Mode / Constant\n",
    "        - Numerical Data - Median / *Estimated Age*\n",
    "3. Binning\n",
    "    - Binned **Fare**\n",
    "    - Binned **Age**\n",
    "4. One-Hot Encoding\n",
    "    - **OHE** Categorical data"
   ]
  },
  {
   "cell_type": "code",
   "execution_count": 61,
   "metadata": {},
   "outputs": [],
   "source": [
    "def pp_pipeline(df):\n",
    "    df = (df\n",
    "          .pipe(feature_engineering)\n",
    "          .pipe(missing_data)\n",
    "          .pipe(fare_age_bins)\n",
    "          .pipe(OHE_cat))\n",
    "    return df"
   ]
  },
  {
   "cell_type": "code",
   "execution_count": 62,
   "metadata": {},
   "outputs": [
    {
     "data": {
      "text/html": [
       "<div>\n",
       "<style scoped>\n",
       "    .dataframe tbody tr th:only-of-type {\n",
       "        vertical-align: middle;\n",
       "    }\n",
       "\n",
       "    .dataframe tbody tr th {\n",
       "        vertical-align: top;\n",
       "    }\n",
       "\n",
       "    .dataframe thead th {\n",
       "        text-align: right;\n",
       "    }\n",
       "</style>\n",
       "<table border=\"1\" class=\"dataframe\">\n",
       "  <thead>\n",
       "    <tr style=\"text-align: right;\">\n",
       "      <th></th>\n",
       "      <th>Pclass</th>\n",
       "      <th>Survived</th>\n",
       "      <th>train</th>\n",
       "      <th>Age_was_missing</th>\n",
       "      <th>Embarked_was_missing</th>\n",
       "      <th>Fare_was_missing</th>\n",
       "      <th>Ticket_was_missing</th>\n",
       "      <th>Deck_was_missing</th>\n",
       "      <th>0</th>\n",
       "      <th>1</th>\n",
       "      <th>...</th>\n",
       "      <th>17</th>\n",
       "      <th>18</th>\n",
       "      <th>19</th>\n",
       "      <th>20</th>\n",
       "      <th>21</th>\n",
       "      <th>22</th>\n",
       "      <th>23</th>\n",
       "      <th>24</th>\n",
       "      <th>25</th>\n",
       "      <th>26</th>\n",
       "    </tr>\n",
       "    <tr>\n",
       "      <th>PassengerId</th>\n",
       "      <th></th>\n",
       "      <th></th>\n",
       "      <th></th>\n",
       "      <th></th>\n",
       "      <th></th>\n",
       "      <th></th>\n",
       "      <th></th>\n",
       "      <th></th>\n",
       "      <th></th>\n",
       "      <th></th>\n",
       "      <th></th>\n",
       "      <th></th>\n",
       "      <th></th>\n",
       "      <th></th>\n",
       "      <th></th>\n",
       "      <th></th>\n",
       "      <th></th>\n",
       "      <th></th>\n",
       "      <th></th>\n",
       "      <th></th>\n",
       "      <th></th>\n",
       "    </tr>\n",
       "  </thead>\n",
       "  <tbody>\n",
       "    <tr>\n",
       "      <td>1</td>\n",
       "      <td>3.0</td>\n",
       "      <td>0.0</td>\n",
       "      <td>1.0</td>\n",
       "      <td>False</td>\n",
       "      <td>False</td>\n",
       "      <td>False</td>\n",
       "      <td>False</td>\n",
       "      <td>True</td>\n",
       "      <td>0.0</td>\n",
       "      <td>1.0</td>\n",
       "      <td>...</td>\n",
       "      <td>0.0</td>\n",
       "      <td>0.0</td>\n",
       "      <td>0.0</td>\n",
       "      <td>0.0</td>\n",
       "      <td>1.0</td>\n",
       "      <td>0.0</td>\n",
       "      <td>0.0</td>\n",
       "      <td>0.0</td>\n",
       "      <td>1.0</td>\n",
       "      <td>0.0</td>\n",
       "    </tr>\n",
       "    <tr>\n",
       "      <td>2</td>\n",
       "      <td>1.0</td>\n",
       "      <td>1.0</td>\n",
       "      <td>1.0</td>\n",
       "      <td>False</td>\n",
       "      <td>False</td>\n",
       "      <td>False</td>\n",
       "      <td>False</td>\n",
       "      <td>False</td>\n",
       "      <td>0.0</td>\n",
       "      <td>0.0</td>\n",
       "      <td>...</td>\n",
       "      <td>0.0</td>\n",
       "      <td>0.0</td>\n",
       "      <td>0.0</td>\n",
       "      <td>0.0</td>\n",
       "      <td>0.0</td>\n",
       "      <td>1.0</td>\n",
       "      <td>0.0</td>\n",
       "      <td>1.0</td>\n",
       "      <td>0.0</td>\n",
       "      <td>0.0</td>\n",
       "    </tr>\n",
       "    <tr>\n",
       "      <td>3</td>\n",
       "      <td>3.0</td>\n",
       "      <td>1.0</td>\n",
       "      <td>1.0</td>\n",
       "      <td>False</td>\n",
       "      <td>False</td>\n",
       "      <td>False</td>\n",
       "      <td>False</td>\n",
       "      <td>True</td>\n",
       "      <td>0.0</td>\n",
       "      <td>1.0</td>\n",
       "      <td>...</td>\n",
       "      <td>0.0</td>\n",
       "      <td>1.0</td>\n",
       "      <td>0.0</td>\n",
       "      <td>0.0</td>\n",
       "      <td>0.0</td>\n",
       "      <td>0.0</td>\n",
       "      <td>1.0</td>\n",
       "      <td>0.0</td>\n",
       "      <td>1.0</td>\n",
       "      <td>0.0</td>\n",
       "    </tr>\n",
       "    <tr>\n",
       "      <td>4</td>\n",
       "      <td>1.0</td>\n",
       "      <td>1.0</td>\n",
       "      <td>1.0</td>\n",
       "      <td>False</td>\n",
       "      <td>False</td>\n",
       "      <td>False</td>\n",
       "      <td>True</td>\n",
       "      <td>False</td>\n",
       "      <td>0.0</td>\n",
       "      <td>0.0</td>\n",
       "      <td>...</td>\n",
       "      <td>0.0</td>\n",
       "      <td>0.0</td>\n",
       "      <td>0.0</td>\n",
       "      <td>0.0</td>\n",
       "      <td>0.0</td>\n",
       "      <td>1.0</td>\n",
       "      <td>0.0</td>\n",
       "      <td>1.0</td>\n",
       "      <td>0.0</td>\n",
       "      <td>0.0</td>\n",
       "    </tr>\n",
       "    <tr>\n",
       "      <td>5</td>\n",
       "      <td>3.0</td>\n",
       "      <td>0.0</td>\n",
       "      <td>1.0</td>\n",
       "      <td>False</td>\n",
       "      <td>False</td>\n",
       "      <td>False</td>\n",
       "      <td>True</td>\n",
       "      <td>True</td>\n",
       "      <td>0.0</td>\n",
       "      <td>0.0</td>\n",
       "      <td>...</td>\n",
       "      <td>0.0</td>\n",
       "      <td>1.0</td>\n",
       "      <td>0.0</td>\n",
       "      <td>0.0</td>\n",
       "      <td>1.0</td>\n",
       "      <td>0.0</td>\n",
       "      <td>0.0</td>\n",
       "      <td>0.0</td>\n",
       "      <td>1.0</td>\n",
       "      <td>0.0</td>\n",
       "    </tr>\n",
       "  </tbody>\n",
       "</table>\n",
       "<p>5 rows × 35 columns</p>\n",
       "</div>"
      ],
      "text/plain": [
       "             Pclass  Survived  train  Age_was_missing  Embarked_was_missing  \\\n",
       "PassengerId                                                                   \n",
       "1               3.0       0.0    1.0            False                 False   \n",
       "2               1.0       1.0    1.0            False                 False   \n",
       "3               3.0       1.0    1.0            False                 False   \n",
       "4               1.0       1.0    1.0            False                 False   \n",
       "5               3.0       0.0    1.0            False                 False   \n",
       "\n",
       "             Fare_was_missing  Ticket_was_missing  Deck_was_missing    0    1  \\\n",
       "PassengerId                                                                     \n",
       "1                       False               False              True  0.0  1.0   \n",
       "2                       False               False             False  0.0  0.0   \n",
       "3                       False               False              True  0.0  1.0   \n",
       "4                       False                True             False  0.0  0.0   \n",
       "5                       False                True              True  0.0  0.0   \n",
       "\n",
       "             ...   17   18   19   20   21   22   23   24   25   26  \n",
       "PassengerId  ...                                                    \n",
       "1            ...  0.0  0.0  0.0  0.0  1.0  0.0  0.0  0.0  1.0  0.0  \n",
       "2            ...  0.0  0.0  0.0  0.0  0.0  1.0  0.0  1.0  0.0  0.0  \n",
       "3            ...  0.0  1.0  0.0  0.0  0.0  0.0  1.0  0.0  1.0  0.0  \n",
       "4            ...  0.0  0.0  0.0  0.0  0.0  1.0  0.0  1.0  0.0  0.0  \n",
       "5            ...  0.0  1.0  0.0  0.0  1.0  0.0  0.0  0.0  1.0  0.0  \n",
       "\n",
       "[5 rows x 35 columns]"
      ]
     },
     "execution_count": 62,
     "metadata": {},
     "output_type": "execute_result"
    }
   ],
   "source": [
    "pp_test = fd.copy()\n",
    "pp_test = pp_pipeline(pp_test)\n",
    "\n",
    "pp_test.head()"
   ]
  },
  {
   "cell_type": "markdown",
   "metadata": {},
   "source": [
    "## 8. Modeling\n",
    "### 8.1. Simple Random Forest and Test Train Split\n",
    "The first model built was a random forest classifier with a single validation step using a standard test train split of the testing data. This produced a simple single untuned output."
   ]
  },
  {
   "cell_type": "code",
   "execution_count": 63,
   "metadata": {},
   "outputs": [],
   "source": [
    "titanic_train = pp_test[pp_test['train'] == 1]\n",
    "titanic_test = pp_test[pp_test['train'] == 0]\n",
    "\n",
    "titanic_train_final = titanic_train.drop(['train'], axis=1)\n",
    "titanic_test_final = titanic_test.drop(['train', 'Survived'], axis=1)\n",
    "\n",
    "y_full = titanic_train_final['Survived']\n",
    "X_full = titanic_train_final.drop(['Survived'], axis=1)\n",
    "\n",
    "X_train, X_valid, y_train, y_valid = train_test_split(\n",
    "    X_full, y_full, test_size=0.25, random_state=0)"
   ]
  },
  {
   "cell_type": "code",
   "execution_count": 64,
   "metadata": {},
   "outputs": [
    {
     "name": "stdout",
     "output_type": "stream",
     "text": [
      "acc_random_forest:  90.72\n",
      "MAE :  0.22869955156950672\n"
     ]
    }
   ],
   "source": [
    "random_forest = RandomForestClassifier(n_estimators=100, random_state=1)\n",
    "random_forest.fit(X_train, y_train)\n",
    "pred_valid = random_forest.predict(X_valid)\n",
    "random_forest.score(X_train, y_train)\n",
    "acc_random_forest = round(random_forest.score(X_train, y_train) * 100, 2)\n",
    "print(\"acc_random_forest: \", acc_random_forest)\n",
    "print(\"MAE : \", mean_absolute_error(y_valid, pred_valid))"
   ]
  },
  {
   "cell_type": "code",
   "execution_count": 65,
   "metadata": {},
   "outputs": [],
   "source": [
    "preds_test = random_forest.predict(titanic_test_final).astype(int)\n",
    "output = pd.DataFrame(\n",
    "    {'PassengerId': titanic_test_final.index, 'Survived': preds_test})\n",
    "output.to_csv('Simple_RFC_model.csv', index=False)"
   ]
  },
  {
   "cell_type": "markdown",
   "metadata": {},
   "source": [
    "### 8.2. Cross Validation of Multiple Models\n",
    "Besides random forest, other models were looked at to determine which ones would be interesting to look at. The following models were compared against each other using a cross validation method with a Kfold of 10 and graphed with the means and standard deviations compared against one another."
   ]
  },
  {
   "cell_type": "code",
   "execution_count": 66,
   "metadata": {},
   "outputs": [],
   "source": [
    "import xgboost as xgb"
   ]
  },
  {
   "cell_type": "code",
   "execution_count": 67,
   "metadata": {},
   "outputs": [],
   "source": [
    "from collections import Counter\n",
    "\n",
    "from sklearn.ensemble import RandomForestClassifier, AdaBoostClassifier, GradientBoostingClassifier, ExtraTreesClassifier, VotingClassifier\n",
    "from sklearn.discriminant_analysis import LinearDiscriminantAnalysis\n",
    "from sklearn.linear_model import LogisticRegression\n",
    "from sklearn.neighbors import KNeighborsClassifier\n",
    "from sklearn.tree import DecisionTreeClassifier\n",
    "from sklearn.neural_network import MLPClassifier\n",
    "from sklearn.svm import SVC\n",
    "from sklearn.model_selection import GridSearchCV, cross_val_score, StratifiedKFold, learning_curve\n",
    "from xgboost import XGBClassifier"
   ]
  },
  {
   "cell_type": "code",
   "execution_count": 68,
   "metadata": {
    "scrolled": true
   },
   "outputs": [
    {
     "name": "stderr",
     "output_type": "stream",
     "text": [
      "C:\\ProgramData\\Anaconda3\\lib\\site-packages\\joblib\\externals\\loky\\process_executor.py:706: UserWarning: A worker stopped while some jobs were given to the executor. This can be caused by a too short worker timeout or by a memory leak.\n",
      "  \"timeout or by a memory leak.\", UserWarning\n"
     ]
    }
   ],
   "source": [
    "kfold = StratifiedKFold(n_splits=10)\n",
    "random_state = 2\n",
    "classifiers = []\n",
    "classifiers.append(SVC(random_state=random_state))\n",
    "classifiers.append(DecisionTreeClassifier(random_state=random_state))\n",
    "classifiers.append(AdaBoostClassifier(DecisionTreeClassifier(\n",
    "    random_state=random_state), random_state=random_state, learning_rate=0.1))\n",
    "classifiers.append(RandomForestClassifier(random_state=random_state))\n",
    "classifiers.append(ExtraTreesClassifier(random_state=random_state))\n",
    "classifiers.append(GradientBoostingClassifier(random_state=random_state))\n",
    "classifiers.append(MLPClassifier(random_state=random_state))\n",
    "classifiers.append(KNeighborsClassifier())\n",
    "classifiers.append(LogisticRegression(random_state=random_state))\n",
    "classifiers.append(LinearDiscriminantAnalysis())\n",
    "\n",
    "\n",
    "cv_results = []\n",
    "for classifier in classifiers:\n",
    "    cv_results.append(cross_val_score(classifier, X_full,\n",
    "                                      y=y_full, scoring=\"accuracy\", cv=kfold, n_jobs=4))\n",
    "cv_results.append(cross_val_score(XGBClassifier(\n",
    "    random_state=random_state), X_full, y=y_full, cv=kfold, n_jobs=4))\n",
    "\n",
    "cv_means = []\n",
    "cv_std = []\n",
    "for cv_result in cv_results:\n",
    "    cv_means.append(cv_result.mean())\n",
    "    cv_std.append(cv_result.std())\n",
    "\n",
    "cv_res = pd.DataFrame({\"CrossValMeans\": cv_means, \"CrossValerrors\": cv_std, \"Algorithm\": [\n",
    "                      \"SVC\", \"DecisionTree\", \"AdaBoost\", \"RandomForest\", \"ExtraTrees\", \"GradientBoosting\", \"MultipleLayerPerceptron\", \"KNeighboors\", \"LogisticRegression\", \"LinearDiscriminantAnalysis\", \"XGB Regressor\"]})"
   ]
  },
  {
   "cell_type": "code",
   "execution_count": 69,
   "metadata": {},
   "outputs": [
    {
     "data": {
      "image/png": "[encoded data removed]",
      "text/plain": [
       "<Figure size 432x288 with 1 Axes>"
      ]
     },
     "metadata": {
      "needs_background": "light"
     },
     "output_type": "display_data"
    }
   ],
   "source": [
    "cv_res.sort_values(by=['CrossValMeans'], ascending=False, inplace=True)\n",
    "\n",
    "g = sns.barplot(\"CrossValMeans\", \"Algorithm\", data=cv_res,\n",
    "                palette=\"Set3\", orient=\"h\", **{'xerr': cv_std})"
   ]
  },
  {
   "cell_type": "code",
   "execution_count": 70,
   "metadata": {},
   "outputs": [
    {
     "data": {
      "text/html": [
       "<div>\n",
       "<style scoped>\n",
       "    .dataframe tbody tr th:only-of-type {\n",
       "        vertical-align: middle;\n",
       "    }\n",
       "\n",
       "    .dataframe tbody tr th {\n",
       "        vertical-align: top;\n",
       "    }\n",
       "\n",
       "    .dataframe thead th {\n",
       "        text-align: right;\n",
       "    }\n",
       "</style>\n",
       "<table border=\"1\" class=\"dataframe\">\n",
       "  <thead>\n",
       "    <tr style=\"text-align: right;\">\n",
       "      <th></th>\n",
       "      <th>CrossValMeans</th>\n",
       "      <th>CrossValerrors</th>\n",
       "      <th>Algorithm</th>\n",
       "    </tr>\n",
       "  </thead>\n",
       "  <tbody>\n",
       "    <tr>\n",
       "      <td>10</td>\n",
       "      <td>0.835103</td>\n",
       "      <td>0.032210</td>\n",
       "      <td>XGB Regressor</td>\n",
       "    </tr>\n",
       "    <tr>\n",
       "      <td>6</td>\n",
       "      <td>0.832880</td>\n",
       "      <td>0.026042</td>\n",
       "      <td>MultipleLayerPerceptron</td>\n",
       "    </tr>\n",
       "    <tr>\n",
       "      <td>8</td>\n",
       "      <td>0.829460</td>\n",
       "      <td>0.025139</td>\n",
       "      <td>LogisticRegression</td>\n",
       "    </tr>\n",
       "    <tr>\n",
       "      <td>9</td>\n",
       "      <td>0.828286</td>\n",
       "      <td>0.021880</td>\n",
       "      <td>LinearDiscriminantAnalysis</td>\n",
       "    </tr>\n",
       "    <tr>\n",
       "      <td>0</td>\n",
       "      <td>0.826014</td>\n",
       "      <td>0.024834</td>\n",
       "      <td>SVC</td>\n",
       "    </tr>\n",
       "    <tr>\n",
       "      <td>5</td>\n",
       "      <td>0.825015</td>\n",
       "      <td>0.027349</td>\n",
       "      <td>GradientBoosting</td>\n",
       "    </tr>\n",
       "    <tr>\n",
       "      <td>2</td>\n",
       "      <td>0.815989</td>\n",
       "      <td>0.034224</td>\n",
       "      <td>AdaBoost</td>\n",
       "    </tr>\n",
       "    <tr>\n",
       "      <td>3</td>\n",
       "      <td>0.814890</td>\n",
       "      <td>0.035912</td>\n",
       "      <td>RandomForest</td>\n",
       "    </tr>\n",
       "    <tr>\n",
       "      <td>4</td>\n",
       "      <td>0.814852</td>\n",
       "      <td>0.032037</td>\n",
       "      <td>ExtraTrees</td>\n",
       "    </tr>\n",
       "    <tr>\n",
       "      <td>1</td>\n",
       "      <td>0.813704</td>\n",
       "      <td>0.038584</td>\n",
       "      <td>DecisionTree</td>\n",
       "    </tr>\n",
       "    <tr>\n",
       "      <td>7</td>\n",
       "      <td>0.812617</td>\n",
       "      <td>0.025227</td>\n",
       "      <td>KNeighboors</td>\n",
       "    </tr>\n",
       "  </tbody>\n",
       "</table>\n",
       "</div>"
      ],
      "text/plain": [
       "    CrossValMeans  CrossValerrors                   Algorithm\n",
       "10       0.835103        0.032210               XGB Regressor\n",
       "6        0.832880        0.026042     MultipleLayerPerceptron\n",
       "8        0.829460        0.025139          LogisticRegression\n",
       "9        0.828286        0.021880  LinearDiscriminantAnalysis\n",
       "0        0.826014        0.024834                         SVC\n",
       "5        0.825015        0.027349            GradientBoosting\n",
       "2        0.815989        0.034224                    AdaBoost\n",
       "3        0.814890        0.035912                RandomForest\n",
       "4        0.814852        0.032037                  ExtraTrees\n",
       "1        0.813704        0.038584                DecisionTree\n",
       "7        0.812617        0.025227                 KNeighboors"
      ]
     },
     "execution_count": 70,
     "metadata": {},
     "output_type": "execute_result"
    }
   ],
   "source": [
    "cv_res"
   ]
  },
  {
   "cell_type": "markdown",
   "metadata": {},
   "source": [
    "### 8.3. Hyperparameter Tuning\n",
    "To support the development of the model, we look to tun the parameters of each model. Six of the eleven were picked for their higher scoring on the cross validation checks above. It's observed that the scores outputted weren't significantly better the default un-tuned scores above, but there should be slight improvement with the adjustments."
   ]
  },
  {
   "cell_type": "markdown",
   "metadata": {},
   "source": [
    "#### 8.3.1 Logistic Regression"
   ]
  },
  {
   "cell_type": "code",
   "execution_count": 71,
   "metadata": {},
   "outputs": [
    {
     "name": "stdout",
     "output_type": "stream",
     "text": [
      "Fitting 10 folds for each of 36 candidates, totalling 360 fits\n"
     ]
    },
    {
     "name": "stderr",
     "output_type": "stream",
     "text": [
      "[Parallel(n_jobs=4)]: Using backend LokyBackend with 4 concurrent workers.\n",
      "[Parallel(n_jobs=4)]: Done 360 out of 360 | elapsed:    0.7s finished\n",
      "C:\\ProgramData\\Anaconda3\\lib\\site-packages\\sklearn\\linear_model\\logistic.py:432: FutureWarning: Default solver will be changed to 'lbfgs' in 0.22. Specify a solver to silence this warning.\n",
      "  FutureWarning)\n"
     ]
    },
    {
     "data": {
      "text/plain": [
       "0.8327721661054994"
      ]
     },
     "execution_count": 71,
     "metadata": {},
     "output_type": "execute_result"
    }
   ],
   "source": [
    "LR = LogisticRegression()\n",
    "lr_param_grid = {\"penalty\": ['l1', 'l2'],\n",
    "                 \"max_iter\": [100, 150, 50],\n",
    "                 \"multi_class\": ['auto', 'ovr'],\n",
    "                 \"tol\": [0.001, 0.01, 0.05]}\n",
    "\n",
    "gsLR = GridSearchCV(LR, param_grid=lr_param_grid, cv=kfold,\n",
    "                    scoring=\"accuracy\", n_jobs=4, verbose=1)\n",
    "\n",
    "gsLR.fit(X_full, y_full)\n",
    "\n",
    "LR_best = gsLR.best_estimator_\n",
    "\n",
    "gsLR.best_score_"
   ]
  },
  {
   "cell_type": "code",
   "execution_count": 72,
   "metadata": {},
   "outputs": [
    {
     "data": {
      "text/plain": [
       "LogisticRegression(C=1.0, class_weight=None, dual=False, fit_intercept=True,\n",
       "                   intercept_scaling=1, l1_ratio=None, max_iter=100,\n",
       "                   multi_class='ovr', n_jobs=None, penalty='l1',\n",
       "                   random_state=None, solver='warn', tol=0.05, verbose=0,\n",
       "                   warm_start=False)"
      ]
     },
     "execution_count": 72,
     "metadata": {},
     "output_type": "execute_result"
    }
   ],
   "source": [
    "LR_best"
   ]
  },
  {
   "cell_type": "markdown",
   "metadata": {},
   "source": [
    "#### 8.3.2. RandomForestClassifier"
   ]
  },
  {
   "cell_type": "code",
   "execution_count": 73,
   "metadata": {},
   "outputs": [
    {
     "name": "stderr",
     "output_type": "stream",
     "text": [
      "[Parallel(n_jobs=4)]: Using backend LokyBackend with 4 concurrent workers.\n"
     ]
    },
    {
     "name": "stdout",
     "output_type": "stream",
     "text": [
      "Fitting 10 folds for each of 12 candidates, totalling 120 fits\n"
     ]
    },
    {
     "name": "stderr",
     "output_type": "stream",
     "text": [
      "[Parallel(n_jobs=4)]: Done  42 tasks      | elapsed:    3.5s\n",
      "[Parallel(n_jobs=4)]: Done 120 out of 120 | elapsed:    9.5s finished\n"
     ]
    },
    {
     "data": {
      "text/plain": [
       "0.8395061728395061"
      ]
     },
     "execution_count": 73,
     "metadata": {},
     "output_type": "execute_result"
    }
   ],
   "source": [
    "RFC = RandomForestClassifier()\n",
    "rfc_param_grid = {'n_estimators': [400, 300, 200],\n",
    "                  'min_samples_split': [12, 13],\n",
    "                  'min_samples_leaf': [1, 2]}\n",
    "\n",
    "gsRFC = GridSearchCV(RFC, param_grid=rfc_param_grid, cv=kfold,\n",
    "                     scoring=\"accuracy\", n_jobs=4, verbose=1)\n",
    "\n",
    "gsRFC.fit(X_full, y_full)\n",
    "\n",
    "RFC_best = gsRFC.best_estimator_\n",
    "\n",
    "gsRFC.best_score_"
   ]
  },
  {
   "cell_type": "code",
   "execution_count": 74,
   "metadata": {},
   "outputs": [
    {
     "data": {
      "text/plain": [
       "RandomForestClassifier(bootstrap=True, class_weight=None, criterion='gini',\n",
       "                       max_depth=None, max_features='auto', max_leaf_nodes=None,\n",
       "                       min_impurity_decrease=0.0, min_impurity_split=None,\n",
       "                       min_samples_leaf=1, min_samples_split=12,\n",
       "                       min_weight_fraction_leaf=0.0, n_estimators=300,\n",
       "                       n_jobs=None, oob_score=False, random_state=None,\n",
       "                       verbose=0, warm_start=False)"
      ]
     },
     "execution_count": 74,
     "metadata": {},
     "output_type": "execute_result"
    }
   ],
   "source": [
    "RFC_best"
   ]
  },
  {
   "cell_type": "markdown",
   "metadata": {},
   "source": [
    "#### 8.3.3. Linear Discriminant Analysis"
   ]
  },
  {
   "cell_type": "code",
   "execution_count": 75,
   "metadata": {},
   "outputs": [
    {
     "name": "stdout",
     "output_type": "stream",
     "text": [
      "Fitting 10 folds for each of 18 candidates, totalling 180 fits\n"
     ]
    },
    {
     "name": "stderr",
     "output_type": "stream",
     "text": [
      "[Parallel(n_jobs=4)]: Using backend LokyBackend with 4 concurrent workers.\n",
      "[Parallel(n_jobs=4)]: Done 180 out of 180 | elapsed:    0.6s finished\n",
      "C:\\ProgramData\\Anaconda3\\lib\\site-packages\\sklearn\\discriminant_analysis.py:388: UserWarning: Variables are collinear.\n",
      "  warnings.warn(\"Variables are collinear.\")\n"
     ]
    },
    {
     "data": {
      "text/plain": [
       "0.8282828282828283"
      ]
     },
     "execution_count": 75,
     "metadata": {},
     "output_type": "execute_result"
    }
   ],
   "source": [
    "LDA = LinearDiscriminantAnalysis()\n",
    "lda_param_grid = {\"solver\": ['svd', 'lsqr'],\n",
    "                  \"n_components\": [1, 2, 3],\n",
    "                  \"tol\": [0.01, 0.005, 0.05]}\n",
    "\n",
    "gsLDA = GridSearchCV(LDA, param_grid=lda_param_grid, cv=kfold,\n",
    "                     scoring=\"accuracy\", n_jobs=4, verbose=1)\n",
    "\n",
    "gsLDA.fit(X_full, y_full)\n",
    "\n",
    "LDA_best = gsLDA.best_estimator_\n",
    "\n",
    "gsLDA.best_score_"
   ]
  },
  {
   "cell_type": "code",
   "execution_count": 76,
   "metadata": {},
   "outputs": [
    {
     "data": {
      "text/plain": [
       "LinearDiscriminantAnalysis(n_components=1, priors=None, shrinkage=None,\n",
       "                           solver='svd', store_covariance=False, tol=0.01)"
      ]
     },
     "execution_count": 76,
     "metadata": {},
     "output_type": "execute_result"
    }
   ],
   "source": [
    "LDA_best"
   ]
  },
  {
   "cell_type": "markdown",
   "metadata": {},
   "source": [
    "#### 8.3.4. XG Boost"
   ]
  },
  {
   "cell_type": "code",
   "execution_count": 77,
   "metadata": {},
   "outputs": [
    {
     "name": "stderr",
     "output_type": "stream",
     "text": [
      "[Parallel(n_jobs=4)]: Using backend LokyBackend with 4 concurrent workers.\n"
     ]
    },
    {
     "name": "stdout",
     "output_type": "stream",
     "text": [
      "Fitting 10 folds for each of 27 candidates, totalling 270 fits\n"
     ]
    },
    {
     "name": "stderr",
     "output_type": "stream",
     "text": [
      "[Parallel(n_jobs=4)]: Done  42 tasks      | elapsed:    5.9s\n",
      "[Parallel(n_jobs=4)]: Done 192 tasks      | elapsed:   27.6s\n",
      "[Parallel(n_jobs=4)]: Done 270 out of 270 | elapsed:   40.5s finished\n"
     ]
    },
    {
     "data": {
      "text/plain": [
       "0.835016835016835"
      ]
     },
     "execution_count": 77,
     "metadata": {},
     "output_type": "execute_result"
    }
   ],
   "source": [
    "XGBC = XGBClassifier()\n",
    "xgb_param_grid = {\"learning_rate\": [0.30],\n",
    "                  \"max_depth\": [9, 10, 11],\n",
    "                  \"min_child_weight\": [7, 6, 5],\n",
    "                  \"gamma\": [0.1],\n",
    "                  \"colsample_bytree\": [1],\n",
    "                  \"n_estimators\": [200, 150, 250]}\n",
    "\n",
    "gsXGB = GridSearchCV(XGBC, param_grid=xgb_param_grid,\n",
    "                     cv=kfold, scoring=\"accuracy\", n_jobs=4, verbose=1)\n",
    "\n",
    "gsXGB.fit(X_full, y_full)\n",
    "\n",
    "XGB_best = gsXGB.best_estimator_\n",
    "\n",
    "gsXGB.best_score_"
   ]
  },
  {
   "cell_type": "code",
   "execution_count": 78,
   "metadata": {},
   "outputs": [
    {
     "data": {
      "text/plain": [
       "XGBClassifier(base_score=0.5, booster='gbtree', colsample_bylevel=1,\n",
       "              colsample_bynode=1, colsample_bytree=1, gamma=0.1,\n",
       "              learning_rate=0.3, max_delta_step=0, max_depth=10,\n",
       "              min_child_weight=6, missing=None, n_estimators=200, n_jobs=1,\n",
       "              nthread=None, objective='binary:logistic', random_state=0,\n",
       "              reg_alpha=0, reg_lambda=1, scale_pos_weight=1, seed=None,\n",
       "              silent=None, subsample=1, verbosity=1)"
      ]
     },
     "execution_count": 78,
     "metadata": {},
     "output_type": "execute_result"
    }
   ],
   "source": [
    "XGB_best"
   ]
  },
  {
   "cell_type": "markdown",
   "metadata": {},
   "source": [
    "#### 8.3.5. Support Vector Machines"
   ]
  },
  {
   "cell_type": "code",
   "execution_count": 79,
   "metadata": {},
   "outputs": [
    {
     "name": "stdout",
     "output_type": "stream",
     "text": [
      "Fitting 10 folds for each of 12 candidates, totalling 120 fits\n"
     ]
    },
    {
     "name": "stderr",
     "output_type": "stream",
     "text": [
      "[Parallel(n_jobs=4)]: Using backend LokyBackend with 4 concurrent workers.\n",
      "[Parallel(n_jobs=4)]: Done  76 tasks      | elapsed:    4.0s\n",
      "[Parallel(n_jobs=4)]: Done 120 out of 120 | elapsed:    6.4s finished\n"
     ]
    },
    {
     "data": {
      "text/plain": [
       "0.8316498316498316"
      ]
     },
     "execution_count": 79,
     "metadata": {},
     "output_type": "execute_result"
    }
   ],
   "source": [
    "SVMC = SVC(probability=True)\n",
    "svc_param_grid = {'kernel': ['rbf'],\n",
    "                  'gamma': [0.005, 0.01, 0.05],\n",
    "                  'C': [75, 85, 100, 125]}\n",
    "\n",
    "gsSVMC = GridSearchCV(SVMC, param_grid=svc_param_grid,\n",
    "                      cv=kfold, scoring=\"accuracy\", n_jobs=4, verbose=1)\n",
    "\n",
    "gsSVMC.fit(X_full, y_full)\n",
    "\n",
    "SVMC_best = gsSVMC.best_estimator_\n",
    "\n",
    "# Best score\n",
    "gsSVMC.best_score_"
   ]
  },
  {
   "cell_type": "code",
   "execution_count": 80,
   "metadata": {},
   "outputs": [
    {
     "data": {
      "text/plain": [
       "SVC(C=100, cache_size=200, class_weight=None, coef0=0.0,\n",
       "    decision_function_shape='ovr', degree=3, gamma=0.01, kernel='rbf',\n",
       "    max_iter=-1, probability=True, random_state=None, shrinking=True, tol=0.001,\n",
       "    verbose=False)"
      ]
     },
     "execution_count": 80,
     "metadata": {},
     "output_type": "execute_result"
    }
   ],
   "source": [
    "SVMC_best"
   ]
  },
  {
   "cell_type": "markdown",
   "metadata": {},
   "source": [
    "#### 8.3.6. Summary of Best Scores"
   ]
  },
  {
   "cell_type": "code",
   "execution_count": 81,
   "metadata": {},
   "outputs": [
    {
     "data": {
      "text/html": [
       "<div>\n",
       "<style scoped>\n",
       "    .dataframe tbody tr th:only-of-type {\n",
       "        vertical-align: middle;\n",
       "    }\n",
       "\n",
       "    .dataframe tbody tr th {\n",
       "        vertical-align: top;\n",
       "    }\n",
       "\n",
       "    .dataframe thead th {\n",
       "        text-align: right;\n",
       "    }\n",
       "</style>\n",
       "<table border=\"1\" class=\"dataframe\">\n",
       "  <thead>\n",
       "    <tr style=\"text-align: right;\">\n",
       "      <th></th>\n",
       "      <th>Scores</th>\n",
       "      <th>Algorithm</th>\n",
       "    </tr>\n",
       "  </thead>\n",
       "  <tbody>\n",
       "    <tr>\n",
       "      <td>3</td>\n",
       "      <td>0.839506</td>\n",
       "      <td>RFC</td>\n",
       "    </tr>\n",
       "    <tr>\n",
       "      <td>1</td>\n",
       "      <td>0.835017</td>\n",
       "      <td>XGB</td>\n",
       "    </tr>\n",
       "    <tr>\n",
       "      <td>4</td>\n",
       "      <td>0.832772</td>\n",
       "      <td>LR</td>\n",
       "    </tr>\n",
       "    <tr>\n",
       "      <td>0</td>\n",
       "      <td>0.831650</td>\n",
       "      <td>SVM</td>\n",
       "    </tr>\n",
       "    <tr>\n",
       "      <td>2</td>\n",
       "      <td>0.828283</td>\n",
       "      <td>LDA</td>\n",
       "    </tr>\n",
       "  </tbody>\n",
       "</table>\n",
       "</div>"
      ],
      "text/plain": [
       "     Scores Algorithm\n",
       "3  0.839506       RFC\n",
       "1  0.835017       XGB\n",
       "4  0.832772        LR\n",
       "0  0.831650       SVM\n",
       "2  0.828283       LDA"
      ]
     },
     "execution_count": 81,
     "metadata": {},
     "output_type": "execute_result"
    }
   ],
   "source": [
    "best_score = [gsSVMC.best_score_, gsXGB.best_score_,\n",
    "              gsLDA.best_score_, gsRFC.best_score_, gsLR.best_score_]\n",
    "models = ['SVM', 'XGB', 'LDA', 'RFC', 'LR']\n",
    "HT_scores = pd.DataFrame({\"Scores\": best_score, \"Algorithm\": models})\n",
    "HT_scores.sort_values(by=['Scores'], ascending=False, inplace=True)\n",
    "\n",
    "HT_scores"
   ]
  },
  {
   "cell_type": "markdown",
   "metadata": {},
   "source": [
    "### 8.4. Feature Selection Testing\n",
    "Feature selection is used for tree-based models and therefore can be applied to the XGB and RFC models tested prior. The feature importance shows which columns more heavily influence the final predictions and therefore can be important to predicting which values are indicators of survival."
   ]
  },
  {
   "cell_type": "markdown",
   "metadata": {},
   "source": [
    "#### 8.4.1. XGB Feature Selection\n",
    "The reduced dataframes show a total of 4 columns which correlate to the top nine feature importance. These include: **Title_M, Related_Large, Pclass, Deck_was_missing**."
   ]
  },
  {
   "cell_type": "code",
   "execution_count": 82,
   "metadata": {},
   "outputs": [
    {
     "data": {
      "text/plain": [
       "<matplotlib.axes._subplots.AxesSubplot at 0x1be23dfb888>"
      ]
     },
     "execution_count": 82,
     "metadata": {},
     "output_type": "execute_result"
    },
    {
     "data": {
      "image/png": "[encoded data removed]",
      "text/plain": [
       "<Figure size 360x720 with 1 Axes>"
      ]
     },
     "metadata": {
      "needs_background": "light"
     },
     "output_type": "display_data"
    }
   ],
   "source": [
    "features = pd.DataFrame()\n",
    "features['feature'] = X_full.columns\n",
    "features['importance'] = XGB_best.feature_importances_\n",
    "features.sort_values(by=['importance'], ascending=True, inplace=True)\n",
    "features.set_index('feature', inplace=True)\n",
    "\n",
    "features.plot(kind='barh', figsize=(5, 10))"
   ]
  },
  {
   "cell_type": "code",
   "execution_count": 83,
   "metadata": {},
   "outputs": [
    {
     "name": "stdout",
     "output_type": "stream",
     "text": [
      "(891, 4)\n"
     ]
    }
   ],
   "source": [
    "XGB_reduced = SelectFromModel(XGB_best, prefit=True)\n",
    "XGB_train_reduced = XGB_reduced.transform(X_full)\n",
    "print(XGB_train_reduced.shape)"
   ]
  },
  {
   "cell_type": "code",
   "execution_count": 84,
   "metadata": {},
   "outputs": [
    {
     "name": "stdout",
     "output_type": "stream",
     "text": [
      "(418, 4)\n"
     ]
    }
   ],
   "source": [
    "XGB_test_reduced = XGB_reduced.transform(titanic_test_final)\n",
    "print(XGB_test_reduced.shape)"
   ]
  },
  {
   "cell_type": "markdown",
   "metadata": {},
   "source": [
    "#### 8.4.2. RFC Feature Selection\n",
    "The reduced dataframes show a total of 9 columns which correlate to the top nine feature importance. These include: **Sex_male, Title_M, Sex_female, Pclass, Related_Large, Title_MF, Title_NF, Deck_Na, Deck_was_missing**."
   ]
  },
  {
   "cell_type": "code",
   "execution_count": 85,
   "metadata": {},
   "outputs": [
    {
     "data": {
      "text/plain": [
       "<matplotlib.axes._subplots.AxesSubplot at 0x1be23dfbd48>"
      ]
     },
     "execution_count": 85,
     "metadata": {},
     "output_type": "execute_result"
    },
    {
     "data": {
      "image/png": "[encoded data removed]",
      "text/plain": [
       "<Figure size 360x720 with 1 Axes>"
      ]
     },
     "metadata": {
      "needs_background": "light"
     },
     "output_type": "display_data"
    }
   ],
   "source": [
    "features = pd.DataFrame()\n",
    "features['feature'] = X_full.columns\n",
    "features['importance'] = RFC_best.feature_importances_\n",
    "features.sort_values(by=['importance'], ascending=True, inplace=True)\n",
    "features.set_index('feature', inplace=True)\n",
    "\n",
    "features.plot(kind='bar', figsize=(5, 10))"
   ]
  },
  {
   "cell_type": "code",
   "execution_count": 86,
   "metadata": {},
   "outputs": [
    {
     "name": "stdout",
     "output_type": "stream",
     "text": [
      "(891, 9)\n"
     ]
    }
   ],
   "source": [
    "RFC_reduced = SelectFromModel(RFC_best, prefit=True)\n",
    "RFC_train_reduced = RFC_reduced.transform(X_full)\n",
    "print(RFC_train_reduced.shape)"
   ]
  },
  {
   "cell_type": "code",
   "execution_count": 87,
   "metadata": {},
   "outputs": [
    {
     "name": "stdout",
     "output_type": "stream",
     "text": [
      "(418, 9)\n"
     ]
    }
   ],
   "source": [
    "RFC_test_reduced = RFC_reduced.transform(titanic_test_final)\n",
    "print(RFC_test_reduced.shape)"
   ]
  },
  {
   "cell_type": "markdown",
   "metadata": {},
   "source": [
    "### 8.4. Final Submission\n",
    "The final outputs are show below with the first showing all the models with their best parameters compiled through a soft voting classifier which combines each model's outputs to determine the most accurate representation of the final score. The rest are single model outputs used to compare results."
   ]
  },
  {
   "cell_type": "markdown",
   "metadata": {},
   "source": [
    "#### 8.4.1. Ensemble Model Output"
   ]
  },
  {
   "cell_type": "code",
   "execution_count": 88,
   "metadata": {},
   "outputs": [],
   "source": [
    "votingC = VotingClassifier(estimators=[(\n",
    "    'svc', SVMC_best), ('XGBfit', XGB_best), ('RFC', RFC_best)], voting='soft', n_jobs=4)\n",
    "\n",
    "votingC = votingC.fit(X_full, y_full)"
   ]
  },
  {
   "cell_type": "code",
   "execution_count": 89,
   "metadata": {},
   "outputs": [],
   "source": [
    "test_Survived = pd.Series(votingC.predict(\n",
    "    titanic_test_final).astype(int), name=\"Survived\")\n",
    "\n",
    "results = pd.DataFrame(\n",
    "    {'PassengerId': titanic_test_final.index, 'Survived': test_Survived})\n",
    "\n",
    "results.to_csv(\"Titanic_Submission_AC.csv\", index=False)"
   ]
  },
  {
   "cell_type": "markdown",
   "metadata": {},
   "source": [
    "#### 8.4.2. Reduce Features Outputs"
   ]
  },
  {
   "cell_type": "code",
   "execution_count": 90,
   "metadata": {},
   "outputs": [],
   "source": [
    "RFCfit = RFC_best.fit(RFC_train_reduced, y_full)\n",
    "\n",
    "test_Survived = pd.Series(RFCfit.predict(\n",
    "    RFC_test_reduced).astype(int), name=\"Survived\")\n",
    "\n",
    "results = pd.DataFrame(\n",
    "    {'PassengerId': titanic_test_final.index, 'Survived': test_Survived})\n",
    "\n",
    "# results.to_csv(\"Titanic_RFC_Reduced.csv\",index=False)"
   ]
  },
  {
   "cell_type": "code",
   "execution_count": 91,
   "metadata": {},
   "outputs": [],
   "source": [
    "XGBfit = XGB_best.fit(XGB_train_reduced, y_full)\n",
    "\n",
    "test_Survived = pd.Series(XGBfit.predict(\n",
    "    XGB_test_reduced).astype(int), name=\"Survived\")\n",
    "\n",
    "results = pd.DataFrame(\n",
    "    {'PassengerId': titanic_test_final.index, 'Survived': test_Survived})\n",
    "\n",
    "# results.to_csv(\"Titanic_XGB_Reduced.csv\",index=False)"
   ]
  },
  {
   "cell_type": "markdown",
   "metadata": {},
   "source": [
    "#### 8.4.3. Hyperparameter Tuned Models Outputs"
   ]
  },
  {
   "cell_type": "code",
   "execution_count": 92,
   "metadata": {},
   "outputs": [
    {
     "name": "stderr",
     "output_type": "stream",
     "text": [
      "C:\\ProgramData\\Anaconda3\\lib\\site-packages\\sklearn\\linear_model\\logistic.py:432: FutureWarning: Default solver will be changed to 'lbfgs' in 0.22. Specify a solver to silence this warning.\n",
      "  FutureWarning)\n"
     ]
    }
   ],
   "source": [
    "LRfit = LR_best.fit(X_full, y_full)\n",
    "\n",
    "test_Survived = pd.Series(LRfit.predict(\n",
    "    titanic_test_final).astype(int), name=\"Survived\")\n",
    "\n",
    "results = pd.DataFrame(\n",
    "    {'PassengerId': titanic_test_final.index, 'Survived': test_Survived})\n",
    "\n",
    "# results.to_csv(\"Titanic_LR.csv\",index=False)"
   ]
  },
  {
   "cell_type": "code",
   "execution_count": 93,
   "metadata": {},
   "outputs": [
    {
     "name": "stderr",
     "output_type": "stream",
     "text": [
      "C:\\ProgramData\\Anaconda3\\lib\\site-packages\\sklearn\\discriminant_analysis.py:388: UserWarning: Variables are collinear.\n",
      "  warnings.warn(\"Variables are collinear.\")\n"
     ]
    }
   ],
   "source": [
    "LDAfit = LDA_best.fit(X_full, y_full)\n",
    "\n",
    "test_Survived = pd.Series(LDAfit.predict(\n",
    "    titanic_test_final).astype(int), name=\"Survived\")\n",
    "\n",
    "results = pd.DataFrame(\n",
    "    {'PassengerId': titanic_test_final.index, 'Survived': test_Survived})\n",
    "\n",
    "# results.to_csv(\"Titanic_LDA.csv\",index=False)"
   ]
  },
  {
   "cell_type": "code",
   "execution_count": 94,
   "metadata": {},
   "outputs": [],
   "source": [
    "XGBfit = XGB_best.fit(X_full, y_full)\n",
    "\n",
    "test_Survived = pd.Series(XGBfit.predict(\n",
    "    titanic_test_final).astype(int), name=\"Survived\")\n",
    "\n",
    "results = pd.DataFrame(\n",
    "    {'PassengerId': titanic_test_final.index, 'Survived': test_Survived})\n",
    "\n",
    "# results.to_csv(\"Titanic_XGB.csv\",index=False)"
   ]
  },
  {
   "cell_type": "code",
   "execution_count": 95,
   "metadata": {},
   "outputs": [],
   "source": [
    "SVMfit = SVMC_best.fit(X_full, y_full)\n",
    "\n",
    "test_Survived = pd.Series(SVMfit.predict(\n",
    "    titanic_test_final).astype(int), name=\"Survived\")\n",
    "\n",
    "results = pd.DataFrame(\n",
    "    {'PassengerId': titanic_test_final.index, 'Survived': test_Survived})\n",
    "\n",
    "# results.to_csv(\"Titanic_SVM.csv\",index=False)"
   ]
  },
  {
   "cell_type": "code",
   "execution_count": 96,
   "metadata": {},
   "outputs": [],
   "source": [
    "RFCfit = RFC_best.fit(X_full, y_full)\n",
    "\n",
    "test_Survived = pd.Series(RFCfit.predict(\n",
    "    titanic_test_final).astype(int), name=\"Survived\")\n",
    "\n",
    "results = pd.DataFrame(\n",
    "    {'PassengerId': titanic_test_final.index, 'Survived': test_Survived})\n",
    "\n",
    "# results.to_csv(\"Titanic_RFC.csv\",index=False)"
   ]
  },
  {
   "cell_type": "markdown",
   "metadata": {},
   "source": [
    "# References"
   ]
  },
  {
   "cell_type": "markdown",
   "metadata": {},
   "source": [
    "###### \"Ace the Titanic Kaggle Challenge\" (@ahmedbesbes)**\n",
    "    https://github.com/ahmedbesbes/gatsby-blog/blob/master/content/blog/1-ace-the-titanic-kaggle-challenge/index.md\n",
    "###### \"Titanic Top 4% with ensemble modeling\" (@yassineghouzam)\n",
    "    https://www.kaggle.com/yassineghouzam/titanic-top-4-with-ensemble-modeling\n",
    "###### \"Titanic Data Science Solutions\" (@Manav Sehgal)\n",
    "    https://www.kaggle.com/startupsci/titanic-data-science-solutions\n"
   ]
  }
 ],
 "metadata": {
  "celltoolbar": "Raw Cell Format",
  "kernelspec": {
   "display_name": "py_36_env",
   "language": "python",
   "name": "py_36_env"
  },
  "language_info": {
   "codemirror_mode": {
    "name": "ipython",
    "version": 3
   },
   "file_extension": ".py",
   "mimetype": "text/x-python",
   "name": "python",
   "nbconvert_exporter": "python",
   "pygments_lexer": "ipython3",
   "version": "3.7.4"
  },
  "toc": {
   "base_numbering": 1,
   "nav_menu": {
    "height": "649px",
    "width": "228px"
   },
   "number_sections": true,
   "sideBar": true,
   "skip_h1_title": false,
   "title_cell": "Table of Contents",
   "title_sidebar": "Contents",
   "toc_cell": false,
   "toc_position": {},
   "toc_section_display": true,
   "toc_window_display": false
  }
 },
 "nbformat": 4,
 "nbformat_minor": 2
}
